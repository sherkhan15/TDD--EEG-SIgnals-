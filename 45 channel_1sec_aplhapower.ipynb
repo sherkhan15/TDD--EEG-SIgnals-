{
 "cells": [
  {
   "cell_type": "code",
   "execution_count": 2,
   "metadata": {},
   "outputs": [
    {
     "name": "stdout",
     "output_type": "stream",
     "text": [
      "Number of rows and columns: (8391, 46)\n"
     ]
    },
    {
     "data": {
      "text/html": [
       "<div>\n",
       "<style scoped>\n",
       "    .dataframe tbody tr th:only-of-type {\n",
       "        vertical-align: middle;\n",
       "    }\n",
       "\n",
       "    .dataframe tbody tr th {\n",
       "        vertical-align: top;\n",
       "    }\n",
       "\n",
       "    .dataframe thead th {\n",
       "        text-align: right;\n",
       "    }\n",
       "</style>\n",
       "<table border=\"1\" class=\"dataframe\">\n",
       "  <thead>\n",
       "    <tr style=\"text-align: right;\">\n",
       "      <th></th>\n",
       "      <th>0.99694</th>\n",
       "      <th>1.2771</th>\n",
       "      <th>1.29</th>\n",
       "      <th>0.16234</th>\n",
       "      <th>0.21899</th>\n",
       "      <th>0.63294</th>\n",
       "      <th>1.8593</th>\n",
       "      <th>2.4524</th>\n",
       "      <th>0.18744</th>\n",
       "      <th>0.59947</th>\n",
       "      <th>...</th>\n",
       "      <th>0.0033433</th>\n",
       "      <th>3.0989</th>\n",
       "      <th>1.9315</th>\n",
       "      <th>0.029908</th>\n",
       "      <th>0.94401</th>\n",
       "      <th>0.31607</th>\n",
       "      <th>0.021917</th>\n",
       "      <th>0.28851</th>\n",
       "      <th>1.4024</th>\n",
       "      <th>1</th>\n",
       "    </tr>\n",
       "  </thead>\n",
       "  <tbody>\n",
       "    <tr>\n",
       "      <th>0</th>\n",
       "      <td>1.1828</td>\n",
       "      <td>1.9242</td>\n",
       "      <td>2.8995</td>\n",
       "      <td>1.1328</td>\n",
       "      <td>1.1381</td>\n",
       "      <td>0.8316</td>\n",
       "      <td>1.4732</td>\n",
       "      <td>2.1772</td>\n",
       "      <td>1.2965</td>\n",
       "      <td>0.8767</td>\n",
       "      <td>...</td>\n",
       "      <td>0.0288</td>\n",
       "      <td>0.7712</td>\n",
       "      <td>1.8169</td>\n",
       "      <td>0.0227</td>\n",
       "      <td>0.9729</td>\n",
       "      <td>0.1136</td>\n",
       "      <td>0.0120</td>\n",
       "      <td>0.2226</td>\n",
       "      <td>1.5662</td>\n",
       "      <td>1</td>\n",
       "    </tr>\n",
       "    <tr>\n",
       "      <th>1</th>\n",
       "      <td>0.4590</td>\n",
       "      <td>0.6398</td>\n",
       "      <td>0.5279</td>\n",
       "      <td>0.4330</td>\n",
       "      <td>0.3289</td>\n",
       "      <td>0.3059</td>\n",
       "      <td>0.3903</td>\n",
       "      <td>0.6460</td>\n",
       "      <td>0.3342</td>\n",
       "      <td>0.3659</td>\n",
       "      <td>...</td>\n",
       "      <td>0.0040</td>\n",
       "      <td>1.5338</td>\n",
       "      <td>1.1425</td>\n",
       "      <td>0.0715</td>\n",
       "      <td>1.1773</td>\n",
       "      <td>0.1614</td>\n",
       "      <td>0.0286</td>\n",
       "      <td>0.7094</td>\n",
       "      <td>1.5953</td>\n",
       "      <td>1</td>\n",
       "    </tr>\n",
       "    <tr>\n",
       "      <th>2</th>\n",
       "      <td>0.2514</td>\n",
       "      <td>0.1832</td>\n",
       "      <td>0.3263</td>\n",
       "      <td>0.7101</td>\n",
       "      <td>0.8187</td>\n",
       "      <td>0.9366</td>\n",
       "      <td>0.7477</td>\n",
       "      <td>1.0315</td>\n",
       "      <td>0.9627</td>\n",
       "      <td>1.0368</td>\n",
       "      <td>...</td>\n",
       "      <td>0.0115</td>\n",
       "      <td>1.5250</td>\n",
       "      <td>1.9702</td>\n",
       "      <td>0.0283</td>\n",
       "      <td>1.4815</td>\n",
       "      <td>0.1929</td>\n",
       "      <td>0.0263</td>\n",
       "      <td>0.3866</td>\n",
       "      <td>1.1761</td>\n",
       "      <td>1</td>\n",
       "    </tr>\n",
       "    <tr>\n",
       "      <th>3</th>\n",
       "      <td>1.8005</td>\n",
       "      <td>1.0644</td>\n",
       "      <td>1.3403</td>\n",
       "      <td>0.3815</td>\n",
       "      <td>0.3406</td>\n",
       "      <td>0.3428</td>\n",
       "      <td>0.6530</td>\n",
       "      <td>0.9447</td>\n",
       "      <td>0.3637</td>\n",
       "      <td>0.3651</td>\n",
       "      <td>...</td>\n",
       "      <td>0.0050</td>\n",
       "      <td>0.6423</td>\n",
       "      <td>1.3997</td>\n",
       "      <td>0.0174</td>\n",
       "      <td>0.9630</td>\n",
       "      <td>0.1454</td>\n",
       "      <td>0.0476</td>\n",
       "      <td>0.5132</td>\n",
       "      <td>1.8160</td>\n",
       "      <td>1</td>\n",
       "    </tr>\n",
       "    <tr>\n",
       "      <th>4</th>\n",
       "      <td>0.9944</td>\n",
       "      <td>0.3665</td>\n",
       "      <td>0.4925</td>\n",
       "      <td>0.5049</td>\n",
       "      <td>0.5882</td>\n",
       "      <td>0.6795</td>\n",
       "      <td>1.5906</td>\n",
       "      <td>1.8862</td>\n",
       "      <td>0.3102</td>\n",
       "      <td>0.6937</td>\n",
       "      <td>...</td>\n",
       "      <td>0.0214</td>\n",
       "      <td>1.4546</td>\n",
       "      <td>2.2594</td>\n",
       "      <td>0.0339</td>\n",
       "      <td>1.0201</td>\n",
       "      <td>0.2651</td>\n",
       "      <td>0.0132</td>\n",
       "      <td>0.5288</td>\n",
       "      <td>0.9520</td>\n",
       "      <td>1</td>\n",
       "    </tr>\n",
       "  </tbody>\n",
       "</table>\n",
       "<p>5 rows × 46 columns</p>\n",
       "</div>"
      ],
      "text/plain": [
       "   0.99694  1.2771   1.29  0.16234  0.21899  0.63294  1.8593  2.4524  0.18744  \\\n",
       "0   1.1828  1.9242 2.8995   1.1328   1.1381   0.8316  1.4732  2.1772   1.2965   \n",
       "1   0.4590  0.6398 0.5279   0.4330   0.3289   0.3059  0.3903  0.6460   0.3342   \n",
       "2   0.2514  0.1832 0.3263   0.7101   0.8187   0.9366  0.7477  1.0315   0.9627   \n",
       "3   1.8005  1.0644 1.3403   0.3815   0.3406   0.3428  0.6530  0.9447   0.3637   \n",
       "4   0.9944  0.3665 0.4925   0.5049   0.5882   0.6795  1.5906  1.8862   0.3102   \n",
       "\n",
       "   0.59947  ...  0.0033433  3.0989  1.9315  0.029908  0.94401  0.31607  \\\n",
       "0   0.8767  ...     0.0288  0.7712  1.8169    0.0227   0.9729   0.1136   \n",
       "1   0.3659  ...     0.0040  1.5338  1.1425    0.0715   1.1773   0.1614   \n",
       "2   1.0368  ...     0.0115  1.5250  1.9702    0.0283   1.4815   0.1929   \n",
       "3   0.3651  ...     0.0050  0.6423  1.3997    0.0174   0.9630   0.1454   \n",
       "4   0.6937  ...     0.0214  1.4546  2.2594    0.0339   1.0201   0.2651   \n",
       "\n",
       "   0.021917  0.28851  1.4024  1  \n",
       "0    0.0120   0.2226  1.5662  1  \n",
       "1    0.0286   0.7094  1.5953  1  \n",
       "2    0.0263   0.3866  1.1761  1  \n",
       "3    0.0476   0.5132  1.8160  1  \n",
       "4    0.0132   0.5288  0.9520  1  \n",
       "\n",
       "[5 rows x 46 columns]"
      ]
     },
     "execution_count": 2,
     "metadata": {},
     "output_type": "execute_result"
    }
   ],
   "source": [
    "import numpy as np\n",
    "import matplotlib.pyplot as plt\n",
    "import pandas as pd\n",
    "pd.set_option('display.float_format', lambda x: '%.4f' % x)\n",
    "import seaborn as sns\n",
    "sns.set_context(\"paper\", font_scale=1.3)\n",
    "sns.set_style('white')\n",
    "import warnings\n",
    "warnings.filterwarnings('ignore')\n",
    "from sklearn import preprocessing\n",
    "import tensorflow as tf\n",
    "%matplotlib inline\n",
    "import math\n",
    "import keras\n",
    "from keras.models import Sequential\n",
    "from keras.layers import Dense\n",
    "from keras.layers import LSTM\n",
    "from keras.layers import Dropout\n",
    "from keras.layers import *\n",
    "from sklearn.preprocessing import MinMaxScaler\n",
    "\n",
    "from keras.callbacks import EarlyStopping\n",
    "\n",
    "import sklearn\n",
    "from sklearn.preprocessing import StandardScaler\n",
    "df=pd.read_csv('45 channel 1sec alphapower with labels.csv')\n",
    "\n",
    "\n",
    "print('Number of rows and columns:', df.shape)\n",
    "df.head(5)\n"
   ]
  },
  {
   "cell_type": "markdown",
   "metadata": {},
   "source": [
    "\n",
    "\n",
    "**Labelling COLUMNS**"
   ]
  },
  {
   "cell_type": "code",
   "execution_count": 3,
   "metadata": {},
   "outputs": [
    {
     "name": "stdout",
     "output_type": "stream",
     "text": [
      "Index(['0.99694', '1.2771', '1.29', '0.16234', '0.21899', '0.63294', '1.8593',\n",
      "       '2.4524', '0.18744', '0.59947', '0.76399', '2.4999', '0.20165',\n",
      "       '0.64587', '2.4696', '0.30758', '0.0086502', '0.75937', '0.80735',\n",
      "       '0.44883', '0.2202', '0.048213', '0.56816', '2.22', '0.13759',\n",
      "       '0.22783', '2.3247', '3.8245', '0.16294', '0.45981', '0.63093',\n",
      "       '2.5048', '0.22467', '0.6429', '2.6522', '1.4054', '0.0033433',\n",
      "       '3.0989', '1.9315', '0.029908', '0.94401', '0.31607', '0.021917',\n",
      "       '0.28851', '1.4024', '1'],\n",
      "      dtype='object')\n"
     ]
    }
   ],
   "source": [
    "print(df.columns)"
   ]
  },
  {
   "cell_type": "code",
   "execution_count": 4,
   "metadata": {},
   "outputs": [],
   "source": [
    "new_names = {'0.99694':'a', '1.2771':'b', '1.29':'c', '0.16234':'cd', '0.21899':'d','0.63294':'de','1.8593':'e','2.4524':'f','0.18744':'g',\n",
    "       '0.59947':'l', '0.76399':'m', '2.4999':'n', '0.20165':'o', '0.64587':'p', '2.4696':'q', '0.30758':'r',\n",
    "       '0.0086502':'s', '0.75937':'t', '0.80735':'u', '0.44883':'v', '0.2202':'w', '0.048213':'x', '0.56816':'y',\n",
    "       '2.22':'z', '0.13759':'aa', '0.22783':'bb', '2.3247':'cc', '3.8245':'dd', '0.16294':'ee',\n",
    "       '0.45981':'ff', '0.63093':'gg', '2.5048':'hh', '0.22467':'ii', '0.6429':'jj', '2.6522':'kk',\n",
    "       '1.4054':'ll', '0.0033433':'mm', '3.0989':'nn', '1.9315':'oo', '0.029908':'pp', '0.94401':'qq',\n",
    "       '0.31607':'rr','0.021917':'j',\n",
    "       '0.28851':'k','1.4024':'h','1':'labels'}\n",
    "df= df.rename(index=str, columns=new_names)"
   ]
  },
  {
   "cell_type": "markdown",
   "metadata": {},
   "source": [
    "***Checking any null Values***"
   ]
  },
  {
   "cell_type": "code",
   "execution_count": 5,
   "metadata": {},
   "outputs": [
    {
     "name": "stdout",
     "output_type": "stream",
     "text": [
      "<class 'pandas.core.frame.DataFrame'>\n",
      "Index: 8391 entries, 0 to 8390\n",
      "Data columns (total 46 columns):\n",
      "a         8391 non-null float64\n",
      "b         8391 non-null float64\n",
      "c         8391 non-null float64\n",
      "cd        8391 non-null float64\n",
      "d         8391 non-null float64\n",
      "de        8391 non-null float64\n",
      "e         8391 non-null float64\n",
      "f         8391 non-null float64\n",
      "g         8391 non-null float64\n",
      "l         8391 non-null float64\n",
      "m         8391 non-null float64\n",
      "n         8391 non-null float64\n",
      "o         8391 non-null float64\n",
      "p         8391 non-null float64\n",
      "q         8391 non-null float64\n",
      "r         8391 non-null float64\n",
      "s         8391 non-null float64\n",
      "t         8391 non-null float64\n",
      "u         8391 non-null float64\n",
      "v         8391 non-null float64\n",
      "w         8391 non-null float64\n",
      "x         8391 non-null float64\n",
      "y         8391 non-null float64\n",
      "z         8391 non-null float64\n",
      "aa        8391 non-null float64\n",
      "bb        8391 non-null float64\n",
      "cc        8391 non-null float64\n",
      "dd        8391 non-null float64\n",
      "ee        8391 non-null float64\n",
      "ff        8391 non-null float64\n",
      "gg        8391 non-null float64\n",
      "hh        8391 non-null float64\n",
      "ii        8391 non-null float64\n",
      "jj        8391 non-null float64\n",
      "kk        8391 non-null float64\n",
      "ll        8391 non-null float64\n",
      "mm        8391 non-null float64\n",
      "nn        8391 non-null float64\n",
      "oo        8391 non-null float64\n",
      "pp        8391 non-null float64\n",
      "qq        8391 non-null float64\n",
      "rr        8391 non-null float64\n",
      "j         8391 non-null float64\n",
      "k         8391 non-null float64\n",
      "h         8391 non-null float64\n",
      "labels    8391 non-null int64\n",
      "dtypes: float64(45), int64(1)\n",
      "memory usage: 3.0+ MB\n"
     ]
    }
   ],
   "source": [
    "\n",
    "df.info()\n"
   ]
  },
  {
   "cell_type": "code",
   "execution_count": 6,
   "metadata": {},
   "outputs": [
    {
     "name": "stdout",
     "output_type": "stream",
     "text": [
      "              a         b         c        cd         d        de         e  \\\n",
      "count 8391.0000 8391.0000 8391.0000 8391.0000 8391.0000 8391.0000 8391.0000   \n",
      "mean     4.6802    4.2667    4.3584    9.9965    6.2958    6.8694    6.5452   \n",
      "std      6.8237    6.2223    5.6587   13.9601    9.5182   10.7468   10.6807   \n",
      "min      0.0830    0.1225    0.0887    0.0486    0.0526    0.0711    0.1718   \n",
      "25%      1.3498    1.2386    1.5131    2.6776    1.6409    1.5808    1.9797   \n",
      "50%      2.5578    2.2660    2.7031    5.6476    3.4233    3.4178    3.7687   \n",
      "75%      5.2588    4.5851    5.0873   11.6425    7.1550    7.5054    7.4836   \n",
      "max    113.9300   78.9150  148.4300  213.7000  197.3300  163.5600  580.6000   \n",
      "\n",
      "              f         g         l         m         n         o         p  \\\n",
      "count 8391.0000 8391.0000 8391.0000 8391.0000 8391.0000 8391.0000 8391.0000   \n",
      "mean     8.3027    8.4731    5.6477    5.2778    8.5688    6.3714    2.9178   \n",
      "std      9.9361   12.6779    8.4537    7.8964   13.8932    9.2255    4.6272   \n",
      "min      0.1975    0.0451    0.0437    0.0752    0.1743    0.0552    0.0039   \n",
      "25%      2.7668    2.1542    1.4284    1.5070    2.2561    1.5994    0.6868   \n",
      "50%      5.2825    4.4320    3.0322    2.8859    4.3177    3.3646    1.4399   \n",
      "75%      9.8542    9.4009    6.4627    5.8964    8.7904    7.3303    3.3522   \n",
      "max    166.1200  204.9400  152.7600  198.1700  292.1900  149.8000  194.8800   \n",
      "\n",
      "              q         r         s         t         u         v         w  \\\n",
      "count 8391.0000 8391.0000 8391.0000 8391.0000 8391.0000 8391.0000 8391.0000   \n",
      "mean     6.4251    9.1828    1.8225    1.9008    8.9015   12.8489    5.1841   \n",
      "std      9.8836   14.1087    2.6499    8.7051   17.4686   23.1569    7.4889   \n",
      "min      0.1021    0.0240    0.0017    0.0025    0.1766    0.0401    0.0194   \n",
      "25%      1.5915    2.4329    0.5141    0.3774    2.2574    3.5466    1.4298   \n",
      "50%      3.1231    4.8164    1.0408    0.8125    4.1048    6.7161    2.8792   \n",
      "75%      6.8908   10.2410    2.1988    1.9148    8.2540   13.5305    5.9505   \n",
      "max    186.4100  277.0400  130.9500  748.9700  338.5000  525.0100  131.1100   \n",
      "\n",
      "              x         y         z        aa        bb        cc        dd  \\\n",
      "count 8391.0000 8391.0000 8391.0000 8391.0000 8391.0000 8391.0000 8391.0000   \n",
      "mean     2.0730    5.8229   11.6208    6.1208    5.1241    4.7996    5.9432   \n",
      "std      3.6927   12.2052   19.1184    7.9642    8.2256    6.8268    6.2438   \n",
      "min      0.0022    0.0168    0.0522    0.0592    0.0244    0.0424    0.1220   \n",
      "25%      0.4578    1.5770    3.5038    1.9134    1.1831    1.4672    2.3216   \n",
      "50%      1.1188    3.1188    6.6392    3.7472    2.5507    2.7535    4.1641   \n",
      "75%      2.2748    6.4389   12.2875    7.1729    5.7154    5.4247    7.4270   \n",
      "max    160.9000  794.7400  410.1300  137.7100  142.7400  156.2700  155.8800   \n",
      "\n",
      "             ee        ff        gg        hh        ii        jj        kk  \\\n",
      "count 8391.0000 8391.0000 8391.0000 8391.0000 8391.0000 8391.0000 8391.0000   \n",
      "mean     6.4478    5.9480    5.7545    6.8943    7.0386    6.5667    6.4546   \n",
      "std      9.7301    9.2921    8.3078    9.7839   10.1620   19.6399    9.6079   \n",
      "min      0.0387    0.0608    0.0538    0.1787    0.0532    0.0485    0.1093   \n",
      "25%      1.5922    1.5175    1.5939    2.0110    1.7255    1.5367    1.6470   \n",
      "50%      3.5389    3.1956    3.2455    3.9024    3.7774    3.4166    3.2184   \n",
      "75%      7.5072    6.7355    6.4824    7.7185    8.3518    7.5095    7.0252   \n",
      "max    161.8900  193.5100  159.9900  175.4500  217.4400 1587.7000  190.1900   \n",
      "\n",
      "             ll        mm        nn        oo        pp        qq        rr  \\\n",
      "count 8391.0000 8391.0000 8391.0000 8391.0000 8391.0000 8391.0000 8391.0000   \n",
      "mean     9.0035    3.4984    4.0486    9.0976    4.3589    4.5887    9.0030   \n",
      "std     13.5216    4.9117    7.3413   14.6223    6.7074   10.7114   15.2401   \n",
      "min      0.1109    0.0013    0.0292    0.0774    0.0032    0.0342    0.0280   \n",
      "25%      2.1903    0.8337    0.7587    2.3615    0.9122    1.0600    2.5579   \n",
      "50%      4.5359    1.9009    1.6726    4.5799    2.0786    2.2758    5.0263   \n",
      "75%      9.9821    4.1982    4.0774    9.7905    5.0147    4.9264    9.7321   \n",
      "max    243.9200  152.5100  187.7700  258.3000  139.4100  743.2300  386.4200   \n",
      "\n",
      "              j         k         h    labels  \n",
      "count 8391.0000 8391.0000 8391.0000 8391.0000  \n",
      "mean     4.2128    3.3459    9.2128    0.4244  \n",
      "std      5.5405    4.6758   19.4096    0.4943  \n",
      "min      0.0033    0.0064    0.0298    0.0000  \n",
      "25%      1.1447    0.9323    2.0317    0.0000  \n",
      "50%      2.5133    1.9996    4.3536    0.0000  \n",
      "75%      5.1196    4.1178    8.5585    1.0000  \n",
      "max    129.1700  157.3100  322.0000    1.0000  \n"
     ]
    }
   ],
   "source": [
    "pd.set_option('display.max_columns', None)\n",
    "print(df.describe())\n",
    "\n"
   ]
  },
  {
   "cell_type": "markdown",
   "metadata": {},
   "source": [
    "***spliting the file in the data and target class***"
   ]
  },
  {
   "cell_type": "code",
   "execution_count": 8,
   "metadata": {},
   "outputs": [],
   "source": [
    "data = df.iloc[:,:-1].values.tolist()\n",
    "target = df.iloc[:,-1].tolist()"
   ]
  },
  {
   "cell_type": "code",
   "execution_count": 9,
   "metadata": {},
   "outputs": [
    {
     "name": "stderr",
     "output_type": "stream",
     "text": [
      "IOPub data rate exceeded.\n",
      "The notebook server will temporarily stop sending output\n",
      "to the client in order to avoid crashing it.\n",
      "To change this limit, set the config variable\n",
      "`--NotebookApp.iopub_data_rate_limit`.\n",
      "\n",
      "Current values:\n",
      "NotebookApp.iopub_data_rate_limit=1000000.0 (bytes/sec)\n",
      "NotebookApp.rate_limit_window=3.0 (secs)\n",
      "\n"
     ]
    }
   ],
   "source": [
    "\n",
    "print(data)\n",
    "print(target)"
   ]
  },
  {
   "cell_type": "markdown",
   "metadata": {},
   "source": [
    "**heatmap**"
   ]
  },
  {
   "cell_type": "code",
   "execution_count": 10,
   "metadata": {},
   "outputs": [
    {
     "data": {
      "text/plain": [
       "Text(0.5, 1.0, 'Correlation of Variables')"
      ]
     },
     "execution_count": 10,
     "metadata": {},
     "output_type": "execute_result"
    },
    {
     "data": {
      "image/png": "[encoded data removed]",
      "text/plain": [
       "<Figure size 1440x1440 with 2 Axes>"
      ]
     },
     "metadata": {
      "needs_background": "light"
     },
     "output_type": "display_data"
    }
   ],
   "source": [
    "col_list = df.columns\n",
    "fig, ax = plt.subplots(figsize=(20,20))  \n",
    "sns.heatmap(df[col_list].corr(),square=True,linewidths=1)\n",
    "plt.title('Correlation of Variables')"
   ]
  },
  {
   "cell_type": "markdown",
   "metadata": {},
   "source": [
    "**Normalizing**"
   ]
  },
  {
   "cell_type": "code",
   "execution_count": 11,
   "metadata": {},
   "outputs": [],
   "source": [
    "from sklearn import preprocessing\n",
    "from sklearn.model_selection import train_test_split\n",
    "x =df[df.columns[:46]]\n",
    "y =df.labels\n",
    "x_train, x_test, y_train, y_test = train_test_split(x, y , train_size = 0.7, random_state =  90)"
   ]
  },
  {
   "cell_type": "markdown",
   "metadata": {},
   "source": [
    " **Select numerical columns which needs to be normalized**"
   ]
  },
  {
   "cell_type": "code",
   "execution_count": 12,
   "metadata": {},
   "outputs": [],
   "source": [
    "train_norm = x_train[x_train.columns[0:20]]\n",
    "test_norm = x_test[x_test.columns[0:20]]"
   ]
  },
  {
   "cell_type": "markdown",
   "metadata": {},
   "source": [
    "**Normalize Training Data**"
   ]
  },
  {
   "cell_type": "code",
   "execution_count": 13,
   "metadata": {},
   "outputs": [],
   "source": [
    "std_scale = preprocessing.StandardScaler().fit(train_norm)\n",
    "x_train_norm = std_scale.transform(train_norm)"
   ]
  },
  {
   "cell_type": "markdown",
   "metadata": {},
   "source": [
    "**Converting numpy array to dataframe**"
   ]
  },
  {
   "cell_type": "code",
   "execution_count": 14,
   "metadata": {},
   "outputs": [
    {
     "name": "stdout",
     "output_type": "stream",
     "text": [
      "           a       b       c      cd       d      de       e       f       g  \\\n",
      "1585 -0.5748 -0.4787 -0.2599 -0.6289 -0.1540 -0.2974 -0.6624 -0.7507 -0.3166   \n",
      "992   1.0258  3.2366  1.4176  1.7573  0.6760  3.8685  0.6962  3.2112 -0.3730   \n",
      "8204 -0.5763 -0.3979 -0.1967  0.1379 -0.1350  0.2426  0.1671  0.2782  0.2150   \n",
      "4674 -0.3730 -0.5120 -0.4240 -0.4127 -0.3273 -0.3116 -0.3285 -0.6362 -0.6031   \n",
      "3593 -0.3469 -0.2392 -0.3240  0.0138 -0.3437 -0.0071  0.6145 -0.0532 -0.2828   \n",
      "\n",
      "           l       m       n       o       p       q       r       s       t  \\\n",
      "1585  0.2628 -0.5139 -0.5725 -0.1788 -0.2283 -0.3700 -0.5307 -0.3675 -0.0486   \n",
      "992   0.5697 -0.1601 -0.4528  1.2586 -0.0327 -0.3804  0.0999 -0.1287  0.3253   \n",
      "8204  0.2954  0.4892 -0.0405 -0.0840  0.3897  1.5561  1.7825  0.1658  0.8437   \n",
      "4674 -0.4356 -0.2168 -0.2775 -0.1420 -0.4426  0.3868 -0.4609  0.7285  0.0737   \n",
      "3593 -0.4140  0.2806  0.0433 -0.3328 -0.1253  0.3186 -0.3405 -0.2425 -0.1423   \n",
      "\n",
      "           u       v      w      x       y       z      aa      bb     cc  \\\n",
      "1585 -0.3957 -0.4268 1.2677 2.6652  4.5598  7.4755  0.9029  2.4814 0.8799   \n",
      "992   0.3710 -0.1632 5.1223 6.9198 13.3770  4.5502 12.6350 22.1720 2.9892   \n",
      "8204  2.2773  0.2108 9.3477 1.1208 14.8130 22.5770  3.8618  5.0099 6.2955   \n",
      "4674 -0.2038 -0.5229 3.8100 0.8179  2.9421  4.8181  3.4189  1.2427 2.8499   \n",
      "3593 -0.3007 -0.2288 3.4216 1.2679  1.7081  6.6163  5.6075  4.1069 8.2194   \n",
      "\n",
      "          dd     ee     ff     gg      hh      ii      jj     kk      ll  \\\n",
      "1585  1.0507 3.0642 5.5381 3.2306  0.9108  8.2316  3.1882 0.9995  2.3103   \n",
      "992  19.0040 2.7304 4.2847 4.1959 17.9650 11.0260 10.7050 1.2712  3.2647   \n",
      "8204  7.5109 3.9399 4.9044 9.7053  8.1579  5.3447  9.4798 6.6322 29.2710   \n",
      "4674  5.5722 4.5349 2.9519 3.0385  5.8947  1.0269  3.2377 4.1966  1.7666   \n",
      "3593  4.0425 5.8979 3.3224 9.7416 11.2340  1.6252  7.4624 9.7561  3.3173   \n",
      "\n",
      "          mm      nn      oo      pp      qq      rr       j      k       h  \\\n",
      "1585  2.9461  1.2151  2.7254  1.9871  2.2612  2.7194  1.4597 4.0352  3.2845   \n",
      "992  20.5180 23.4950 11.4360  0.5997  1.2247 21.2440 12.5060 4.0373  0.8357   \n",
      "8204  3.6616  9.4356 36.4680 16.3040 40.0890  8.6478  8.3113 5.7913 24.0150   \n",
      "4674  2.2010  4.2802  9.4173  7.3695  8.9857  3.7818  4.1858 1.4933  4.5075   \n",
      "3593  0.7745  5.0175  6.2512  4.5058  4.4697  9.2038  4.0098 2.0353  3.5501   \n",
      "\n",
      "      labels  \n",
      "1585       1  \n",
      "992        1  \n",
      "8204       1  \n",
      "4674       1  \n",
      "3593       1  \n"
     ]
    }
   ],
   "source": [
    "training_norm_col = pd.DataFrame(x_train_norm, index=train_norm.index, columns=train_norm.columns) \n",
    "x_train.update(training_norm_col)\n",
    "print (x_train.head())"
   ]
  },
  {
   "cell_type": "markdown",
   "metadata": {},
   "source": [
    "**Normalize Testing Data by using mean and SD of training set**"
   ]
  },
  {
   "cell_type": "code",
   "execution_count": 15,
   "metadata": {},
   "outputs": [
    {
     "name": "stdout",
     "output_type": "stream",
     "text": [
      "           a       b       c      cd       d      de       e       f       g  \\\n",
      "1585 -0.5748 -0.4787 -0.2599 -0.6289 -0.1540 -0.2974 -0.6624 -0.7507 -0.3166   \n",
      "992   1.0258  3.2366  1.4176  1.7573  0.6760  3.8685  0.6962  3.2112 -0.3730   \n",
      "8204 -0.5763 -0.3979 -0.1967  0.1379 -0.1350  0.2426  0.1671  0.2782  0.2150   \n",
      "4674 -0.3730 -0.5120 -0.4240 -0.4127 -0.3273 -0.3116 -0.3285 -0.6362 -0.6031   \n",
      "3593 -0.3469 -0.2392 -0.3240  0.0138 -0.3437 -0.0071  0.6145 -0.0532 -0.2828   \n",
      "\n",
      "           l       m       n       o       p       q       r       s       t  \\\n",
      "1585  0.2628 -0.5139 -0.5725 -0.1788 -0.2283 -0.3700 -0.5307 -0.3675 -0.0486   \n",
      "992   0.5697 -0.1601 -0.4528  1.2586 -0.0327 -0.3804  0.0999 -0.1287  0.3253   \n",
      "8204  0.2954  0.4892 -0.0405 -0.0840  0.3897  1.5561  1.7825  0.1658  0.8437   \n",
      "4674 -0.4356 -0.2168 -0.2775 -0.1420 -0.4426  0.3868 -0.4609  0.7285  0.0737   \n",
      "3593 -0.4140  0.2806  0.0433 -0.3328 -0.1253  0.3186 -0.3405 -0.2425 -0.1423   \n",
      "\n",
      "           u       v      w      x       y       z      aa      bb     cc  \\\n",
      "1585 -0.3957 -0.4268 1.2677 2.6652  4.5598  7.4755  0.9029  2.4814 0.8799   \n",
      "992   0.3710 -0.1632 5.1223 6.9198 13.3770  4.5502 12.6350 22.1720 2.9892   \n",
      "8204  2.2773  0.2108 9.3477 1.1208 14.8130 22.5770  3.8618  5.0099 6.2955   \n",
      "4674 -0.2038 -0.5229 3.8100 0.8179  2.9421  4.8181  3.4189  1.2427 2.8499   \n",
      "3593 -0.3007 -0.2288 3.4216 1.2679  1.7081  6.6163  5.6075  4.1069 8.2194   \n",
      "\n",
      "          dd     ee     ff     gg      hh      ii      jj     kk      ll  \\\n",
      "1585  1.0507 3.0642 5.5381 3.2306  0.9108  8.2316  3.1882 0.9995  2.3103   \n",
      "992  19.0040 2.7304 4.2847 4.1959 17.9650 11.0260 10.7050 1.2712  3.2647   \n",
      "8204  7.5109 3.9399 4.9044 9.7053  8.1579  5.3447  9.4798 6.6322 29.2710   \n",
      "4674  5.5722 4.5349 2.9519 3.0385  5.8947  1.0269  3.2377 4.1966  1.7666   \n",
      "3593  4.0425 5.8979 3.3224 9.7416 11.2340  1.6252  7.4624 9.7561  3.3173   \n",
      "\n",
      "          mm      nn      oo      pp      qq      rr       j      k       h  \\\n",
      "1585  2.9461  1.2151  2.7254  1.9871  2.2612  2.7194  1.4597 4.0352  3.2845   \n",
      "992  20.5180 23.4950 11.4360  0.5997  1.2247 21.2440 12.5060 4.0373  0.8357   \n",
      "8204  3.6616  9.4356 36.4680 16.3040 40.0890  8.6478  8.3113 5.7913 24.0150   \n",
      "4674  2.2010  4.2802  9.4173  7.3695  8.9857  3.7818  4.1858 1.4933  4.5075   \n",
      "3593  0.7745  5.0175  6.2512  4.5058  4.4697  9.2038  4.0098 2.0353  3.5501   \n",
      "\n",
      "      labels  \n",
      "1585       1  \n",
      "992        1  \n",
      "8204       1  \n",
      "4674       1  \n",
      "3593       1  \n"
     ]
    }
   ],
   "source": [
    "x_test_norm = std_scale.transform(test_norm)\n",
    "testing_norm_col = pd.DataFrame(x_test_norm, index=test_norm.index, columns=test_norm.columns) \n",
    "x_test.update(testing_norm_col)\n",
    "print (x_train.head())"
   ]
  },
  {
   "cell_type": "markdown",
   "metadata": {},
   "source": [
    "**Support vector machine**"
   ]
  },
  {
   "cell_type": "code",
   "execution_count": 16,
   "metadata": {},
   "outputs": [],
   "source": [
    "import numpy\n",
    "from sklearn.svm import SVC\n",
    "from sklearn.model_selection import train_test_split\n",
    "from sklearn.metrics import confusion_matrix\n",
    "from sklearn.metrics import accuracy_score"
   ]
  },
  {
   "cell_type": "code",
   "execution_count": 17,
   "metadata": {},
   "outputs": [
    {
     "name": "stdout",
     "output_type": "stream",
     "text": [
      "[[2816  103]\n",
      " [2023   93]]\n",
      "Accuracy score : \n",
      "57.77557100297914\n"
     ]
    }
   ],
   "source": [
    "def svm_classifier(): \n",
    "    file_x = '45 channel 1sec alphapower.csv'\n",
    "    file_y = 'Label.csv'\n",
    "    \n",
    "    X = data\n",
    "    y = target\n",
    "    # Split the data into training/testing sets\n",
    "    X_train, X_test, y_train, y_test = train_test_split(X, y, test_size=0.6, random_state=42)\n",
    "   \n",
    "    \t\n",
    "\n",
    "     # Feature Scaling\n",
    "    from sklearn.preprocessing import StandardScaler\n",
    "    sc = StandardScaler()\n",
    "    X_train = sc.fit_transform(X_train)    \n",
    "    X_test = sc.transform(X_test)\n",
    "\n",
    "    # SVM Classifier\n",
    "    clf = SVC(kernel = 'rbf', random_state = 50)\n",
    "    clf.fit(X_train, y_train)\n",
    "    y_predict = clf.predict(X_test)\n",
    "    cm = confusion_matrix(y_test, y_predict)\n",
    "    print(cm)\n",
    "    print(\"Accuracy score : \")\n",
    "    print(accuracy_score(y_test, y_predict)*100)\n",
    "    \n",
    "if __name__ == '__main__':\n",
    "    svm_classifier()"
   ]
  },
  {
   "cell_type": "markdown",
   "metadata": {},
   "source": [
    "**sequential model**"
   ]
  },
  {
   "cell_type": "code",
   "execution_count": 21,
   "metadata": {},
   "outputs": [
    {
     "name": "stdout",
     "output_type": "stream",
     "text": [
      "Epoch 1/25\n"
     ]
    },
    {
     "ename": "InternalError",
     "evalue": "GPU sync failed",
     "output_type": "error",
     "traceback": [
      "\u001b[1;31m---------------------------------------------------------------------------\u001b[0m",
      "\u001b[1;31mInternalError\u001b[0m                             Traceback (most recent call last)",
      "\u001b[1;32mc:\\Users\\BME-4\\Anaconda3\\lib\\site-packages\\tensorflow\\python\\client\\session.py\u001b[0m in \u001b[0;36m_do_call\u001b[1;34m(self, fn, *args)\u001b[0m\n\u001b[0;32m   1333\u001b[0m     \u001b[0mfetches\u001b[0m \u001b[1;33m=\u001b[0m \u001b[1;33m[\u001b[0m\u001b[0mt\u001b[0m\u001b[1;33m.\u001b[0m\u001b[0m_as_tf_output\u001b[0m\u001b[1;33m(\u001b[0m\u001b[1;33m)\u001b[0m \u001b[1;32mfor\u001b[0m \u001b[0mt\u001b[0m \u001b[1;32min\u001b[0m \u001b[0mfetch_list\u001b[0m\u001b[1;33m]\u001b[0m\u001b[1;33m\u001b[0m\u001b[1;33m\u001b[0m\u001b[0m\n\u001b[1;32m-> 1334\u001b[1;33m     \u001b[0mtargets\u001b[0m \u001b[1;33m=\u001b[0m \u001b[1;33m[\u001b[0m\u001b[0mop\u001b[0m\u001b[1;33m.\u001b[0m\u001b[0m_c_op\u001b[0m \u001b[1;32mfor\u001b[0m \u001b[0mop\u001b[0m \u001b[1;32min\u001b[0m \u001b[0mtarget_list\u001b[0m\u001b[1;33m]\u001b[0m\u001b[1;33m\u001b[0m\u001b[1;33m\u001b[0m\u001b[0m\n\u001b[0m\u001b[0;32m   1335\u001b[0m     \u001b[1;31m# pylint: enable=protected-access\u001b[0m\u001b[1;33m\u001b[0m\u001b[1;33m\u001b[0m\u001b[1;33m\u001b[0m\u001b[0m\n",
      "\u001b[1;32mc:\\Users\\BME-4\\Anaconda3\\lib\\site-packages\\tensorflow\\python\\client\\session.py\u001b[0m in \u001b[0;36m_run_fn\u001b[1;34m(feed_dict, fetch_list, target_list, options, run_metadata)\u001b[0m\n\u001b[0;32m   1318\u001b[0m       \u001b[0mfeed_dict\u001b[0m\u001b[1;33m:\u001b[0m \u001b[0mA\u001b[0m \u001b[0mdictionary\u001b[0m \u001b[0mthat\u001b[0m \u001b[0mmaps\u001b[0m \u001b[0mtensors\u001b[0m \u001b[0mto\u001b[0m \u001b[0mnumpy\u001b[0m \u001b[0mndarrays\u001b[0m\u001b[1;33m.\u001b[0m\u001b[1;33m\u001b[0m\u001b[1;33m\u001b[0m\u001b[0m\n\u001b[1;32m-> 1319\u001b[1;33m       \u001b[0moptions\u001b[0m\u001b[1;33m:\u001b[0m \u001b[0mA\u001b[0m \u001b[1;33m(\u001b[0m\u001b[0mpointer\u001b[0m \u001b[0mto\u001b[0m \u001b[0ma\u001b[0m\u001b[1;33m)\u001b[0m \u001b[1;33m[\u001b[0m\u001b[0;31m`\u001b[0m\u001b[0mRunOptions\u001b[0m\u001b[0;31m`\u001b[0m\u001b[1;33m]\u001b[0m \u001b[0mprotocol\u001b[0m \u001b[0mbuffer\u001b[0m\u001b[1;33m,\u001b[0m \u001b[1;32mor\u001b[0m \u001b[1;32mNone\u001b[0m\u001b[1;33m\u001b[0m\u001b[1;33m\u001b[0m\u001b[0m\n\u001b[0m\u001b[0;32m   1320\u001b[0m       \u001b[0mrun_metadata\u001b[0m\u001b[1;33m:\u001b[0m \u001b[0mA\u001b[0m \u001b[1;33m(\u001b[0m\u001b[0mpointer\u001b[0m \u001b[0mto\u001b[0m \u001b[0ma\u001b[0m\u001b[1;33m)\u001b[0m \u001b[1;33m[\u001b[0m\u001b[0;31m`\u001b[0m\u001b[0mRunMetadata\u001b[0m\u001b[0;31m`\u001b[0m\u001b[1;33m]\u001b[0m \u001b[0mprotocol\u001b[0m \u001b[0mbuffer\u001b[0m\u001b[1;33m,\u001b[0m \u001b[1;32mor\u001b[0m \u001b[1;32mNone\u001b[0m\u001b[1;33m\u001b[0m\u001b[1;33m\u001b[0m\u001b[0m\n",
      "\u001b[1;32mc:\\Users\\BME-4\\Anaconda3\\lib\\site-packages\\tensorflow\\python\\client\\session.py\u001b[0m in \u001b[0;36m_call_tf_sessionrun\u001b[1;34m(self, options, feed_dict, fetch_list, target_list, run_metadata)\u001b[0m\n\u001b[0;32m   1406\u001b[0m       \u001b[1;32mif\u001b[0m \u001b[0mmover\u001b[0m\u001b[1;33m:\u001b[0m\u001b[1;33m\u001b[0m\u001b[1;33m\u001b[0m\u001b[0m\n\u001b[1;32m-> 1407\u001b[1;33m         \u001b[0mhandle_movers\u001b[0m\u001b[1;33m.\u001b[0m\u001b[0mappend\u001b[0m\u001b[1;33m(\u001b[0m\u001b[1;33m(\u001b[0m\u001b[0mfeed_name\u001b[0m\u001b[1;33m,\u001b[0m \u001b[0mval\u001b[0m\u001b[1;33m[\u001b[0m\u001b[1;36m1\u001b[0m\u001b[1;33m]\u001b[0m\u001b[1;33m,\u001b[0m \u001b[0mmover\u001b[0m\u001b[1;33m)\u001b[0m\u001b[1;33m)\u001b[0m\u001b[1;33m\u001b[0m\u001b[1;33m\u001b[0m\u001b[0m\n\u001b[0m\u001b[0;32m   1408\u001b[0m     \u001b[1;31m# Transfer a tensor to the right device if needed.\u001b[0m\u001b[1;33m\u001b[0m\u001b[1;33m\u001b[0m\u001b[1;33m\u001b[0m\u001b[0m\n",
      "\u001b[1;31mInternalError\u001b[0m: GPU sync failed",
      "\nDuring handling of the above exception, another exception occurred:\n",
      "\u001b[1;31mInternalError\u001b[0m                             Traceback (most recent call last)",
      "\u001b[1;32m<ipython-input-21-2f846693e67a>\u001b[0m in \u001b[0;36m<module>\u001b[1;34m\u001b[0m\n\u001b[0;32m     28\u001b[0m model.fit(x_train, y_train,\n\u001b[0;32m     29\u001b[0m           \u001b[0mepochs\u001b[0m\u001b[1;33m=\u001b[0m\u001b[1;36m25\u001b[0m\u001b[1;33m,\u001b[0m\u001b[1;33m\u001b[0m\u001b[1;33m\u001b[0m\u001b[0m\n\u001b[1;32m---> 30\u001b[1;33m           batch_size=128)\n\u001b[0m\u001b[0;32m     31\u001b[0m \u001b[0mscore\u001b[0m \u001b[1;33m=\u001b[0m \u001b[0mmodel\u001b[0m\u001b[1;33m.\u001b[0m\u001b[0mevaluate\u001b[0m\u001b[1;33m(\u001b[0m\u001b[0mx_test\u001b[0m\u001b[1;33m,\u001b[0m \u001b[0my_test\u001b[0m\u001b[1;33m,\u001b[0m \u001b[0mbatch_size\u001b[0m\u001b[1;33m=\u001b[0m\u001b[1;36m128\u001b[0m\u001b[1;33m)\u001b[0m\u001b[1;33m\u001b[0m\u001b[1;33m\u001b[0m\u001b[0m\n",
      "\u001b[1;32mc:\\Users\\BME-4\\Anaconda3\\lib\\site-packages\\keras\\engine\\training.py\u001b[0m in \u001b[0;36mfit\u001b[1;34m(self, x, y, batch_size, epochs, verbose, callbacks, validation_split, validation_data, shuffle, class_weight, sample_weight, initial_epoch, steps_per_epoch, validation_steps, **kwargs)\u001b[0m\n\u001b[0;32m   1037\u001b[0m                                         \u001b[0minitial_epoch\u001b[0m\u001b[1;33m=\u001b[0m\u001b[0minitial_epoch\u001b[0m\u001b[1;33m,\u001b[0m\u001b[1;33m\u001b[0m\u001b[1;33m\u001b[0m\u001b[0m\n\u001b[0;32m   1038\u001b[0m                                         \u001b[0msteps_per_epoch\u001b[0m\u001b[1;33m=\u001b[0m\u001b[0msteps_per_epoch\u001b[0m\u001b[1;33m,\u001b[0m\u001b[1;33m\u001b[0m\u001b[1;33m\u001b[0m\u001b[0m\n\u001b[1;32m-> 1039\u001b[1;33m                                         validation_steps=validation_steps)\n\u001b[0m\u001b[0;32m   1040\u001b[0m \u001b[1;33m\u001b[0m\u001b[0m\n\u001b[0;32m   1041\u001b[0m     def evaluate(self, x=None, y=None,\n",
      "\u001b[1;32mc:\\Users\\BME-4\\Anaconda3\\lib\\site-packages\\keras\\engine\\training_arrays.py\u001b[0m in \u001b[0;36mfit_loop\u001b[1;34m(model, f, ins, out_labels, batch_size, epochs, verbose, callbacks, val_f, val_ins, shuffle, callback_metrics, initial_epoch, steps_per_epoch, validation_steps)\u001b[0m\n\u001b[0;32m    197\u001b[0m                     \u001b[0mins_batch\u001b[0m\u001b[1;33m[\u001b[0m\u001b[0mi\u001b[0m\u001b[1;33m]\u001b[0m \u001b[1;33m=\u001b[0m \u001b[0mins_batch\u001b[0m\u001b[1;33m[\u001b[0m\u001b[0mi\u001b[0m\u001b[1;33m]\u001b[0m\u001b[1;33m.\u001b[0m\u001b[0mtoarray\u001b[0m\u001b[1;33m(\u001b[0m\u001b[1;33m)\u001b[0m\u001b[1;33m\u001b[0m\u001b[1;33m\u001b[0m\u001b[0m\n\u001b[0;32m    198\u001b[0m \u001b[1;33m\u001b[0m\u001b[0m\n\u001b[1;32m--> 199\u001b[1;33m                 \u001b[0mouts\u001b[0m \u001b[1;33m=\u001b[0m \u001b[0mf\u001b[0m\u001b[1;33m(\u001b[0m\u001b[0mins_batch\u001b[0m\u001b[1;33m)\u001b[0m\u001b[1;33m\u001b[0m\u001b[1;33m\u001b[0m\u001b[0m\n\u001b[0m\u001b[0;32m    200\u001b[0m                 \u001b[0mouts\u001b[0m \u001b[1;33m=\u001b[0m \u001b[0mto_list\u001b[0m\u001b[1;33m(\u001b[0m\u001b[0mouts\u001b[0m\u001b[1;33m)\u001b[0m\u001b[1;33m\u001b[0m\u001b[1;33m\u001b[0m\u001b[0m\n\u001b[0;32m    201\u001b[0m                 \u001b[1;32mfor\u001b[0m \u001b[0ml\u001b[0m\u001b[1;33m,\u001b[0m \u001b[0mo\u001b[0m \u001b[1;32min\u001b[0m \u001b[0mzip\u001b[0m\u001b[1;33m(\u001b[0m\u001b[0mout_labels\u001b[0m\u001b[1;33m,\u001b[0m \u001b[0mouts\u001b[0m\u001b[1;33m)\u001b[0m\u001b[1;33m:\u001b[0m\u001b[1;33m\u001b[0m\u001b[1;33m\u001b[0m\u001b[0m\n",
      "\u001b[1;32mc:\\Users\\BME-4\\Anaconda3\\lib\\site-packages\\keras\\backend\\tensorflow_backend.py\u001b[0m in \u001b[0;36m__call__\u001b[1;34m(self, inputs)\u001b[0m\n\u001b[0;32m   2695\u001b[0m \u001b[1;33m\u001b[0m\u001b[0m\n\u001b[0;32m   2696\u001b[0m     \u001b[1;32mdef\u001b[0m \u001b[0m__call__\u001b[0m\u001b[1;33m(\u001b[0m\u001b[0mself\u001b[0m\u001b[1;33m,\u001b[0m \u001b[0minputs\u001b[0m\u001b[1;33m)\u001b[0m\u001b[1;33m:\u001b[0m\u001b[1;33m\u001b[0m\u001b[1;33m\u001b[0m\u001b[0m\n\u001b[1;32m-> 2697\u001b[1;33m         \u001b[1;32mif\u001b[0m \u001b[0mhasattr\u001b[0m\u001b[1;33m(\u001b[0m\u001b[0mget_session\u001b[0m\u001b[1;33m(\u001b[0m\u001b[1;33m)\u001b[0m\u001b[1;33m,\u001b[0m \u001b[1;34m'_make_callable_from_options'\u001b[0m\u001b[1;33m)\u001b[0m\u001b[1;33m:\u001b[0m\u001b[1;33m\u001b[0m\u001b[1;33m\u001b[0m\u001b[0m\n\u001b[0m\u001b[0;32m   2698\u001b[0m             \u001b[1;32mif\u001b[0m \u001b[0mpy_any\u001b[0m\u001b[1;33m(\u001b[0m\u001b[0mis_sparse\u001b[0m\u001b[1;33m(\u001b[0m\u001b[0mx\u001b[0m\u001b[1;33m)\u001b[0m \u001b[1;32mfor\u001b[0m \u001b[0mx\u001b[0m \u001b[1;32min\u001b[0m \u001b[0mself\u001b[0m\u001b[1;33m.\u001b[0m\u001b[0minputs\u001b[0m\u001b[1;33m)\u001b[0m\u001b[1;33m:\u001b[0m\u001b[1;33m\u001b[0m\u001b[1;33m\u001b[0m\u001b[0m\n\u001b[0;32m   2699\u001b[0m                 \u001b[1;32mif\u001b[0m \u001b[0mpy_any\u001b[0m\u001b[1;33m(\u001b[0m\u001b[0mis_tensor\u001b[0m\u001b[1;33m(\u001b[0m\u001b[0mx\u001b[0m\u001b[1;33m)\u001b[0m \u001b[1;32mfor\u001b[0m \u001b[0mx\u001b[0m \u001b[1;32min\u001b[0m \u001b[0minputs\u001b[0m\u001b[1;33m)\u001b[0m\u001b[1;33m:\u001b[0m\u001b[1;33m\u001b[0m\u001b[1;33m\u001b[0m\u001b[0m\n",
      "\u001b[1;32mc:\\Users\\BME-4\\Anaconda3\\lib\\site-packages\\keras\\backend\\tensorflow_backend.py\u001b[0m in \u001b[0;36mget_session\u001b[1;34m()\u001b[0m\n\u001b[0;32m    197\u001b[0m                 \u001b[1;31m# not already marked as initialized.\u001b[0m\u001b[1;33m\u001b[0m\u001b[1;33m\u001b[0m\u001b[1;33m\u001b[0m\u001b[0m\n\u001b[0;32m    198\u001b[0m                 is_initialized = session.run(\n\u001b[1;32m--> 199\u001b[1;33m                     [tf.is_variable_initialized(v) for v in candidate_vars])\n\u001b[0m\u001b[0;32m    200\u001b[0m                 \u001b[0muninitialized_vars\u001b[0m \u001b[1;33m=\u001b[0m \u001b[1;33m[\u001b[0m\u001b[1;33m]\u001b[0m\u001b[1;33m\u001b[0m\u001b[1;33m\u001b[0m\u001b[0m\n\u001b[0;32m    201\u001b[0m                 \u001b[1;32mfor\u001b[0m \u001b[0mflag\u001b[0m\u001b[1;33m,\u001b[0m \u001b[0mv\u001b[0m \u001b[1;32min\u001b[0m \u001b[0mzip\u001b[0m\u001b[1;33m(\u001b[0m\u001b[0mis_initialized\u001b[0m\u001b[1;33m,\u001b[0m \u001b[0mcandidate_vars\u001b[0m\u001b[1;33m)\u001b[0m\u001b[1;33m:\u001b[0m\u001b[1;33m\u001b[0m\u001b[1;33m\u001b[0m\u001b[0m\n",
      "\u001b[1;32mc:\\Users\\BME-4\\Anaconda3\\lib\\site-packages\\tensorflow\\python\\client\\session.py\u001b[0m in \u001b[0;36mrun\u001b[1;34m(self, fetches, feed_dict, options, run_metadata)\u001b[0m\n\u001b[0;32m    927\u001b[0m       \u001b[0moptions\u001b[0m\u001b[1;33m:\u001b[0m \u001b[0mA\u001b[0m \u001b[1;33m[\u001b[0m\u001b[0;31m`\u001b[0m\u001b[0mRunOptions\u001b[0m\u001b[0;31m`\u001b[0m\u001b[1;33m]\u001b[0m \u001b[0mprotocol\u001b[0m \u001b[0mbuffer\u001b[0m\u001b[1;33m\u001b[0m\u001b[1;33m\u001b[0m\u001b[0m\n\u001b[0;32m    928\u001b[0m       \u001b[0mrun_metadata\u001b[0m\u001b[1;33m:\u001b[0m \u001b[0mA\u001b[0m \u001b[1;33m[\u001b[0m\u001b[0;31m`\u001b[0m\u001b[0mRunMetadata\u001b[0m\u001b[0;31m`\u001b[0m\u001b[1;33m]\u001b[0m \u001b[0mprotocol\u001b[0m \u001b[0mbuffer\u001b[0m\u001b[1;33m\u001b[0m\u001b[1;33m\u001b[0m\u001b[0m\n\u001b[1;32m--> 929\u001b[1;33m \u001b[1;33m\u001b[0m\u001b[0m\n\u001b[0m\u001b[0;32m    930\u001b[0m     \u001b[0mReturns\u001b[0m\u001b[1;33m:\u001b[0m\u001b[1;33m\u001b[0m\u001b[1;33m\u001b[0m\u001b[0m\n\u001b[0;32m    931\u001b[0m       \u001b[0mEither\u001b[0m \u001b[0ma\u001b[0m \u001b[0msingle\u001b[0m \u001b[0mvalue\u001b[0m \u001b[1;32mif\u001b[0m\u001b[0;31m \u001b[0m\u001b[0;31m`\u001b[0m\u001b[0mfetches\u001b[0m\u001b[0;31m`\u001b[0m \u001b[1;32mis\u001b[0m \u001b[0ma\u001b[0m \u001b[0msingle\u001b[0m \u001b[0mgraph\u001b[0m \u001b[0melement\u001b[0m\u001b[1;33m,\u001b[0m \u001b[1;32mor\u001b[0m\u001b[1;33m\u001b[0m\u001b[1;33m\u001b[0m\u001b[0m\n",
      "\u001b[1;32mc:\\Users\\BME-4\\Anaconda3\\lib\\site-packages\\tensorflow\\python\\client\\session.py\u001b[0m in \u001b[0;36m_run\u001b[1;34m(self, handle, fetches, feed_dict, options, run_metadata)\u001b[0m\n\u001b[0;32m   1150\u001b[0m           \u001b[1;32mif\u001b[0m \u001b[1;32mnot\u001b[0m \u001b[0mself\u001b[0m\u001b[1;33m.\u001b[0m\u001b[0mgraph\u001b[0m\u001b[1;33m.\u001b[0m\u001b[0mis_feedable\u001b[0m\u001b[1;33m(\u001b[0m\u001b[0msubfeed_t\u001b[0m\u001b[1;33m)\u001b[0m\u001b[1;33m:\u001b[0m\u001b[1;33m\u001b[0m\u001b[1;33m\u001b[0m\u001b[0m\n\u001b[0;32m   1151\u001b[0m             \u001b[1;32mraise\u001b[0m \u001b[0mValueError\u001b[0m\u001b[1;33m(\u001b[0m\u001b[1;34m'Tensor %s may not be fed.'\u001b[0m \u001b[1;33m%\u001b[0m \u001b[0msubfeed_t\u001b[0m\u001b[1;33m)\u001b[0m\u001b[1;33m\u001b[0m\u001b[1;33m\u001b[0m\u001b[0m\n\u001b[1;32m-> 1152\u001b[1;33m \u001b[1;33m\u001b[0m\u001b[0m\n\u001b[0m\u001b[0;32m   1153\u001b[0m           \u001b[0mfeed_dict_tensor\u001b[0m\u001b[1;33m[\u001b[0m\u001b[0msubfeed_t\u001b[0m\u001b[1;33m]\u001b[0m \u001b[1;33m=\u001b[0m \u001b[0mnp_val\u001b[0m\u001b[1;33m\u001b[0m\u001b[1;33m\u001b[0m\u001b[0m\n\u001b[0;32m   1154\u001b[0m           \u001b[0mfeed_map\u001b[0m\u001b[1;33m[\u001b[0m\u001b[0mcompat\u001b[0m\u001b[1;33m.\u001b[0m\u001b[0mas_bytes\u001b[0m\u001b[1;33m(\u001b[0m\u001b[0msubfeed_t\u001b[0m\u001b[1;33m.\u001b[0m\u001b[0mname\u001b[0m\u001b[1;33m)\u001b[0m\u001b[1;33m]\u001b[0m \u001b[1;33m=\u001b[0m \u001b[1;33m(\u001b[0m\u001b[0msubfeed_t\u001b[0m\u001b[1;33m,\u001b[0m \u001b[0msubfeed_val\u001b[0m\u001b[1;33m)\u001b[0m\u001b[1;33m\u001b[0m\u001b[1;33m\u001b[0m\u001b[0m\n",
      "\u001b[1;32mc:\\Users\\BME-4\\Anaconda3\\lib\\site-packages\\tensorflow\\python\\client\\session.py\u001b[0m in \u001b[0;36m_do_run\u001b[1;34m(self, handle, target_list, fetch_list, feed_dict, options, run_metadata)\u001b[0m\n\u001b[0;32m   1326\u001b[0m       \u001b[0mwill\u001b[0m \u001b[0mbe\u001b[0m \u001b[0mreturned\u001b[0m \u001b[1;32mfor\u001b[0m \u001b[0mthat\u001b[0m \u001b[0melement\u001b[0m\u001b[1;33m.\u001b[0m\u001b[1;33m\u001b[0m\u001b[1;33m\u001b[0m\u001b[0m\n\u001b[0;32m   1327\u001b[0m \u001b[1;33m\u001b[0m\u001b[0m\n\u001b[1;32m-> 1328\u001b[1;33m     \u001b[0mRaises\u001b[0m\u001b[1;33m:\u001b[0m\u001b[1;33m\u001b[0m\u001b[1;33m\u001b[0m\u001b[0m\n\u001b[0m\u001b[0;32m   1329\u001b[0m       \u001b[0mtf\u001b[0m\u001b[1;33m.\u001b[0m\u001b[0merrors\u001b[0m\u001b[1;33m.\u001b[0m\u001b[0mOpError\u001b[0m\u001b[1;33m:\u001b[0m \u001b[0mOr\u001b[0m \u001b[0mone\u001b[0m \u001b[0mof\u001b[0m \u001b[0mits\u001b[0m \u001b[0msubclasses\u001b[0m \u001b[0mon\u001b[0m \u001b[0merror\u001b[0m\u001b[1;33m.\u001b[0m\u001b[1;33m\u001b[0m\u001b[1;33m\u001b[0m\u001b[0m\n\u001b[0;32m   1330\u001b[0m     \"\"\"\n",
      "\u001b[1;32mc:\\Users\\BME-4\\Anaconda3\\lib\\site-packages\\tensorflow\\python\\client\\session.py\u001b[0m in \u001b[0;36m_do_call\u001b[1;34m(self, fn, *args)\u001b[0m\n\u001b[0;32m   1346\u001b[0m       \u001b[1;32mreturn\u001b[0m \u001b[0mself\u001b[0m\u001b[1;33m.\u001b[0m\u001b[0m_call_tf_sessionprun\u001b[0m\u001b[1;33m(\u001b[0m\u001b[0mhandle\u001b[0m\u001b[1;33m,\u001b[0m \u001b[0mfeed_dict\u001b[0m\u001b[1;33m,\u001b[0m \u001b[0mfetch_list\u001b[0m\u001b[1;33m)\u001b[0m\u001b[1;33m\u001b[0m\u001b[1;33m\u001b[0m\u001b[0m\n\u001b[0;32m   1347\u001b[0m \u001b[1;33m\u001b[0m\u001b[0m\n\u001b[1;32m-> 1348\u001b[1;33m     \u001b[1;32mif\u001b[0m \u001b[0mhandle\u001b[0m \u001b[1;32mis\u001b[0m \u001b[1;32mNone\u001b[0m\u001b[1;33m:\u001b[0m\u001b[1;33m\u001b[0m\u001b[1;33m\u001b[0m\u001b[0m\n\u001b[0m\u001b[0;32m   1349\u001b[0m       return self._do_call(_run_fn, feeds, fetches, targets, options,\n\u001b[0;32m   1350\u001b[0m                            run_metadata)\n",
      "\u001b[1;31mInternalError\u001b[0m: GPU sync failed"
     ]
    }
   ],
   "source": [
    "import numpy as np\n",
    "from keras.models import Sequential\n",
    "from keras.layers import Dense, Dropout\n",
    "   \n",
    "\n",
    "\n",
    "\n",
    "model = Sequential()\n",
    "model.add(Dense(64, input_dim=46, activation='relu'))\n",
    "model.add(Dropout(0.5))\n",
    "model.add(Dense(64, activation='relu'))\n",
    "model.add(Dropout(0.5))\n",
    "model.add(Dense(64, activation='relu'))\n",
    "model.add(Dropout(0.5))\n",
    "model.add(Dense(64, activation='relu'))\n",
    "model.add(Dropout(0.5))\n",
    "model.add(Dense(64, activation='relu'))\n",
    "model.add(Dropout(0.5))\n",
    "model.add(Dense(64, activation='relu'))\n",
    "model.add(Dropout(0.5))\n",
    "\n",
    "model.add(Dense(1, activation='sigmoid'))\n",
    "\n",
    "model.compile(loss='binary_crossentropy',\n",
    "              optimizer='rmsprop',\n",
    "              metrics=['accuracy'])\n",
    "\n",
    "model.fit(x_train, y_train,\n",
    "          epochs=25,\n",
    "          batch_size=128)\n",
    "score = model.evaluate(x_test, y_test, batch_size=128)"
   ]
  },
  {
   "cell_type": "markdown",
   "metadata": {},
   "source": [
    "**LSTM MODELLING**"
   ]
  },
  {
   "cell_type": "code",
   "execution_count": 20,
   "metadata": {},
   "outputs": [
    {
     "name": "stdout",
     "output_type": "stream",
     "text": [
      "Epoch 1/10\n"
     ]
    },
    {
     "ename": "InternalError",
     "evalue": "GPU sync failed",
     "output_type": "error",
     "traceback": [
      "\u001b[1;31m---------------------------------------------------------------------------\u001b[0m",
      "\u001b[1;31mInternalError\u001b[0m                             Traceback (most recent call last)",
      "\u001b[1;32mc:\\Users\\BME-4\\Anaconda3\\lib\\site-packages\\tensorflow\\python\\client\\session.py\u001b[0m in \u001b[0;36m_do_call\u001b[1;34m(self, fn, *args)\u001b[0m\n\u001b[0;32m   1333\u001b[0m     \u001b[0mfetches\u001b[0m \u001b[1;33m=\u001b[0m \u001b[1;33m[\u001b[0m\u001b[0mt\u001b[0m\u001b[1;33m.\u001b[0m\u001b[0m_as_tf_output\u001b[0m\u001b[1;33m(\u001b[0m\u001b[1;33m)\u001b[0m \u001b[1;32mfor\u001b[0m \u001b[0mt\u001b[0m \u001b[1;32min\u001b[0m \u001b[0mfetch_list\u001b[0m\u001b[1;33m]\u001b[0m\u001b[1;33m\u001b[0m\u001b[1;33m\u001b[0m\u001b[0m\n\u001b[1;32m-> 1334\u001b[1;33m     \u001b[0mtargets\u001b[0m \u001b[1;33m=\u001b[0m \u001b[1;33m[\u001b[0m\u001b[0mop\u001b[0m\u001b[1;33m.\u001b[0m\u001b[0m_c_op\u001b[0m \u001b[1;32mfor\u001b[0m \u001b[0mop\u001b[0m \u001b[1;32min\u001b[0m \u001b[0mtarget_list\u001b[0m\u001b[1;33m]\u001b[0m\u001b[1;33m\u001b[0m\u001b[1;33m\u001b[0m\u001b[0m\n\u001b[0m\u001b[0;32m   1335\u001b[0m     \u001b[1;31m# pylint: enable=protected-access\u001b[0m\u001b[1;33m\u001b[0m\u001b[1;33m\u001b[0m\u001b[1;33m\u001b[0m\u001b[0m\n",
      "\u001b[1;32mc:\\Users\\BME-4\\Anaconda3\\lib\\site-packages\\tensorflow\\python\\client\\session.py\u001b[0m in \u001b[0;36m_run_fn\u001b[1;34m(feed_dict, fetch_list, target_list, options, run_metadata)\u001b[0m\n\u001b[0;32m   1318\u001b[0m       \u001b[0mfeed_dict\u001b[0m\u001b[1;33m:\u001b[0m \u001b[0mA\u001b[0m \u001b[0mdictionary\u001b[0m \u001b[0mthat\u001b[0m \u001b[0mmaps\u001b[0m \u001b[0mtensors\u001b[0m \u001b[0mto\u001b[0m \u001b[0mnumpy\u001b[0m \u001b[0mndarrays\u001b[0m\u001b[1;33m.\u001b[0m\u001b[1;33m\u001b[0m\u001b[1;33m\u001b[0m\u001b[0m\n\u001b[1;32m-> 1319\u001b[1;33m       \u001b[0moptions\u001b[0m\u001b[1;33m:\u001b[0m \u001b[0mA\u001b[0m \u001b[1;33m(\u001b[0m\u001b[0mpointer\u001b[0m \u001b[0mto\u001b[0m \u001b[0ma\u001b[0m\u001b[1;33m)\u001b[0m \u001b[1;33m[\u001b[0m\u001b[0;31m`\u001b[0m\u001b[0mRunOptions\u001b[0m\u001b[0;31m`\u001b[0m\u001b[1;33m]\u001b[0m \u001b[0mprotocol\u001b[0m \u001b[0mbuffer\u001b[0m\u001b[1;33m,\u001b[0m \u001b[1;32mor\u001b[0m \u001b[1;32mNone\u001b[0m\u001b[1;33m\u001b[0m\u001b[1;33m\u001b[0m\u001b[0m\n\u001b[0m\u001b[0;32m   1320\u001b[0m       \u001b[0mrun_metadata\u001b[0m\u001b[1;33m:\u001b[0m \u001b[0mA\u001b[0m \u001b[1;33m(\u001b[0m\u001b[0mpointer\u001b[0m \u001b[0mto\u001b[0m \u001b[0ma\u001b[0m\u001b[1;33m)\u001b[0m \u001b[1;33m[\u001b[0m\u001b[0;31m`\u001b[0m\u001b[0mRunMetadata\u001b[0m\u001b[0;31m`\u001b[0m\u001b[1;33m]\u001b[0m \u001b[0mprotocol\u001b[0m \u001b[0mbuffer\u001b[0m\u001b[1;33m,\u001b[0m \u001b[1;32mor\u001b[0m \u001b[1;32mNone\u001b[0m\u001b[1;33m\u001b[0m\u001b[1;33m\u001b[0m\u001b[0m\n",
      "\u001b[1;32mc:\\Users\\BME-4\\Anaconda3\\lib\\site-packages\\tensorflow\\python\\client\\session.py\u001b[0m in \u001b[0;36m_call_tf_sessionrun\u001b[1;34m(self, options, feed_dict, fetch_list, target_list, run_metadata)\u001b[0m\n\u001b[0;32m   1406\u001b[0m       \u001b[1;32mif\u001b[0m \u001b[0mmover\u001b[0m\u001b[1;33m:\u001b[0m\u001b[1;33m\u001b[0m\u001b[1;33m\u001b[0m\u001b[0m\n\u001b[1;32m-> 1407\u001b[1;33m         \u001b[0mhandle_movers\u001b[0m\u001b[1;33m.\u001b[0m\u001b[0mappend\u001b[0m\u001b[1;33m(\u001b[0m\u001b[1;33m(\u001b[0m\u001b[0mfeed_name\u001b[0m\u001b[1;33m,\u001b[0m \u001b[0mval\u001b[0m\u001b[1;33m[\u001b[0m\u001b[1;36m1\u001b[0m\u001b[1;33m]\u001b[0m\u001b[1;33m,\u001b[0m \u001b[0mmover\u001b[0m\u001b[1;33m)\u001b[0m\u001b[1;33m)\u001b[0m\u001b[1;33m\u001b[0m\u001b[1;33m\u001b[0m\u001b[0m\n\u001b[0m\u001b[0;32m   1408\u001b[0m     \u001b[1;31m# Transfer a tensor to the right device if needed.\u001b[0m\u001b[1;33m\u001b[0m\u001b[1;33m\u001b[0m\u001b[1;33m\u001b[0m\u001b[0m\n",
      "\u001b[1;31mInternalError\u001b[0m: GPU sync failed",
      "\nDuring handling of the above exception, another exception occurred:\n",
      "\u001b[1;31mInternalError\u001b[0m                             Traceback (most recent call last)",
      "\u001b[1;32m<ipython-input-20-86d785f65e93>\u001b[0m in \u001b[0;36m<module>\u001b[1;34m\u001b[0m\n\u001b[0;32m     16\u001b[0m               metrics=['accuracy'])\n\u001b[0;32m     17\u001b[0m \u001b[1;33m\u001b[0m\u001b[0m\n\u001b[1;32m---> 18\u001b[1;33m \u001b[0mmodel\u001b[0m\u001b[1;33m.\u001b[0m\u001b[0mfit\u001b[0m\u001b[1;33m(\u001b[0m\u001b[0mx_train\u001b[0m\u001b[1;33m,\u001b[0m \u001b[0my_train\u001b[0m\u001b[1;33m,\u001b[0m \u001b[0mbatch_size\u001b[0m\u001b[1;33m=\u001b[0m\u001b[1;36m2\u001b[0m\u001b[1;33m,\u001b[0m \u001b[0mepochs\u001b[0m\u001b[1;33m=\u001b[0m\u001b[1;36m10\u001b[0m\u001b[1;33m)\u001b[0m\u001b[1;33m\u001b[0m\u001b[1;33m\u001b[0m\u001b[0m\n\u001b[0m\u001b[0;32m     19\u001b[0m \u001b[0mscore\u001b[0m \u001b[1;33m=\u001b[0m \u001b[0mmodel\u001b[0m\u001b[1;33m.\u001b[0m\u001b[0mevaluate\u001b[0m\u001b[1;33m(\u001b[0m\u001b[0mx_test\u001b[0m\u001b[1;33m,\u001b[0m \u001b[0my_test\u001b[0m\u001b[1;33m,\u001b[0m \u001b[0mbatch_size\u001b[0m\u001b[1;33m=\u001b[0m\u001b[1;36m16\u001b[0m\u001b[1;33m)\u001b[0m\u001b[1;33m\u001b[0m\u001b[1;33m\u001b[0m\u001b[0m\n",
      "\u001b[1;32mc:\\Users\\BME-4\\Anaconda3\\lib\\site-packages\\keras\\engine\\training.py\u001b[0m in \u001b[0;36mfit\u001b[1;34m(self, x, y, batch_size, epochs, verbose, callbacks, validation_split, validation_data, shuffle, class_weight, sample_weight, initial_epoch, steps_per_epoch, validation_steps, **kwargs)\u001b[0m\n\u001b[0;32m   1037\u001b[0m                                         \u001b[0minitial_epoch\u001b[0m\u001b[1;33m=\u001b[0m\u001b[0minitial_epoch\u001b[0m\u001b[1;33m,\u001b[0m\u001b[1;33m\u001b[0m\u001b[1;33m\u001b[0m\u001b[0m\n\u001b[0;32m   1038\u001b[0m                                         \u001b[0msteps_per_epoch\u001b[0m\u001b[1;33m=\u001b[0m\u001b[0msteps_per_epoch\u001b[0m\u001b[1;33m,\u001b[0m\u001b[1;33m\u001b[0m\u001b[1;33m\u001b[0m\u001b[0m\n\u001b[1;32m-> 1039\u001b[1;33m                                         validation_steps=validation_steps)\n\u001b[0m\u001b[0;32m   1040\u001b[0m \u001b[1;33m\u001b[0m\u001b[0m\n\u001b[0;32m   1041\u001b[0m     def evaluate(self, x=None, y=None,\n",
      "\u001b[1;32mc:\\Users\\BME-4\\Anaconda3\\lib\\site-packages\\keras\\engine\\training_arrays.py\u001b[0m in \u001b[0;36mfit_loop\u001b[1;34m(model, f, ins, out_labels, batch_size, epochs, verbose, callbacks, val_f, val_ins, shuffle, callback_metrics, initial_epoch, steps_per_epoch, validation_steps)\u001b[0m\n\u001b[0;32m    197\u001b[0m                     \u001b[0mins_batch\u001b[0m\u001b[1;33m[\u001b[0m\u001b[0mi\u001b[0m\u001b[1;33m]\u001b[0m \u001b[1;33m=\u001b[0m \u001b[0mins_batch\u001b[0m\u001b[1;33m[\u001b[0m\u001b[0mi\u001b[0m\u001b[1;33m]\u001b[0m\u001b[1;33m.\u001b[0m\u001b[0mtoarray\u001b[0m\u001b[1;33m(\u001b[0m\u001b[1;33m)\u001b[0m\u001b[1;33m\u001b[0m\u001b[1;33m\u001b[0m\u001b[0m\n\u001b[0;32m    198\u001b[0m \u001b[1;33m\u001b[0m\u001b[0m\n\u001b[1;32m--> 199\u001b[1;33m                 \u001b[0mouts\u001b[0m \u001b[1;33m=\u001b[0m \u001b[0mf\u001b[0m\u001b[1;33m(\u001b[0m\u001b[0mins_batch\u001b[0m\u001b[1;33m)\u001b[0m\u001b[1;33m\u001b[0m\u001b[1;33m\u001b[0m\u001b[0m\n\u001b[0m\u001b[0;32m    200\u001b[0m                 \u001b[0mouts\u001b[0m \u001b[1;33m=\u001b[0m \u001b[0mto_list\u001b[0m\u001b[1;33m(\u001b[0m\u001b[0mouts\u001b[0m\u001b[1;33m)\u001b[0m\u001b[1;33m\u001b[0m\u001b[1;33m\u001b[0m\u001b[0m\n\u001b[0;32m    201\u001b[0m                 \u001b[1;32mfor\u001b[0m \u001b[0ml\u001b[0m\u001b[1;33m,\u001b[0m \u001b[0mo\u001b[0m \u001b[1;32min\u001b[0m \u001b[0mzip\u001b[0m\u001b[1;33m(\u001b[0m\u001b[0mout_labels\u001b[0m\u001b[1;33m,\u001b[0m \u001b[0mouts\u001b[0m\u001b[1;33m)\u001b[0m\u001b[1;33m:\u001b[0m\u001b[1;33m\u001b[0m\u001b[1;33m\u001b[0m\u001b[0m\n",
      "\u001b[1;32mc:\\Users\\BME-4\\Anaconda3\\lib\\site-packages\\keras\\backend\\tensorflow_backend.py\u001b[0m in \u001b[0;36m__call__\u001b[1;34m(self, inputs)\u001b[0m\n\u001b[0;32m   2695\u001b[0m \u001b[1;33m\u001b[0m\u001b[0m\n\u001b[0;32m   2696\u001b[0m     \u001b[1;32mdef\u001b[0m \u001b[0m__call__\u001b[0m\u001b[1;33m(\u001b[0m\u001b[0mself\u001b[0m\u001b[1;33m,\u001b[0m \u001b[0minputs\u001b[0m\u001b[1;33m)\u001b[0m\u001b[1;33m:\u001b[0m\u001b[1;33m\u001b[0m\u001b[1;33m\u001b[0m\u001b[0m\n\u001b[1;32m-> 2697\u001b[1;33m         \u001b[1;32mif\u001b[0m \u001b[0mhasattr\u001b[0m\u001b[1;33m(\u001b[0m\u001b[0mget_session\u001b[0m\u001b[1;33m(\u001b[0m\u001b[1;33m)\u001b[0m\u001b[1;33m,\u001b[0m \u001b[1;34m'_make_callable_from_options'\u001b[0m\u001b[1;33m)\u001b[0m\u001b[1;33m:\u001b[0m\u001b[1;33m\u001b[0m\u001b[1;33m\u001b[0m\u001b[0m\n\u001b[0m\u001b[0;32m   2698\u001b[0m             \u001b[1;32mif\u001b[0m \u001b[0mpy_any\u001b[0m\u001b[1;33m(\u001b[0m\u001b[0mis_sparse\u001b[0m\u001b[1;33m(\u001b[0m\u001b[0mx\u001b[0m\u001b[1;33m)\u001b[0m \u001b[1;32mfor\u001b[0m \u001b[0mx\u001b[0m \u001b[1;32min\u001b[0m \u001b[0mself\u001b[0m\u001b[1;33m.\u001b[0m\u001b[0minputs\u001b[0m\u001b[1;33m)\u001b[0m\u001b[1;33m:\u001b[0m\u001b[1;33m\u001b[0m\u001b[1;33m\u001b[0m\u001b[0m\n\u001b[0;32m   2699\u001b[0m                 \u001b[1;32mif\u001b[0m \u001b[0mpy_any\u001b[0m\u001b[1;33m(\u001b[0m\u001b[0mis_tensor\u001b[0m\u001b[1;33m(\u001b[0m\u001b[0mx\u001b[0m\u001b[1;33m)\u001b[0m \u001b[1;32mfor\u001b[0m \u001b[0mx\u001b[0m \u001b[1;32min\u001b[0m \u001b[0minputs\u001b[0m\u001b[1;33m)\u001b[0m\u001b[1;33m:\u001b[0m\u001b[1;33m\u001b[0m\u001b[1;33m\u001b[0m\u001b[0m\n",
      "\u001b[1;32mc:\\Users\\BME-4\\Anaconda3\\lib\\site-packages\\keras\\backend\\tensorflow_backend.py\u001b[0m in \u001b[0;36mget_session\u001b[1;34m()\u001b[0m\n\u001b[0;32m    197\u001b[0m                 \u001b[1;31m# not already marked as initialized.\u001b[0m\u001b[1;33m\u001b[0m\u001b[1;33m\u001b[0m\u001b[1;33m\u001b[0m\u001b[0m\n\u001b[0;32m    198\u001b[0m                 is_initialized = session.run(\n\u001b[1;32m--> 199\u001b[1;33m                     [tf.is_variable_initialized(v) for v in candidate_vars])\n\u001b[0m\u001b[0;32m    200\u001b[0m                 \u001b[0muninitialized_vars\u001b[0m \u001b[1;33m=\u001b[0m \u001b[1;33m[\u001b[0m\u001b[1;33m]\u001b[0m\u001b[1;33m\u001b[0m\u001b[1;33m\u001b[0m\u001b[0m\n\u001b[0;32m    201\u001b[0m                 \u001b[1;32mfor\u001b[0m \u001b[0mflag\u001b[0m\u001b[1;33m,\u001b[0m \u001b[0mv\u001b[0m \u001b[1;32min\u001b[0m \u001b[0mzip\u001b[0m\u001b[1;33m(\u001b[0m\u001b[0mis_initialized\u001b[0m\u001b[1;33m,\u001b[0m \u001b[0mcandidate_vars\u001b[0m\u001b[1;33m)\u001b[0m\u001b[1;33m:\u001b[0m\u001b[1;33m\u001b[0m\u001b[1;33m\u001b[0m\u001b[0m\n",
      "\u001b[1;32mc:\\Users\\BME-4\\Anaconda3\\lib\\site-packages\\tensorflow\\python\\client\\session.py\u001b[0m in \u001b[0;36mrun\u001b[1;34m(self, fetches, feed_dict, options, run_metadata)\u001b[0m\n\u001b[0;32m    927\u001b[0m       \u001b[0moptions\u001b[0m\u001b[1;33m:\u001b[0m \u001b[0mA\u001b[0m \u001b[1;33m[\u001b[0m\u001b[0;31m`\u001b[0m\u001b[0mRunOptions\u001b[0m\u001b[0;31m`\u001b[0m\u001b[1;33m]\u001b[0m \u001b[0mprotocol\u001b[0m \u001b[0mbuffer\u001b[0m\u001b[1;33m\u001b[0m\u001b[1;33m\u001b[0m\u001b[0m\n\u001b[0;32m    928\u001b[0m       \u001b[0mrun_metadata\u001b[0m\u001b[1;33m:\u001b[0m \u001b[0mA\u001b[0m \u001b[1;33m[\u001b[0m\u001b[0;31m`\u001b[0m\u001b[0mRunMetadata\u001b[0m\u001b[0;31m`\u001b[0m\u001b[1;33m]\u001b[0m \u001b[0mprotocol\u001b[0m \u001b[0mbuffer\u001b[0m\u001b[1;33m\u001b[0m\u001b[1;33m\u001b[0m\u001b[0m\n\u001b[1;32m--> 929\u001b[1;33m \u001b[1;33m\u001b[0m\u001b[0m\n\u001b[0m\u001b[0;32m    930\u001b[0m     \u001b[0mReturns\u001b[0m\u001b[1;33m:\u001b[0m\u001b[1;33m\u001b[0m\u001b[1;33m\u001b[0m\u001b[0m\n\u001b[0;32m    931\u001b[0m       \u001b[0mEither\u001b[0m \u001b[0ma\u001b[0m \u001b[0msingle\u001b[0m \u001b[0mvalue\u001b[0m \u001b[1;32mif\u001b[0m\u001b[0;31m \u001b[0m\u001b[0;31m`\u001b[0m\u001b[0mfetches\u001b[0m\u001b[0;31m`\u001b[0m \u001b[1;32mis\u001b[0m \u001b[0ma\u001b[0m \u001b[0msingle\u001b[0m \u001b[0mgraph\u001b[0m \u001b[0melement\u001b[0m\u001b[1;33m,\u001b[0m \u001b[1;32mor\u001b[0m\u001b[1;33m\u001b[0m\u001b[1;33m\u001b[0m\u001b[0m\n",
      "\u001b[1;32mc:\\Users\\BME-4\\Anaconda3\\lib\\site-packages\\tensorflow\\python\\client\\session.py\u001b[0m in \u001b[0;36m_run\u001b[1;34m(self, handle, fetches, feed_dict, options, run_metadata)\u001b[0m\n\u001b[0;32m   1150\u001b[0m           \u001b[1;32mif\u001b[0m \u001b[1;32mnot\u001b[0m \u001b[0mself\u001b[0m\u001b[1;33m.\u001b[0m\u001b[0mgraph\u001b[0m\u001b[1;33m.\u001b[0m\u001b[0mis_feedable\u001b[0m\u001b[1;33m(\u001b[0m\u001b[0msubfeed_t\u001b[0m\u001b[1;33m)\u001b[0m\u001b[1;33m:\u001b[0m\u001b[1;33m\u001b[0m\u001b[1;33m\u001b[0m\u001b[0m\n\u001b[0;32m   1151\u001b[0m             \u001b[1;32mraise\u001b[0m \u001b[0mValueError\u001b[0m\u001b[1;33m(\u001b[0m\u001b[1;34m'Tensor %s may not be fed.'\u001b[0m \u001b[1;33m%\u001b[0m \u001b[0msubfeed_t\u001b[0m\u001b[1;33m)\u001b[0m\u001b[1;33m\u001b[0m\u001b[1;33m\u001b[0m\u001b[0m\n\u001b[1;32m-> 1152\u001b[1;33m \u001b[1;33m\u001b[0m\u001b[0m\n\u001b[0m\u001b[0;32m   1153\u001b[0m           \u001b[0mfeed_dict_tensor\u001b[0m\u001b[1;33m[\u001b[0m\u001b[0msubfeed_t\u001b[0m\u001b[1;33m]\u001b[0m \u001b[1;33m=\u001b[0m \u001b[0mnp_val\u001b[0m\u001b[1;33m\u001b[0m\u001b[1;33m\u001b[0m\u001b[0m\n\u001b[0;32m   1154\u001b[0m           \u001b[0mfeed_map\u001b[0m\u001b[1;33m[\u001b[0m\u001b[0mcompat\u001b[0m\u001b[1;33m.\u001b[0m\u001b[0mas_bytes\u001b[0m\u001b[1;33m(\u001b[0m\u001b[0msubfeed_t\u001b[0m\u001b[1;33m.\u001b[0m\u001b[0mname\u001b[0m\u001b[1;33m)\u001b[0m\u001b[1;33m]\u001b[0m \u001b[1;33m=\u001b[0m \u001b[1;33m(\u001b[0m\u001b[0msubfeed_t\u001b[0m\u001b[1;33m,\u001b[0m \u001b[0msubfeed_val\u001b[0m\u001b[1;33m)\u001b[0m\u001b[1;33m\u001b[0m\u001b[1;33m\u001b[0m\u001b[0m\n",
      "\u001b[1;32mc:\\Users\\BME-4\\Anaconda3\\lib\\site-packages\\tensorflow\\python\\client\\session.py\u001b[0m in \u001b[0;36m_do_run\u001b[1;34m(self, handle, target_list, fetch_list, feed_dict, options, run_metadata)\u001b[0m\n\u001b[0;32m   1326\u001b[0m       \u001b[0mwill\u001b[0m \u001b[0mbe\u001b[0m \u001b[0mreturned\u001b[0m \u001b[1;32mfor\u001b[0m \u001b[0mthat\u001b[0m \u001b[0melement\u001b[0m\u001b[1;33m.\u001b[0m\u001b[1;33m\u001b[0m\u001b[1;33m\u001b[0m\u001b[0m\n\u001b[0;32m   1327\u001b[0m \u001b[1;33m\u001b[0m\u001b[0m\n\u001b[1;32m-> 1328\u001b[1;33m     \u001b[0mRaises\u001b[0m\u001b[1;33m:\u001b[0m\u001b[1;33m\u001b[0m\u001b[1;33m\u001b[0m\u001b[0m\n\u001b[0m\u001b[0;32m   1329\u001b[0m       \u001b[0mtf\u001b[0m\u001b[1;33m.\u001b[0m\u001b[0merrors\u001b[0m\u001b[1;33m.\u001b[0m\u001b[0mOpError\u001b[0m\u001b[1;33m:\u001b[0m \u001b[0mOr\u001b[0m \u001b[0mone\u001b[0m \u001b[0mof\u001b[0m \u001b[0mits\u001b[0m \u001b[0msubclasses\u001b[0m \u001b[0mon\u001b[0m \u001b[0merror\u001b[0m\u001b[1;33m.\u001b[0m\u001b[1;33m\u001b[0m\u001b[1;33m\u001b[0m\u001b[0m\n\u001b[0;32m   1330\u001b[0m     \"\"\"\n",
      "\u001b[1;32mc:\\Users\\BME-4\\Anaconda3\\lib\\site-packages\\tensorflow\\python\\client\\session.py\u001b[0m in \u001b[0;36m_do_call\u001b[1;34m(self, fn, *args)\u001b[0m\n\u001b[0;32m   1346\u001b[0m       \u001b[1;32mreturn\u001b[0m \u001b[0mself\u001b[0m\u001b[1;33m.\u001b[0m\u001b[0m_call_tf_sessionprun\u001b[0m\u001b[1;33m(\u001b[0m\u001b[0mhandle\u001b[0m\u001b[1;33m,\u001b[0m \u001b[0mfeed_dict\u001b[0m\u001b[1;33m,\u001b[0m \u001b[0mfetch_list\u001b[0m\u001b[1;33m)\u001b[0m\u001b[1;33m\u001b[0m\u001b[1;33m\u001b[0m\u001b[0m\n\u001b[0;32m   1347\u001b[0m \u001b[1;33m\u001b[0m\u001b[0m\n\u001b[1;32m-> 1348\u001b[1;33m     \u001b[1;32mif\u001b[0m \u001b[0mhandle\u001b[0m \u001b[1;32mis\u001b[0m \u001b[1;32mNone\u001b[0m\u001b[1;33m:\u001b[0m\u001b[1;33m\u001b[0m\u001b[1;33m\u001b[0m\u001b[0m\n\u001b[0m\u001b[0;32m   1349\u001b[0m       return self._do_call(_run_fn, feeds, fetches, targets, options,\n\u001b[0;32m   1350\u001b[0m                            run_metadata)\n",
      "\u001b[1;31mInternalError\u001b[0m: GPU sync failed"
     ]
    }
   ],
   "source": [
    "from keras.models import Sequential\n",
    "from keras.layers import Dense, Dropout\n",
    "from keras.layers import Embedding\n",
    "from keras.layers import LSTM\n",
    "\n",
    "max_features = 1024\n",
    "\n",
    "model = Sequential()\n",
    "model.add(Embedding(max_features, output_dim=256))\n",
    "model.add(LSTM(128))\n",
    "model.add(Dropout(0.5))\n",
    "model.add(Dense(1, activation='sigmoid'))\n",
    "\n",
    "model.compile(loss='binary_crossentropy',\n",
    "              optimizer='rmsprop',\n",
    "              metrics=['accuracy'])\n",
    "\n",
    "model.fit(x_train, y_train, batch_size=2, epochs=10)\n",
    "score = model.evaluate(x_test, y_test, batch_size=16)"
   ]
  },
  {
   "cell_type": "code",
   "execution_count": null,
   "metadata": {},
   "outputs": [],
   "source": []
  }
 ],
 "metadata": {
  "kernelspec": {
   "display_name": "Python 3",
   "language": "python",
   "name": "python3"
  },
  "language_info": {
   "codemirror_mode": {
    "name": "ipython",
    "version": 3
   },
   "file_extension": ".py",
   "mimetype": "text/x-python",
   "name": "python",
   "nbconvert_exporter": "python",
   "pygments_lexer": "ipython3",
   "version": "3.7.3"
  }
 },
 "nbformat": 4,
 "nbformat_minor": 2
}
