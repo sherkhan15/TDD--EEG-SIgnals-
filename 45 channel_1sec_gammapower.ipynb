{
 "cells": [
  {
   "cell_type": "code",
   "execution_count": 1,
   "metadata": {},
   "outputs": [
    {
     "name": "stdout",
     "output_type": "stream",
     "text": [
      "Number of rows and columns: (8391, 46)\n"
     ]
    },
    {
     "data": {
      "text/html": [
       "<div>\n",
       "<style scoped>\n",
       "    .dataframe tbody tr th:only-of-type {\n",
       "        vertical-align: middle;\n",
       "    }\n",
       "\n",
       "    .dataframe tbody tr th {\n",
       "        vertical-align: top;\n",
       "    }\n",
       "\n",
       "    .dataframe thead th {\n",
       "        text-align: right;\n",
       "    }\n",
       "</style>\n",
       "<table border=\"1\" class=\"dataframe\">\n",
       "  <thead>\n",
       "    <tr style=\"text-align: right;\">\n",
       "      <th></th>\n",
       "      <th>0.49674</th>\n",
       "      <th>0.27869</th>\n",
       "      <th>0.36769</th>\n",
       "      <th>0.15285</th>\n",
       "      <th>0.1606</th>\n",
       "      <th>0.1328</th>\n",
       "      <th>0.17606</th>\n",
       "      <th>0.3842</th>\n",
       "      <th>0.19877</th>\n",
       "      <th>0.17507</th>\n",
       "      <th>...</th>\n",
       "      <th>0.026382</th>\n",
       "      <th>0.47723</th>\n",
       "      <th>0.49575</th>\n",
       "      <th>0.020878</th>\n",
       "      <th>0.56216</th>\n",
       "      <th>0.072675</th>\n",
       "      <th>0.012301</th>\n",
       "      <th>0.20969</th>\n",
       "      <th>0.96803</th>\n",
       "      <th>1</th>\n",
       "    </tr>\n",
       "  </thead>\n",
       "  <tbody>\n",
       "    <tr>\n",
       "      <th>0</th>\n",
       "      <td>0.33987</td>\n",
       "      <td>0.30726</td>\n",
       "      <td>0.41558</td>\n",
       "      <td>0.08913</td>\n",
       "      <td>0.050547</td>\n",
       "      <td>0.06491</td>\n",
       "      <td>0.39323</td>\n",
       "      <td>0.38360</td>\n",
       "      <td>0.10949</td>\n",
       "      <td>0.051013</td>\n",
       "      <td>...</td>\n",
       "      <td>0.024939</td>\n",
       "      <td>0.44242</td>\n",
       "      <td>1.10520</td>\n",
       "      <td>0.059324</td>\n",
       "      <td>0.59389</td>\n",
       "      <td>0.104870</td>\n",
       "      <td>0.015580</td>\n",
       "      <td>0.28607</td>\n",
       "      <td>0.8052</td>\n",
       "      <td>1</td>\n",
       "    </tr>\n",
       "    <tr>\n",
       "      <th>1</th>\n",
       "      <td>1.05390</td>\n",
       "      <td>0.62420</td>\n",
       "      <td>0.76443</td>\n",
       "      <td>0.16515</td>\n",
       "      <td>0.130160</td>\n",
       "      <td>0.12405</td>\n",
       "      <td>0.20658</td>\n",
       "      <td>0.31734</td>\n",
       "      <td>0.13543</td>\n",
       "      <td>0.107550</td>\n",
       "      <td>...</td>\n",
       "      <td>0.031025</td>\n",
       "      <td>0.37524</td>\n",
       "      <td>0.96673</td>\n",
       "      <td>0.016728</td>\n",
       "      <td>0.68470</td>\n",
       "      <td>0.110690</td>\n",
       "      <td>0.024799</td>\n",
       "      <td>0.39180</td>\n",
       "      <td>1.6939</td>\n",
       "      <td>1</td>\n",
       "    </tr>\n",
       "    <tr>\n",
       "      <th>2</th>\n",
       "      <td>0.52938</td>\n",
       "      <td>0.55425</td>\n",
       "      <td>1.15230</td>\n",
       "      <td>0.19599</td>\n",
       "      <td>0.250720</td>\n",
       "      <td>0.19250</td>\n",
       "      <td>0.54821</td>\n",
       "      <td>0.61870</td>\n",
       "      <td>0.12645</td>\n",
       "      <td>0.168630</td>\n",
       "      <td>...</td>\n",
       "      <td>0.024906</td>\n",
       "      <td>0.36123</td>\n",
       "      <td>0.80062</td>\n",
       "      <td>0.023526</td>\n",
       "      <td>0.33890</td>\n",
       "      <td>0.129660</td>\n",
       "      <td>0.024569</td>\n",
       "      <td>0.12719</td>\n",
       "      <td>1.2756</td>\n",
       "      <td>1</td>\n",
       "    </tr>\n",
       "    <tr>\n",
       "      <th>3</th>\n",
       "      <td>0.41048</td>\n",
       "      <td>0.57873</td>\n",
       "      <td>1.08700</td>\n",
       "      <td>0.19010</td>\n",
       "      <td>0.197860</td>\n",
       "      <td>0.11049</td>\n",
       "      <td>0.34741</td>\n",
       "      <td>0.58997</td>\n",
       "      <td>0.19465</td>\n",
       "      <td>0.156660</td>\n",
       "      <td>...</td>\n",
       "      <td>0.033802</td>\n",
       "      <td>0.17266</td>\n",
       "      <td>0.58332</td>\n",
       "      <td>0.029163</td>\n",
       "      <td>0.25033</td>\n",
       "      <td>0.070588</td>\n",
       "      <td>0.019401</td>\n",
       "      <td>0.17296</td>\n",
       "      <td>1.3850</td>\n",
       "      <td>1</td>\n",
       "    </tr>\n",
       "    <tr>\n",
       "      <th>4</th>\n",
       "      <td>0.77517</td>\n",
       "      <td>0.80068</td>\n",
       "      <td>0.60916</td>\n",
       "      <td>0.16913</td>\n",
       "      <td>0.160560</td>\n",
       "      <td>0.25734</td>\n",
       "      <td>0.35381</td>\n",
       "      <td>0.47752</td>\n",
       "      <td>0.17826</td>\n",
       "      <td>0.188030</td>\n",
       "      <td>...</td>\n",
       "      <td>0.015676</td>\n",
       "      <td>0.62293</td>\n",
       "      <td>0.80999</td>\n",
       "      <td>0.035136</td>\n",
       "      <td>0.67094</td>\n",
       "      <td>0.128600</td>\n",
       "      <td>0.036664</td>\n",
       "      <td>0.35137</td>\n",
       "      <td>1.4768</td>\n",
       "      <td>1</td>\n",
       "    </tr>\n",
       "  </tbody>\n",
       "</table>\n",
       "<p>5 rows × 46 columns</p>\n",
       "</div>"
      ],
      "text/plain": [
       "   0.49674  0.27869  0.36769  0.15285    0.1606   0.1328  0.17606   0.3842  \\\n",
       "0  0.33987  0.30726  0.41558  0.08913  0.050547  0.06491  0.39323  0.38360   \n",
       "1  1.05390  0.62420  0.76443  0.16515  0.130160  0.12405  0.20658  0.31734   \n",
       "2  0.52938  0.55425  1.15230  0.19599  0.250720  0.19250  0.54821  0.61870   \n",
       "3  0.41048  0.57873  1.08700  0.19010  0.197860  0.11049  0.34741  0.58997   \n",
       "4  0.77517  0.80068  0.60916  0.16913  0.160560  0.25734  0.35381  0.47752   \n",
       "\n",
       "   0.19877   0.17507  ...  0.026382  0.47723  0.49575  0.020878  0.56216  \\\n",
       "0  0.10949  0.051013  ...  0.024939  0.44242  1.10520  0.059324  0.59389   \n",
       "1  0.13543  0.107550  ...  0.031025  0.37524  0.96673  0.016728  0.68470   \n",
       "2  0.12645  0.168630  ...  0.024906  0.36123  0.80062  0.023526  0.33890   \n",
       "3  0.19465  0.156660  ...  0.033802  0.17266  0.58332  0.029163  0.25033   \n",
       "4  0.17826  0.188030  ...  0.015676  0.62293  0.80999  0.035136  0.67094   \n",
       "\n",
       "   0.072675  0.012301  0.20969  0.96803  1  \n",
       "0  0.104870  0.015580  0.28607   0.8052  1  \n",
       "1  0.110690  0.024799  0.39180   1.6939  1  \n",
       "2  0.129660  0.024569  0.12719   1.2756  1  \n",
       "3  0.070588  0.019401  0.17296   1.3850  1  \n",
       "4  0.128600  0.036664  0.35137   1.4768  1  \n",
       "\n",
       "[5 rows x 46 columns]"
      ]
     },
     "execution_count": 1,
     "metadata": {},
     "output_type": "execute_result"
    }
   ],
   "source": [
    "import numpy as np\n",
    "import matplotlib.pyplot as plt\n",
    "import pandas as pd\n",
    "import warnings\n",
    "warnings.filterwarnings('ignore')\n",
    "from sklearn import preprocessing\n",
    "import tensorflow as tf\n",
    "%matplotlib inline\n",
    "import sklearn\n",
    "import seaborn as sns\n",
    "from sklearn.preprocessing import StandardScaler\n",
    "df=pd.read_csv('45 channel 1sec gammapower with labels.csv')\n",
    "\n",
    "\n",
    "print('Number of rows and columns:', df.shape)\n",
    "df.head(5)\n"
   ]
  },
  {
   "cell_type": "markdown",
   "metadata": {},
   "source": [
    "\n",
    "\n",
    "**Labelling COLUMNS**"
   ]
  },
  {
   "cell_type": "code",
   "execution_count": 2,
   "metadata": {},
   "outputs": [
    {
     "name": "stdout",
     "output_type": "stream",
     "text": [
      "Index(['0.49674', '0.27869', '0.36769', '0.15285', '0.1606', '0.1328',\n",
      "       '0.17606', '0.3842', '0.19877', '0.17507', '0.10564', '0.3156',\n",
      "       '0.14643', '0.10827', '1.2166', '0.073472', '0.037876', '0.26714',\n",
      "       '0.49989', '0.094403', '0.037798', '0.0073178', '0.6007', '2.7036',\n",
      "       '0.18483', '0.14811', '0.17573', '1.3432', '0.17928', '0.10368',\n",
      "       '0.15127', '0.16376', '0.13955', '0.16332', '0.21231', '0.85415',\n",
      "       '0.026382', '0.47723', '0.49575', '0.020878', '0.56216', '0.072675',\n",
      "       '0.012301', '0.20969', '0.96803', '1'],\n",
      "      dtype='object')\n"
     ]
    }
   ],
   "source": [
    "print(df.columns)"
   ]
  },
  {
   "cell_type": "code",
   "execution_count": 3,
   "metadata": {},
   "outputs": [],
   "source": [
    "new_names = {'0.49674':'a', '0.27869':'b', '0.36769':'c', '0.15285':'cd', '0.1606':'d','0.1328':'de','0.17606':'e','0.3842':'f','0.19877':'g',\n",
    "       '0.17507':'l', '0.10564':'m', '0.3156':'n', '0.14643':'o', '0.10827':'p','1.2166':'q', '0.073472':'r',\n",
    "       '0.037876':'s', '0.26714':'t', '0.49989':'u', '0.094403':'v', '0.037798':'w', '0.0073178':'x', '0.6007':'y',\n",
    "       '2.22':'z', '0.13759':'aa', '0.22783':'bb', '2.3247':'cc', '3.8245':'dd', '0.16294':'ee',\n",
    "       '2.7036':'ff', '0.18483':'gg', '0.16376':'hh', '0.13955':'ii', '0.16332':'jj', '0.21231':'kk',\n",
    "       '0.85415':'ll', '0.026382':'mm', '0.47723':'nn', '0.49575':'oo', '0.020878':'pp', '0.56216':'qq',\n",
    "       '0.072675':'rr','0.012301':'j','0.14811':'ss','0.17573':'tt','1.3432':'uu','0.17928':'vv','0.10368':'ww','0.15127':'xx',\n",
    "       '0.20969':'k','0.96803':'h','1':'labels'}\n",
    "df= df.rename(index=str, columns=new_names)"
   ]
  },
  {
   "cell_type": "markdown",
   "metadata": {},
   "source": [
    "***Checking any null Values***"
   ]
  },
  {
   "cell_type": "code",
   "execution_count": 4,
   "metadata": {},
   "outputs": [
    {
     "name": "stdout",
     "output_type": "stream",
     "text": [
      "<class 'pandas.core.frame.DataFrame'>\n",
      "Index: 8391 entries, 0 to 8390\n",
      "Data columns (total 46 columns):\n",
      "a         8391 non-null float64\n",
      "b         8391 non-null float64\n",
      "c         8391 non-null float64\n",
      "cd        8391 non-null float64\n",
      "d         8391 non-null float64\n",
      "de        8391 non-null float64\n",
      "e         8391 non-null float64\n",
      "f         8391 non-null float64\n",
      "g         8391 non-null float64\n",
      "l         8391 non-null float64\n",
      "m         8391 non-null float64\n",
      "n         8391 non-null float64\n",
      "o         8391 non-null float64\n",
      "p         8391 non-null float64\n",
      "q         8391 non-null float64\n",
      "r         8391 non-null float64\n",
      "s         8391 non-null float64\n",
      "t         8391 non-null float64\n",
      "u         8391 non-null float64\n",
      "v         8391 non-null float64\n",
      "w         8391 non-null float64\n",
      "x         8391 non-null float64\n",
      "y         8391 non-null float64\n",
      "ff        8391 non-null float64\n",
      "gg        8391 non-null float64\n",
      "ss        8391 non-null float64\n",
      "tt        8391 non-null float64\n",
      "uu        8391 non-null float64\n",
      "vv        8391 non-null float64\n",
      "ww        8391 non-null float64\n",
      "xx        8391 non-null float64\n",
      "hh        8391 non-null float64\n",
      "ii        8391 non-null float64\n",
      "jj        8391 non-null float64\n",
      "kk        8391 non-null float64\n",
      "ll        8391 non-null float64\n",
      "mm        8391 non-null float64\n",
      "nn        8391 non-null float64\n",
      "oo        8391 non-null float64\n",
      "pp        8391 non-null float64\n",
      "qq        8391 non-null float64\n",
      "rr        8391 non-null float64\n",
      "j         8391 non-null float64\n",
      "k         8391 non-null float64\n",
      "h         8391 non-null float64\n",
      "labels    8391 non-null int64\n",
      "dtypes: float64(45), int64(1)\n",
      "memory usage: 3.0+ MB\n"
     ]
    }
   ],
   "source": [
    "\n",
    "df.info()\n"
   ]
  },
  {
   "cell_type": "code",
   "execution_count": 5,
   "metadata": {},
   "outputs": [
    {
     "name": "stdout",
     "output_type": "stream",
     "text": [
      "                 a            b            c           cd            d  \\\n",
      "count  8391.000000  8391.000000  8391.000000  8391.000000  8391.000000   \n",
      "mean      1.793848     1.408637     1.668601     5.297504     1.338683   \n",
      "std       3.779297     2.993216     4.697215    22.797560     3.771786   \n",
      "min       0.069340     0.071170     0.041441     0.029195     0.029953   \n",
      "25%       0.557810     0.395340     0.539525     0.745215     0.357695   \n",
      "50%       0.944410     0.684720     0.897880     1.550700     0.621820   \n",
      "75%       1.756700     1.468150     1.730500     3.101900     1.195550   \n",
      "max      98.518000   120.590000   284.630000   725.290000   171.880000   \n",
      "\n",
      "                de            e            f            g            l  \\\n",
      "count  8391.000000  8391.000000  8391.000000  8391.000000  8391.000000   \n",
      "mean      0.862561     1.644785     5.783262     4.993241     0.865916   \n",
      "std       1.368859     8.802944    48.612101    21.531581     1.933451   \n",
      "min       0.033560     0.040783     0.080078     0.027815     0.025045   \n",
      "25%       0.269950     0.430565     0.824965     0.527490     0.269830   \n",
      "50%       0.483020     0.695430     1.620700     1.003100     0.465490   \n",
      "75%       0.917665     1.183300     3.132800     2.138450     0.780645   \n",
      "max      31.985000   379.310000  2832.800000   798.240000    80.538000   \n",
      "\n",
      "                 m            n            o            p            q  \\\n",
      "count  8391.000000  8391.000000  8391.000000  8391.000000  8391.000000   \n",
      "mean      0.905211     4.881819     2.038795     0.572346     1.715630   \n",
      "std       2.466949    18.520333    11.077532     1.565252     8.589664   \n",
      "min       0.037770     0.100210     0.028458     0.006808     0.034137   \n",
      "25%       0.264175     0.579745     0.301995     0.125850     0.301415   \n",
      "50%       0.434850     1.018200     0.505930     0.207910     0.487040   \n",
      "75%       0.735580     2.386350     0.979990     0.360665     0.914375   \n",
      "max      95.067000   529.470000   523.900000    26.010000   552.550000   \n",
      "\n",
      "                 r            s            t            u            v  \\\n",
      "count  8391.000000  8391.000000  8391.000000  8391.000000  8391.000000   \n",
      "mean      3.029604     0.478581     0.427753     2.817415     3.047414   \n",
      "std      10.111877     1.317523     1.502539    10.554451     5.202499   \n",
      "min       0.023601     0.006775     0.006362     0.095258     0.038797   \n",
      "25%       0.482100     0.097959     0.088217     0.442885     0.700250   \n",
      "50%       0.827000     0.155840     0.145930     0.745220     1.332700   \n",
      "75%       1.915700     0.281605     0.250860     1.600250     3.179900   \n",
      "max     354.660000    30.492000    86.271000   504.180000   203.640000   \n",
      "\n",
      "                 w            x            y           ff           gg  \\\n",
      "count  8391.000000  8391.000000  8391.000000  8391.000000  8391.000000   \n",
      "mean      0.879887     0.263976     0.819312     2.651374     2.564770   \n",
      "std       1.509913     0.381169     1.606122     4.212779    13.165823   \n",
      "min       0.016527     0.002884     0.017912     0.020876     0.027542   \n",
      "25%       0.248540     0.083457     0.261860     0.755680     0.641495   \n",
      "50%       0.482100     0.180310     0.463680     1.591200     1.176100   \n",
      "75%       0.909135     0.320550     0.840685     3.138750     2.322050   \n",
      "max      51.866000    20.506000    79.351000   122.820000   664.060000   \n",
      "\n",
      "                ss           tt           uu           vv           ww  \\\n",
      "count  8391.000000  8391.000000  8391.000000  8391.000000  8391.000000   \n",
      "mean      1.147431     1.222058     2.673551     2.645695     0.921185   \n",
      "std       2.521003     5.200145    10.904946    11.401909     2.042878   \n",
      "min       0.029078     0.074560     0.076679     0.030139     0.033922   \n",
      "25%       0.300460     0.369650     0.705940     0.461200     0.295145   \n",
      "50%       0.586840     0.626510     1.236400     0.903250     0.507320   \n",
      "75%       1.215900     1.140050     2.357200     1.930800     0.897245   \n",
      "max      81.941000   268.160000   423.730000   667.290000    81.514000   \n",
      "\n",
      "                xx           hh           ii           jj           kk  \\\n",
      "count  8391.000000  8391.000000  8391.000000  8391.000000  8391.000000   \n",
      "mean      0.890865     2.773500     2.734469     1.151317     2.152318   \n",
      "std       3.201603    12.614676    12.322329     3.465113    25.541864   \n",
      "min       0.038096     0.069410     0.031959     0.026086     0.030351   \n",
      "25%       0.294835     0.510790     0.356535     0.263370     0.357905   \n",
      "50%       0.502300     0.863660     0.617660     0.466350     0.581610   \n",
      "75%       0.854475     1.698400     1.404300     0.830255     1.005200   \n",
      "max     137.910000   480.610000   562.610000    82.064000  1329.100000   \n",
      "\n",
      "                ll           mm           nn           oo           pp  \\\n",
      "count  8391.000000  8391.000000  8391.000000  8391.000000  8391.000000   \n",
      "mean      3.149071     0.769993     0.898784     4.180781     0.911223   \n",
      "std      11.016938     3.786245     6.595685    16.942836     3.430840   \n",
      "min       0.035556     0.006246     0.014751     0.084381     0.004895   \n",
      "25%       0.573315     0.158715     0.155900     0.529000     0.181375   \n",
      "50%       1.037300     0.253240     0.253410     0.978950     0.309980   \n",
      "75%       2.187300     0.430755     0.432600     2.472700     0.589015   \n",
      "max     546.600000   226.540000   484.500000   914.600000   175.210000   \n",
      "\n",
      "                qq           rr            j            k            h  \\\n",
      "count  8391.000000  8391.000000  8391.000000  8391.000000  8391.000000   \n",
      "mean      0.881416     1.521549     0.690855     0.472577     1.461677   \n",
      "std       2.872215     3.007024     1.248386     0.825684     2.437873   \n",
      "min       0.019788     0.021258     0.007599     0.010537     0.019394   \n",
      "25%       0.192360     0.448675     0.206480     0.163325     0.401860   \n",
      "50%       0.335680     0.819900     0.360830     0.274080     0.717710   \n",
      "75%       0.630945     1.572250     0.710445     0.479140     1.519850   \n",
      "max     161.090000   160.850000    50.843000    22.067000    67.633000   \n",
      "\n",
      "            labels  \n",
      "count  8391.000000  \n",
      "mean      0.424383  \n",
      "std       0.494278  \n",
      "min       0.000000  \n",
      "25%       0.000000  \n",
      "50%       0.000000  \n",
      "75%       1.000000  \n",
      "max       1.000000  \n"
     ]
    }
   ],
   "source": [
    "pd.set_option('display.max_columns', None)\n",
    "print(df.describe())\n",
    "\n"
   ]
  },
  {
   "cell_type": "markdown",
   "metadata": {},
   "source": [
    "***spliting the file in the data and target class***"
   ]
  },
  {
   "cell_type": "code",
   "execution_count": 6,
   "metadata": {},
   "outputs": [],
   "source": [
    "data = df.iloc[:,:-1].values.tolist()\n",
    "target = df.iloc[:,-1].tolist()"
   ]
  },
  {
   "cell_type": "code",
   "execution_count": 7,
   "metadata": {},
   "outputs": [
    {
     "name": "stderr",
     "output_type": "stream",
     "text": [
      "IOPub data rate exceeded.\n",
      "The notebook server will temporarily stop sending output\n",
      "to the client in order to avoid crashing it.\n",
      "To change this limit, set the config variable\n",
      "`--NotebookApp.iopub_data_rate_limit`.\n",
      "\n",
      "Current values:\n",
      "NotebookApp.iopub_data_rate_limit=1000000.0 (bytes/sec)\n",
      "NotebookApp.rate_limit_window=3.0 (secs)\n",
      "\n"
     ]
    }
   ],
   "source": [
    "\n",
    "print(data)\n",
    "print(target)"
   ]
  },
  {
   "cell_type": "markdown",
   "metadata": {},
   "source": [
    "**heatmap**"
   ]
  },
  {
   "cell_type": "code",
   "execution_count": 8,
   "metadata": {},
   "outputs": [
    {
     "data": {
      "text/plain": [
       "Text(0.5, 1.0, 'Correlation of Variables')"
      ]
     },
     "execution_count": 8,
     "metadata": {},
     "output_type": "execute_result"
    },
    {
     "data": {
      "image/png": "[encoded data removed]",
      "text/plain": [
       "<Figure size 1440x1440 with 2 Axes>"
      ]
     },
     "metadata": {
      "needs_background": "light"
     },
     "output_type": "display_data"
    }
   ],
   "source": [
    "col_list = df.columns\n",
    "fig, ax = plt.subplots(figsize=(20,20))  \n",
    "sns.heatmap(df[col_list].corr(),square=True,linewidths=1)\n",
    "plt.title('Correlation of Variables')"
   ]
  },
  {
   "cell_type": "markdown",
   "metadata": {},
   "source": [
    "**Normalizing**"
   ]
  },
  {
   "cell_type": "code",
   "execution_count": 9,
   "metadata": {},
   "outputs": [],
   "source": [
    "from sklearn import preprocessing\n",
    "from sklearn.model_selection import train_test_split\n",
    "x =df[df.columns[:46]]\n",
    "y =df.labels\n",
    "x_train, x_test, y_train, y_test = train_test_split(x, y , train_size = 0.7, random_state =  90)"
   ]
  },
  {
   "cell_type": "markdown",
   "metadata": {},
   "source": [
    " **Select numerical columns which needs to be normalized**"
   ]
  },
  {
   "cell_type": "code",
   "execution_count": 10,
   "metadata": {},
   "outputs": [],
   "source": [
    "train_norm = x_train[x_train.columns[0:20]]\n",
    "test_norm = x_test[x_test.columns[0:20]]"
   ]
  },
  {
   "cell_type": "markdown",
   "metadata": {},
   "source": [
    "**Normalize Training Data**"
   ]
  },
  {
   "cell_type": "code",
   "execution_count": 11,
   "metadata": {},
   "outputs": [],
   "source": [
    "std_scale = preprocessing.StandardScaler().fit(train_norm)\n",
    "x_train_norm = std_scale.transform(train_norm)"
   ]
  },
  {
   "cell_type": "markdown",
   "metadata": {},
   "source": [
    "**Converting numpy array to dataframe**"
   ]
  },
  {
   "cell_type": "code",
   "execution_count": 12,
   "metadata": {},
   "outputs": [
    {
     "name": "stdout",
     "output_type": "stream",
     "text": [
      "             a         b         c        cd         d        de         e  \\\n",
      "1585 -0.354105 -0.305445 -0.117525 -0.154916 -0.205134 -0.224140 -0.142895   \n",
      "992  -0.204696  0.312349 -0.201139 -0.203993 -0.193627 -0.057237 -0.111692   \n",
      "8204 -0.297802 -0.352704 -0.283117 -0.171747 -0.257141 -0.345081 -0.138971   \n",
      "4674 -0.411978 -0.392180 -0.140315 -0.187469 -0.277363 -0.429146 -0.115687   \n",
      "3593 -0.325274 -0.320462 -0.211205 -0.123498 -0.112134 -0.417585 -0.146237   \n",
      "\n",
      "             f         g         l         m         n         o         p  \\\n",
      "1585 -0.102313 -0.177749 -0.185767 -0.144752 -0.231347 -0.122733 -0.262058   \n",
      "992  -0.090339 -0.195376  0.052427 -0.090994 -0.227187 -0.049325  0.017960   \n",
      "8204 -0.093026 -0.198088 -0.181708 -0.135793 -0.231869 -0.145518 -0.253797   \n",
      "4674 -0.032838 -0.194257 -0.316308 -0.270317 -0.005849 -0.126730 -0.222534   \n",
      "3593 -0.051883  0.009977 -0.175506 -0.263338 -0.217409 -0.087220 -0.291879   \n",
      "\n",
      "             q         r         s         t         u         v        w  \\\n",
      "1585 -0.141187 -0.228126 -0.283664 -0.182037 -0.207702 -0.456604  0.12799   \n",
      "992  -0.130928 -0.246928 -0.214948 -0.060984 -0.209865 -0.469820  0.31865   \n",
      "8204 -0.136611 -0.247147 -0.243576 -0.160298 -0.209755 -0.367733  0.56097   \n",
      "4674 -0.140222 -0.225992 -0.315147 -0.071149  0.501994 -0.349983  0.19090   \n",
      "3593 -0.148235 -0.220037 -0.202008 -0.209950 -0.161087 -0.469327  0.26463   \n",
      "\n",
      "            x        y       ff       gg       ss       tt       uu       vv  \\\n",
      "1585  0.17831  0.26956  2.01570  1.50300  0.32121  0.30830  0.39388  1.61130   \n",
      "992   0.22453  0.31628  0.17594  1.59760  1.64460  0.60348  1.57200  0.59453   \n",
      "8204  0.13437  0.35010  0.48837  0.51823  0.70455  0.37480  0.65697  0.57242   \n",
      "4674  0.22955  1.12800  1.60570  0.58278  0.16423  0.25028  1.91010  0.97958   \n",
      "3593  0.14290  0.28100  1.31100  1.55460  0.39088  0.33991  1.17850  1.50690   \n",
      "\n",
      "           ww       xx       hh       ii       jj       kk       ll       mm  \\\n",
      "1585  0.58864  0.45311  0.35266  0.56279  0.51140  0.41124  2.32280  0.16744   \n",
      "992   0.62038  0.60163  1.63110  0.92172  0.93268  0.24598  0.32409  0.99155   \n",
      "8204  0.40545  0.33886  0.40774  0.28121  0.47044  0.47445  0.43872  0.20863   \n",
      "4674  0.27622  0.31304  4.43420  0.63135  0.22749  0.49756  1.20700  0.18473   \n",
      "3593  0.43465  0.34562  0.91453  1.22980  0.26456  0.32631  1.44550  0.39852   \n",
      "\n",
      "            nn       oo       pp        qq       rr        j        k  \\\n",
      "1585  0.210570  2.20210  0.32715  0.334100  0.52873  0.13800  0.11853   \n",
      "992   1.744300  0.61493  0.11584  0.064514  0.53111  0.61982  0.22072   \n",
      "8204  0.403430  0.54597  0.23345  0.461040  0.55209  0.53351  0.24417   \n",
      "4674  0.097617  7.34090  0.14872  1.485300  0.15739  0.12390  0.36224   \n",
      "3593  0.320840  0.55789  0.47813  0.373990  0.31720  0.26340  0.37085   \n",
      "\n",
      "             h  labels  \n",
      "1585  0.242840       1  \n",
      "992   0.048297       1  \n",
      "8204  0.498170       1  \n",
      "4674  1.726800       1  \n",
      "3593  0.668810       1  \n"
     ]
    }
   ],
   "source": [
    "training_norm_col = pd.DataFrame(x_train_norm, index=train_norm.index, columns=train_norm.columns) \n",
    "x_train.update(training_norm_col)\n",
    "print (x_train.head())"
   ]
  },
  {
   "cell_type": "markdown",
   "metadata": {},
   "source": [
    "**Normalize Testing Data by using mean and SD of training set**"
   ]
  },
  {
   "cell_type": "code",
   "execution_count": 13,
   "metadata": {},
   "outputs": [
    {
     "name": "stdout",
     "output_type": "stream",
     "text": [
      "             a         b         c        cd         d        de         e  \\\n",
      "1585 -0.354105 -0.305445 -0.117525 -0.154916 -0.205134 -0.224140 -0.142895   \n",
      "992  -0.204696  0.312349 -0.201139 -0.203993 -0.193627 -0.057237 -0.111692   \n",
      "8204 -0.297802 -0.352704 -0.283117 -0.171747 -0.257141 -0.345081 -0.138971   \n",
      "4674 -0.411978 -0.392180 -0.140315 -0.187469 -0.277363 -0.429146 -0.115687   \n",
      "3593 -0.325274 -0.320462 -0.211205 -0.123498 -0.112134 -0.417585 -0.146237   \n",
      "\n",
      "             f         g         l         m         n         o         p  \\\n",
      "1585 -0.102313 -0.177749 -0.185767 -0.144752 -0.231347 -0.122733 -0.262058   \n",
      "992  -0.090339 -0.195376  0.052427 -0.090994 -0.227187 -0.049325  0.017960   \n",
      "8204 -0.093026 -0.198088 -0.181708 -0.135793 -0.231869 -0.145518 -0.253797   \n",
      "4674 -0.032838 -0.194257 -0.316308 -0.270317 -0.005849 -0.126730 -0.222534   \n",
      "3593 -0.051883  0.009977 -0.175506 -0.263338 -0.217409 -0.087220 -0.291879   \n",
      "\n",
      "             q         r         s         t         u         v        w  \\\n",
      "1585 -0.141187 -0.228126 -0.283664 -0.182037 -0.207702 -0.456604  0.12799   \n",
      "992  -0.130928 -0.246928 -0.214948 -0.060984 -0.209865 -0.469820  0.31865   \n",
      "8204 -0.136611 -0.247147 -0.243576 -0.160298 -0.209755 -0.367733  0.56097   \n",
      "4674 -0.140222 -0.225992 -0.315147 -0.071149  0.501994 -0.349983  0.19090   \n",
      "3593 -0.148235 -0.220037 -0.202008 -0.209950 -0.161087 -0.469327  0.26463   \n",
      "\n",
      "            x        y       ff       gg       ss       tt       uu       vv  \\\n",
      "1585  0.17831  0.26956  2.01570  1.50300  0.32121  0.30830  0.39388  1.61130   \n",
      "992   0.22453  0.31628  0.17594  1.59760  1.64460  0.60348  1.57200  0.59453   \n",
      "8204  0.13437  0.35010  0.48837  0.51823  0.70455  0.37480  0.65697  0.57242   \n",
      "4674  0.22955  1.12800  1.60570  0.58278  0.16423  0.25028  1.91010  0.97958   \n",
      "3593  0.14290  0.28100  1.31100  1.55460  0.39088  0.33991  1.17850  1.50690   \n",
      "\n",
      "           ww       xx       hh       ii       jj       kk       ll       mm  \\\n",
      "1585  0.58864  0.45311  0.35266  0.56279  0.51140  0.41124  2.32280  0.16744   \n",
      "992   0.62038  0.60163  1.63110  0.92172  0.93268  0.24598  0.32409  0.99155   \n",
      "8204  0.40545  0.33886  0.40774  0.28121  0.47044  0.47445  0.43872  0.20863   \n",
      "4674  0.27622  0.31304  4.43420  0.63135  0.22749  0.49756  1.20700  0.18473   \n",
      "3593  0.43465  0.34562  0.91453  1.22980  0.26456  0.32631  1.44550  0.39852   \n",
      "\n",
      "            nn       oo       pp        qq       rr        j        k  \\\n",
      "1585  0.210570  2.20210  0.32715  0.334100  0.52873  0.13800  0.11853   \n",
      "992   1.744300  0.61493  0.11584  0.064514  0.53111  0.61982  0.22072   \n",
      "8204  0.403430  0.54597  0.23345  0.461040  0.55209  0.53351  0.24417   \n",
      "4674  0.097617  7.34090  0.14872  1.485300  0.15739  0.12390  0.36224   \n",
      "3593  0.320840  0.55789  0.47813  0.373990  0.31720  0.26340  0.37085   \n",
      "\n",
      "             h  labels  \n",
      "1585  0.242840       1  \n",
      "992   0.048297       1  \n",
      "8204  0.498170       1  \n",
      "4674  1.726800       1  \n",
      "3593  0.668810       1  \n"
     ]
    }
   ],
   "source": [
    "x_test_norm = std_scale.transform(test_norm)\n",
    "testing_norm_col = pd.DataFrame(x_test_norm, index=test_norm.index, columns=test_norm.columns) \n",
    "x_test.update(testing_norm_col)\n",
    "print (x_train.head())"
   ]
  },
  {
   "cell_type": "markdown",
   "metadata": {},
   "source": [
    "**Support vector machine**"
   ]
  },
  {
   "cell_type": "code",
   "execution_count": 14,
   "metadata": {},
   "outputs": [],
   "source": [
    "import numpy\n",
    "from sklearn.svm import SVC\n",
    "from sklearn.model_selection import train_test_split\n",
    "from sklearn.metrics import confusion_matrix\n",
    "from sklearn.metrics import accuracy_score"
   ]
  },
  {
   "cell_type": "code",
   "execution_count": 15,
   "metadata": {},
   "outputs": [
    {
     "name": "stdout",
     "output_type": "stream",
     "text": [
      "[[2878   41]\n",
      " [2075   41]]\n",
      "Accuracy score : \n",
      "57.974180734856006\n"
     ]
    }
   ],
   "source": [
    "def svm_classifier(): \n",
    "    file_x = '45 channel 1sec gamamapower.csv'\n",
    "    file_y = 'Label.csv'\n",
    "    \n",
    "    X = data\n",
    "    y = target\n",
    "    # Split the data into training/testing sets\n",
    "    X_train, X_test, y_train, y_test = train_test_split(X, y, test_size=0.6, random_state=42)\n",
    "   \n",
    "    \t\n",
    "\n",
    "     # Feature Scaling\n",
    "    from sklearn.preprocessing import StandardScaler\n",
    "    sc = StandardScaler()\n",
    "    X_train = sc.fit_transform(X_train)    \n",
    "    X_test = sc.transform(X_test)\n",
    "\n",
    "    # SVM Classifier\n",
    "    clf = SVC(kernel = 'rbf', random_state = 50)\n",
    "    clf.fit(X_train, y_train)\n",
    "    y_predict = clf.predict(X_test)\n",
    "    cm = confusion_matrix(y_test, y_predict)\n",
    "    print(cm)\n",
    "    print(\"Accuracy score : \")\n",
    "    print(accuracy_score(y_test, y_predict)*100)\n",
    "    \n",
    "if __name__ == '__main__':\n",
    "    svm_classifier()"
   ]
  },
  {
   "cell_type": "code",
   "execution_count": null,
   "metadata": {},
   "outputs": [],
   "source": []
  },
  {
   "cell_type": "markdown",
   "metadata": {},
   "source": [
    "**sequential model**"
   ]
  },
  {
   "cell_type": "code",
   "execution_count": 16,
   "metadata": {},
   "outputs": [
    {
     "name": "stdout",
     "output_type": "stream",
     "text": [
      "WARNING:tensorflow:From c:\\Users\\BME-4\\Anaconda3\\lib\\site-packages\\keras\\backend\\tensorflow_backend.py:74: The name tf.get_default_graph is deprecated. Please use tf.compat.v1.get_default_graph instead.\n",
      "\n",
      "WARNING:tensorflow:From c:\\Users\\BME-4\\Anaconda3\\lib\\site-packages\\keras\\backend\\tensorflow_backend.py:517: The name tf.placeholder is deprecated. Please use tf.compat.v1.placeholder instead.\n",
      "\n",
      "WARNING:tensorflow:From c:\\Users\\BME-4\\Anaconda3\\lib\\site-packages\\keras\\backend\\tensorflow_backend.py:4138: The name tf.random_uniform is deprecated. Please use tf.random.uniform instead.\n",
      "\n",
      "WARNING:tensorflow:From c:\\Users\\BME-4\\Anaconda3\\lib\\site-packages\\keras\\backend\\tensorflow_backend.py:133: The name tf.placeholder_with_default is deprecated. Please use tf.compat.v1.placeholder_with_default instead.\n",
      "\n",
      "WARNING:tensorflow:From c:\\Users\\BME-4\\Anaconda3\\lib\\site-packages\\keras\\backend\\tensorflow_backend.py:3445: calling dropout (from tensorflow.python.ops.nn_ops) with keep_prob is deprecated and will be removed in a future version.\n",
      "Instructions for updating:\n",
      "Please use `rate` instead of `keep_prob`. Rate should be set to `rate = 1 - keep_prob`.\n",
      "WARNING:tensorflow:From c:\\Users\\BME-4\\Anaconda3\\lib\\site-packages\\keras\\optimizers.py:790: The name tf.train.Optimizer is deprecated. Please use tf.compat.v1.train.Optimizer instead.\n",
      "\n",
      "WARNING:tensorflow:From c:\\Users\\BME-4\\Anaconda3\\lib\\site-packages\\keras\\backend\\tensorflow_backend.py:3376: The name tf.log is deprecated. Please use tf.math.log instead.\n",
      "\n",
      "WARNING:tensorflow:From c:\\Users\\BME-4\\Anaconda3\\lib\\site-packages\\tensorflow\\python\\ops\\nn_impl.py:180: add_dispatch_support.<locals>.wrapper (from tensorflow.python.ops.array_ops) is deprecated and will be removed in a future version.\n",
      "Instructions for updating:\n",
      "Use tf.where in 2.0, which has the same broadcast rule as np.where\n"
     ]
    },
    {
     "name": "stderr",
     "output_type": "stream",
     "text": [
      "Using TensorFlow backend.\n"
     ]
    },
    {
     "name": "stdout",
     "output_type": "stream",
     "text": [
      "Epoch 1/25\n",
      "5873/5873 [==============================] - 2s 404us/step - loss: 0.7582 - acc: 0.6094\n",
      "Epoch 2/25\n",
      "5873/5873 [==============================] - 0s 27us/step - loss: 0.6774 - acc: 0.6756\n",
      "Epoch 3/25\n",
      "5873/5873 [==============================] - 0s 27us/step - loss: 0.6289 - acc: 0.7470\n",
      "Epoch 4/25\n",
      "5873/5873 [==============================] - 0s 27us/step - loss: 0.5578 - acc: 0.8105\n",
      "Epoch 5/25\n",
      "5873/5873 [==============================] - 0s 26us/step - loss: 0.4604 - acc: 0.8541\n",
      "Epoch 6/25\n",
      "5873/5873 [==============================] - 0s 27us/step - loss: 0.3850 - acc: 0.8917\n",
      "Epoch 7/25\n",
      "5873/5873 [==============================] - 0s 26us/step - loss: 0.3160 - acc: 0.9079\n",
      "Epoch 8/25\n",
      "5873/5873 [==============================] - 0s 27us/step - loss: 0.2812 - acc: 0.9171\n",
      "Epoch 9/25\n",
      "5873/5873 [==============================] - 0s 26us/step - loss: 0.2267 - acc: 0.9338\n",
      "Epoch 10/25\n",
      "5873/5873 [==============================] - 0s 26us/step - loss: 0.1987 - acc: 0.9460\n",
      "Epoch 11/25\n",
      "5873/5873 [==============================] - 0s 26us/step - loss: 0.1722 - acc: 0.9530\n",
      "Epoch 12/25\n",
      "5873/5873 [==============================] - 0s 26us/step - loss: 0.1624 - acc: 0.9547\n",
      "Epoch 13/25\n",
      "5873/5873 [==============================] - 0s 27us/step - loss: 0.1403 - acc: 0.9636\n",
      "Epoch 14/25\n",
      "5873/5873 [==============================] - 0s 27us/step - loss: 0.1289 - acc: 0.9641\n",
      "Epoch 15/25\n",
      "5873/5873 [==============================] - 0s 26us/step - loss: 0.1119 - acc: 0.9728\n",
      "Epoch 16/25\n",
      "5873/5873 [==============================] - 0s 27us/step - loss: 0.1233 - acc: 0.9719\n",
      "Epoch 17/25\n",
      "5873/5873 [==============================] - 0s 27us/step - loss: 0.1040 - acc: 0.9736\n",
      "Epoch 18/25\n",
      "5873/5873 [==============================] - 0s 27us/step - loss: 0.0855 - acc: 0.9765\n",
      "Epoch 19/25\n",
      "5873/5873 [==============================] - 0s 26us/step - loss: 0.0846 - acc: 0.9797\n",
      "Epoch 20/25\n",
      "5873/5873 [==============================] - 0s 26us/step - loss: 0.1027 - acc: 0.9789\n",
      "Epoch 21/25\n",
      "5873/5873 [==============================] - 0s 26us/step - loss: 0.0784 - acc: 0.9823\n",
      "Epoch 22/25\n",
      "5873/5873 [==============================] - 0s 27us/step - loss: 0.0784 - acc: 0.9811\n",
      "Epoch 23/25\n",
      "5873/5873 [==============================] - 0s 27us/step - loss: 0.0762 - acc: 0.9831\n",
      "Epoch 24/25\n",
      "5873/5873 [==============================] - 0s 26us/step - loss: 0.0611 - acc: 0.9869\n",
      "Epoch 25/25\n",
      "5873/5873 [==============================] - 0s 27us/step - loss: 0.0804 - acc: 0.9833\n",
      "2518/2518 [==============================] - 0s 26us/step\n"
     ]
    }
   ],
   "source": [
    "import numpy as np\n",
    "from keras.models import Sequential\n",
    "from keras.layers import Dense, Dropout\n",
    "   \n",
    "\n",
    "\n",
    "\n",
    "model = Sequential()\n",
    "model.add(Dense(64, input_dim=46, activation='relu'))\n",
    "model.add(Dropout(0.5))\n",
    "model.add(Dense(64, activation='relu'))\n",
    "model.add(Dense(1, activation='sigmoid'))\n",
    "\n",
    "model.compile(loss='binary_crossentropy',\n",
    "              optimizer='rmsprop',\n",
    "              metrics=['accuracy'])\n",
    "\n",
    "model.fit(x_train, y_train,\n",
    "          epochs=25,\n",
    "          batch_size=128)\n",
    "score = model.evaluate(x_test, y_test, batch_size=128)"
   ]
  },
  {
   "cell_type": "markdown",
   "metadata": {},
   "source": [
    "**LSTM MODELLING**"
   ]
  },
  {
   "cell_type": "code",
   "execution_count": 17,
   "metadata": {},
   "outputs": [
    {
     "name": "stdout",
     "output_type": "stream",
     "text": [
      "Epoch 1/10\n",
      "5873/5873 [==============================] - 19s 3ms/step - loss: 0.0462 - acc: 0.9865\n",
      "Epoch 2/10\n",
      "5873/5873 [==============================] - 19s 3ms/step - loss: 2.4242e-07 - acc: 1.0000\n",
      "Epoch 3/10\n",
      "5873/5873 [==============================] - 18s 3ms/step - loss: 1.1878e-07 - acc: 1.0000\n",
      "Epoch 4/10\n",
      "5873/5873 [==============================] - 18s 3ms/step - loss: 1.1208e-07 - acc: 1.0000\n",
      "Epoch 5/10\n",
      "5873/5873 [==============================] - 18s 3ms/step - loss: 1.1331e-07 - acc: 1.0000\n",
      "Epoch 6/10\n",
      "5873/5873 [==============================] - 18s 3ms/step - loss: 1.0964e-07 - acc: 1.0000\n",
      "Epoch 7/10\n",
      "5873/5873 [==============================] - 18s 3ms/step - loss: 1.0899e-07 - acc: 1.0000\n",
      "Epoch 8/10\n",
      "5873/5873 [==============================] - 18s 3ms/step - loss: 1.1070e-07 - acc: 1.0000\n",
      "Epoch 9/10\n",
      "5873/5873 [==============================] - 18s 3ms/step - loss: 1.0924e-07 - acc: 1.0000\n",
      "Epoch 10/10\n",
      "5873/5873 [==============================] - 18s 3ms/step - loss: 1.1071e-07 - acc: 1.0000\n",
      "2518/2518 [==============================] - 2s 673us/step\n"
     ]
    }
   ],
   "source": [
    "from keras.models import Sequential\n",
    "from keras.layers import Dense, Dropout\n",
    "from keras.layers import Embedding\n",
    "from keras.layers import LSTM\n",
    "\n",
    "max_features = 1024\n",
    "\n",
    "model = Sequential()\n",
    "model.add(Embedding(max_features, output_dim=256))\n",
    "model.add(LSTM(128))\n",
    "model.add(Dropout(0.5))\n",
    "model.add(Dense(1, activation='sigmoid'))\n",
    "\n",
    "model.compile(loss='binary_crossentropy',\n",
    "              optimizer='rmsprop',\n",
    "              metrics=['accuracy'])\n",
    "\n",
    "model.fit(x_train, y_train, batch_size=20, epochs=10)\n",
    "score = model.evaluate(x_test, y_test, batch_size=20)"
   ]
  },
  {
   "cell_type": "code",
   "execution_count": null,
   "metadata": {},
   "outputs": [],
   "source": []
  },
  {
   "cell_type": "code",
   "execution_count": null,
   "metadata": {},
   "outputs": [],
   "source": []
  }
 ],
 "metadata": {
  "kernelspec": {
   "display_name": "Python 3",
   "language": "python",
   "name": "python3"
  },
  "language_info": {
   "codemirror_mode": {
    "name": "ipython",
    "version": 3
   },
   "file_extension": ".py",
   "mimetype": "text/x-python",
   "name": "python",
   "nbconvert_exporter": "python",
   "pygments_lexer": "ipython3",
   "version": "3.7.4"
  }
 },
 "nbformat": 4,
 "nbformat_minor": 2
}
