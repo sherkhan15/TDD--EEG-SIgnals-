{
 "cells": [
  {
   "cell_type": "code",
   "execution_count": 1,
   "metadata": {},
   "outputs": [],
   "source": [
    "import numpy as np\n",
    "import matplotlib.pyplot as plt\n",
    "import pandas as pd\n",
    "import warnings\n",
    "warnings.filterwarnings('ignore')\n",
    "from sklearn import preprocessing\n",
    "import tensorflow as tf\n",
    "%matplotlib inline\n",
    "import sklearn\n",
    "import seaborn as sns\n",
    "from sklearn.preprocessing import StandardScaler"
   ]
  },
  {
   "cell_type": "code",
   "execution_count": 2,
   "metadata": {},
   "outputs": [],
   "source": [
    "data= pd.read_csv('TDD Raw Data.csv')"
   ]
  },
  {
   "cell_type": "code",
   "execution_count": 3,
   "metadata": {},
   "outputs": [],
   "source": [
    "df=pd.read_csv('TDD Label for Raw.csv')"
   ]
  },
  {
   "cell_type": "code",
   "execution_count": 4,
   "metadata": {},
   "outputs": [],
   "source": [
    "data \n",
    "target = df"
   ]
  },
  {
   "cell_type": "code",
   "execution_count": 5,
   "metadata": {},
   "outputs": [],
   "source": [
    "import numpy\n",
    "from sklearn.model_selection import train_test_split"
   ]
  },
  {
   "cell_type": "code",
   "execution_count": 6,
   "metadata": {},
   "outputs": [],
   "source": [
    "X = data\n",
    "y = target\n",
    "# Split the data into training/testing sets\n",
    "X_train, X_test, y_train, y_test = train_test_split(X, y, test_size=0.6, random_state=42)"
   ]
  },
  {
   "cell_type": "markdown",
   "metadata": {},
   "source": [
    "**sequential model**"
   ]
  },
  {
   "cell_type": "code",
   "execution_count": 7,
   "metadata": {},
   "outputs": [
    {
     "name": "stderr",
     "output_type": "stream",
     "text": [
      "Using TensorFlow backend.\n"
     ]
    }
   ],
   "source": [
    "import numpy as np\n",
    "from keras.models import Sequential\n",
    "from keras.layers import Dense, Dropout\n"
   ]
  },
  {
   "cell_type": "code",
   "execution_count": 8,
   "metadata": {},
   "outputs": [
    {
     "name": "stdout",
     "output_type": "stream",
     "text": [
      "Epoch 1/25\n",
      "1718681/1718681 [==============================] - 54s 31us/step - loss: 0.6882 - accuracy: 0.5715\n",
      "Epoch 2/25\n",
      "1718681/1718681 [==============================] - 54s 31us/step - loss: 0.6790 - accuracy: 0.5782\n",
      "Epoch 3/25\n",
      "1718681/1718681 [==============================] - 54s 31us/step - loss: 0.6779 - accuracy: 0.5802\n",
      "Epoch 4/25\n",
      "1718681/1718681 [==============================] - 55s 32us/step - loss: 0.6772 - accuracy: 0.5815\n",
      "Epoch 5/25\n",
      "1718681/1718681 [==============================] - 54s 31us/step - loss: 0.6765 - accuracy: 0.5829\n",
      "Epoch 6/25\n",
      "1718681/1718681 [==============================] - 53s 31us/step - loss: 0.6759 - accuracy: 0.5842\n",
      "Epoch 7/25\n",
      "1718681/1718681 [==============================] - 52s 30us/step - loss: 0.6757 - accuracy: 0.5849\n",
      "Epoch 8/25\n",
      "1718681/1718681 [==============================] - 53s 31us/step - loss: 0.6752 - accuracy: 0.5861\n",
      "Epoch 9/25\n",
      "1718681/1718681 [==============================] - 53s 31us/step - loss: 0.6751 - accuracy: 0.5861\n",
      "Epoch 10/25\n",
      "1718681/1718681 [==============================] - 53s 31us/step - loss: 0.6748 - accuracy: 0.5870\n",
      "Epoch 11/25\n",
      "1718681/1718681 [==============================] - 53s 31us/step - loss: 0.6747 - accuracy: 0.5870\n",
      "Epoch 12/25\n",
      "1718681/1718681 [==============================] - 53s 31us/step - loss: 0.6746 - accuracy: 0.5873\n",
      "Epoch 13/25\n",
      "1718681/1718681 [==============================] - 53s 31us/step - loss: 0.6744 - accuracy: 0.5874\n",
      "Epoch 14/25\n",
      "1718681/1718681 [==============================] - 52s 30us/step - loss: 0.6743 - accuracy: 0.5874\n",
      "Epoch 15/25\n",
      "1718681/1718681 [==============================] - 53s 31us/step - loss: 0.6741 - accuracy: 0.5878\n",
      "Epoch 16/25\n",
      "1718681/1718681 [==============================] - 52s 30us/step - loss: 0.6740 - accuracy: 0.5880\n",
      "Epoch 17/25\n",
      "1718681/1718681 [==============================] - 52s 30us/step - loss: 0.6738 - accuracy: 0.5885\n",
      "Epoch 18/25\n",
      "1718681/1718681 [==============================] - 52s 30us/step - loss: 0.6739 - accuracy: 0.5884\n",
      "Epoch 19/25\n",
      "1718681/1718681 [==============================] - 53s 31us/step - loss: 0.6738 - accuracy: 0.5886\n",
      "Epoch 20/25\n",
      "1718681/1718681 [==============================] - 53s 31us/step - loss: 0.6736 - accuracy: 0.5888\n",
      "Epoch 21/25\n",
      "1718681/1718681 [==============================] - 53s 31us/step - loss: 0.6737 - accuracy: 0.5886\n",
      "Epoch 22/25\n",
      "1718681/1718681 [==============================] - 54s 31us/step - loss: 0.6737 - accuracy: 0.5885\n",
      "Epoch 23/25\n",
      "1718681/1718681 [==============================] - 54s 31us/step - loss: 0.6736 - accuracy: 0.5889\n",
      "Epoch 24/25\n",
      "1718681/1718681 [==============================] - 53s 31us/step - loss: 0.6736 - accuracy: 0.5887\n",
      "Epoch 25/25\n",
      "1718681/1718681 [==============================] - 53s 31us/step - loss: 0.6734 - accuracy: 0.5892\n",
      "2578022/2578022 [==============================] - 38s 15us/step\n"
     ]
    }
   ],
   "source": [
    "model = Sequential()\n",
    "model.add(Dense(64, input_dim=58, activation='relu'))\n",
    "model.add(Dropout(0.5))\n",
    "model.add(Dense(64, activation='relu'))\n",
    "model.add(Dense(1, activation='sigmoid'))\n",
    "\n",
    "model.compile(loss='binary_crossentropy',\n",
    "              optimizer='rmsprop',\n",
    "              metrics=['accuracy'])\n",
    "\n",
    "model.fit(X_train, y_train,\n",
    "          epochs=25,\n",
    "          batch_size=128)\n",
    "score = model.evaluate(X_test, y_test, batch_size=128)"
   ]
  },
  {
   "cell_type": "markdown",
   "metadata": {},
   "source": [
    "**LSTM MODELLING**"
   ]
  },
  {
   "cell_type": "code",
   "execution_count": null,
   "metadata": {},
   "outputs": [
    {
     "name": "stdout",
     "output_type": "stream",
     "text": [
      "Epoch 1/10\n",
      "1718681/1718681 [==============================] - 17052s 10ms/step - loss: 0.6838 - accuracy: 0.5748\n",
      "Epoch 2/10\n",
      " 243620/1718681 [===>..........................] - ETA: 4:10:31 - loss: 0.6834 - accuracy: 0.5758"
     ]
    }
   ],
   "source": [
    "from keras.models import Sequential\n",
    "from keras.layers import Dense, Dropout\n",
    "from keras.layers import Embedding\n",
    "from keras.layers import LSTM\n",
    "\n",
    "max_features = 1718682\n",
    "\n",
    "model = Sequential()\n",
    "model.add(Embedding(max_features, output_dim=256))\n",
    "model.add(LSTM(128))\n",
    "model.add(Dropout(0.5))\n",
    "model.add(Dense(1, activation='sigmoid'))\n",
    "\n",
    "model.compile(loss='binary_crossentropy',\n",
    "              optimizer='rmsprop',\n",
    "              metrics=['accuracy'])\n",
    "\n",
    "model.fit(X_train, y_train, batch_size=20, epochs=10)\n",
    "score = model.evaluate(X_test, y_test, batch_size=20)"
   ]
  },
  {
   "cell_type": "code",
   "execution_count": null,
   "metadata": {},
   "outputs": [],
   "source": []
  },
  {
   "cell_type": "code",
   "execution_count": null,
   "metadata": {},
   "outputs": [],
   "source": []
  }
 ],
 "metadata": {
  "kernelspec": {
   "display_name": "Python 3",
   "language": "python",
   "name": "python3"
  },
  "language_info": {
   "codemirror_mode": {
    "name": "ipython",
    "version": 3
   },
   "file_extension": ".py",
   "mimetype": "text/x-python",
   "name": "python",
   "nbconvert_exporter": "python",
   "pygments_lexer": "ipython3",
   "version": "3.7.4"
  }
 },
 "nbformat": 4,
 "nbformat_minor": 4
}
