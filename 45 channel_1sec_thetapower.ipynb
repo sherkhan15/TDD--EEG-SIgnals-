{
 "cells": [
  {
   "cell_type": "code",
   "execution_count": 1,
   "metadata": {},
   "outputs": [
    {
     "name": "stdout",
     "output_type": "stream",
     "text": [
      "Number of rows and columns: (8391, 46)\n"
     ]
    },
    {
     "data": {
      "text/html": [
       "<div>\n",
       "<style scoped>\n",
       "    .dataframe tbody tr th:only-of-type {\n",
       "        vertical-align: middle;\n",
       "    }\n",
       "\n",
       "    .dataframe tbody tr th {\n",
       "        vertical-align: top;\n",
       "    }\n",
       "\n",
       "    .dataframe thead th {\n",
       "        text-align: right;\n",
       "    }\n",
       "</style>\n",
       "<table border=\"1\" class=\"dataframe\">\n",
       "  <thead>\n",
       "    <tr style=\"text-align: right;\">\n",
       "      <th></th>\n",
       "      <th>1.7168</th>\n",
       "      <th>0.7701</th>\n",
       "      <th>2.0279</th>\n",
       "      <th>1.5401</th>\n",
       "      <th>0.99819</th>\n",
       "      <th>1.1731</th>\n",
       "      <th>2.6485</th>\n",
       "      <th>3.8149</th>\n",
       "      <th>1.2338</th>\n",
       "      <th>0.88954</th>\n",
       "      <th>...</th>\n",
       "      <th>0.011615</th>\n",
       "      <th>5.3083</th>\n",
       "      <th>3.0997</th>\n",
       "      <th>0.077031</th>\n",
       "      <th>3.4761</th>\n",
       "      <th>1.158</th>\n",
       "      <th>0.13569</th>\n",
       "      <th>1.684</th>\n",
       "      <th>1.0739</th>\n",
       "      <th>1</th>\n",
       "    </tr>\n",
       "  </thead>\n",
       "  <tbody>\n",
       "    <tr>\n",
       "      <th>0</th>\n",
       "      <td>3.63550</td>\n",
       "      <td>2.01610</td>\n",
       "      <td>8.2409</td>\n",
       "      <td>0.97542</td>\n",
       "      <td>0.34228</td>\n",
       "      <td>0.49257</td>\n",
       "      <td>5.00000</td>\n",
       "      <td>7.2476</td>\n",
       "      <td>0.72259</td>\n",
       "      <td>0.27872</td>\n",
       "      <td>...</td>\n",
       "      <td>0.020156</td>\n",
       "      <td>1.08040</td>\n",
       "      <td>4.9067</td>\n",
       "      <td>0.038913</td>\n",
       "      <td>2.01940</td>\n",
       "      <td>0.20654</td>\n",
       "      <td>0.017996</td>\n",
       "      <td>0.99616</td>\n",
       "      <td>3.8334</td>\n",
       "      <td>1</td>\n",
       "    </tr>\n",
       "    <tr>\n",
       "      <th>1</th>\n",
       "      <td>4.29050</td>\n",
       "      <td>2.17670</td>\n",
       "      <td>5.2263</td>\n",
       "      <td>1.17550</td>\n",
       "      <td>0.82307</td>\n",
       "      <td>2.39160</td>\n",
       "      <td>3.42360</td>\n",
       "      <td>4.6104</td>\n",
       "      <td>1.09800</td>\n",
       "      <td>1.22110</td>\n",
       "      <td>...</td>\n",
       "      <td>0.009700</td>\n",
       "      <td>4.50850</td>\n",
       "      <td>2.8731</td>\n",
       "      <td>0.082510</td>\n",
       "      <td>4.60750</td>\n",
       "      <td>0.99036</td>\n",
       "      <td>0.043765</td>\n",
       "      <td>2.43060</td>\n",
       "      <td>1.6004</td>\n",
       "      <td>1</td>\n",
       "    </tr>\n",
       "    <tr>\n",
       "      <th>2</th>\n",
       "      <td>4.47920</td>\n",
       "      <td>2.18260</td>\n",
       "      <td>1.6886</td>\n",
       "      <td>0.86329</td>\n",
       "      <td>0.84286</td>\n",
       "      <td>1.43750</td>\n",
       "      <td>0.84828</td>\n",
       "      <td>2.6751</td>\n",
       "      <td>0.84077</td>\n",
       "      <td>1.24710</td>\n",
       "      <td>...</td>\n",
       "      <td>0.027113</td>\n",
       "      <td>1.98990</td>\n",
       "      <td>3.7446</td>\n",
       "      <td>0.120370</td>\n",
       "      <td>3.04090</td>\n",
       "      <td>0.65082</td>\n",
       "      <td>0.051503</td>\n",
       "      <td>0.57891</td>\n",
       "      <td>3.4661</td>\n",
       "      <td>1</td>\n",
       "    </tr>\n",
       "    <tr>\n",
       "      <th>3</th>\n",
       "      <td>1.04920</td>\n",
       "      <td>2.73260</td>\n",
       "      <td>4.8865</td>\n",
       "      <td>1.23700</td>\n",
       "      <td>1.22240</td>\n",
       "      <td>1.40350</td>\n",
       "      <td>0.68488</td>\n",
       "      <td>2.2991</td>\n",
       "      <td>1.02040</td>\n",
       "      <td>1.33070</td>\n",
       "      <td>...</td>\n",
       "      <td>0.016249</td>\n",
       "      <td>0.73852</td>\n",
       "      <td>2.4045</td>\n",
       "      <td>0.078866</td>\n",
       "      <td>0.80777</td>\n",
       "      <td>0.39631</td>\n",
       "      <td>0.079627</td>\n",
       "      <td>0.24800</td>\n",
       "      <td>3.5963</td>\n",
       "      <td>1</td>\n",
       "    </tr>\n",
       "    <tr>\n",
       "      <th>4</th>\n",
       "      <td>0.38494</td>\n",
       "      <td>0.33114</td>\n",
       "      <td>1.4818</td>\n",
       "      <td>1.20570</td>\n",
       "      <td>0.91273</td>\n",
       "      <td>0.73948</td>\n",
       "      <td>2.32580</td>\n",
       "      <td>3.3002</td>\n",
       "      <td>1.02670</td>\n",
       "      <td>0.76764</td>\n",
       "      <td>...</td>\n",
       "      <td>0.060322</td>\n",
       "      <td>2.96940</td>\n",
       "      <td>3.8396</td>\n",
       "      <td>0.117810</td>\n",
       "      <td>2.52370</td>\n",
       "      <td>0.74328</td>\n",
       "      <td>0.046361</td>\n",
       "      <td>0.45013</td>\n",
       "      <td>1.0101</td>\n",
       "      <td>1</td>\n",
       "    </tr>\n",
       "  </tbody>\n",
       "</table>\n",
       "<p>5 rows × 46 columns</p>\n",
       "</div>"
      ],
      "text/plain": [
       "    1.7168   0.7701  2.0279   1.5401  0.99819   1.1731   2.6485  3.8149  \\\n",
       "0  3.63550  2.01610  8.2409  0.97542  0.34228  0.49257  5.00000  7.2476   \n",
       "1  4.29050  2.17670  5.2263  1.17550  0.82307  2.39160  3.42360  4.6104   \n",
       "2  4.47920  2.18260  1.6886  0.86329  0.84286  1.43750  0.84828  2.6751   \n",
       "3  1.04920  2.73260  4.8865  1.23700  1.22240  1.40350  0.68488  2.2991   \n",
       "4  0.38494  0.33114  1.4818  1.20570  0.91273  0.73948  2.32580  3.3002   \n",
       "\n",
       "    1.2338  0.88954  ...  0.011615   5.3083  3.0997  0.077031   3.4761  \\\n",
       "0  0.72259  0.27872  ...  0.020156  1.08040  4.9067  0.038913  2.01940   \n",
       "1  1.09800  1.22110  ...  0.009700  4.50850  2.8731  0.082510  4.60750   \n",
       "2  0.84077  1.24710  ...  0.027113  1.98990  3.7446  0.120370  3.04090   \n",
       "3  1.02040  1.33070  ...  0.016249  0.73852  2.4045  0.078866  0.80777   \n",
       "4  1.02670  0.76764  ...  0.060322  2.96940  3.8396  0.117810  2.52370   \n",
       "\n",
       "     1.158   0.13569    1.684  1.0739  1  \n",
       "0  0.20654  0.017996  0.99616  3.8334  1  \n",
       "1  0.99036  0.043765  2.43060  1.6004  1  \n",
       "2  0.65082  0.051503  0.57891  3.4661  1  \n",
       "3  0.39631  0.079627  0.24800  3.5963  1  \n",
       "4  0.74328  0.046361  0.45013  1.0101  1  \n",
       "\n",
       "[5 rows x 46 columns]"
      ]
     },
     "execution_count": 1,
     "metadata": {},
     "output_type": "execute_result"
    }
   ],
   "source": [
    "import numpy as np\n",
    "import matplotlib.pyplot as plt\n",
    "import pandas as pd\n",
    "import warnings\n",
    "warnings.filterwarnings('ignore')\n",
    "from sklearn import preprocessing\n",
    "import tensorflow as tf\n",
    "%matplotlib inline\n",
    "import sklearn\n",
    "import seaborn as sns\n",
    "from sklearn.preprocessing import StandardScaler\n",
    "df=pd.read_csv('45 channel 1sec thetapower with labels.csv')\n",
    "\n",
    "\n",
    "print('Number of rows and columns:', df.shape)\n",
    "df.head(5)\n"
   ]
  },
  {
   "cell_type": "markdown",
   "metadata": {},
   "source": [
    "\n",
    "\n",
    "**Labelling COLUMNS**"
   ]
  },
  {
   "cell_type": "code",
   "execution_count": 2,
   "metadata": {},
   "outputs": [
    {
     "name": "stdout",
     "output_type": "stream",
     "text": [
      "Index(['1.7168', '0.7701', '2.0279', '1.5401', '0.99819', '1.1731', '2.6485',\n",
      "       '3.8149', '1.2338', '0.88954', '1.2727', '3.5376', '1.21', '1.1535',\n",
      "       '5.6778', '1.0589', '0.023978', '2.9581', '1.5352', '1.7772', '0.64967',\n",
      "       '0.0437', '1.1827', '2.0981', '0.89607', '1.1884', '3.5801', '11.501',\n",
      "       '1.5535', '1.0139', '1.1312', '3.6471', '1.0109', '1.041', '3.7721',\n",
      "       '9.8425', '0.011615', '5.3083', '3.0997', '0.077031', '3.4761', '1.158',\n",
      "       '0.13569', '1.684', '1.0739', '1'],\n",
      "      dtype='object')\n"
     ]
    }
   ],
   "source": [
    "print(df.columns)"
   ]
  },
  {
   "cell_type": "code",
   "execution_count": 3,
   "metadata": {},
   "outputs": [],
   "source": [
    "new_names = {'1.7168':'a', \n",
    "             '0.7701':'b', \n",
    "             \n",
    "             '2.0279':'c', \n",
    "             '1.5401':'cd', \n",
    "             '0.99819':'d',\n",
    "             '1.1731':'de',\n",
    "             '2.6485':'e',\n",
    "             '3.8149':'f',\n",
    "             '1.2338':'g',\n",
    "       '0.88954':'l', \n",
    "             '1.2727':'m', \n",
    "             '3.5376':'n', \n",
    "             '1.21':'o', \n",
    "             '1.1535':'p', \n",
    "             '5.6778':'q', \n",
    "             '1.0589':'r',\n",
    "       '0.023978':'s',\n",
    "             '2.9581':'t',\n",
    "             '1.5352':'u',\n",
    "             '1.7772':'v',\n",
    "             '0.64967':'w',\n",
    "             '0.0437':'x', \n",
    "             '1.1827':'y',\n",
    "       '2.0981':'z', \n",
    "             '0.89607':'aa', \n",
    "             '1.1884':'hh', \n",
    "             '3.5801':'ii', \n",
    "             '11.501':'jj', \n",
    "             '1.5535':'kk',\n",
    "       '1.0139':'ll',\n",
    "             '1.1312':'mm',\n",
    "             '3.6471':'nn', \n",
    "             '1.0109':'oo', \n",
    "             '1.041':'pp', \n",
    "             '3.7721':'qq',\n",
    "       '9.8425':'rr',\n",
    "             '0.011615':'j',\n",
    "             '5.3083':'bb', '3.0997':'cc',\n",
    "             '0.077031':'dd',\n",
    "             '3.4761':'ee',\n",
    "             '1.158':'ff',\n",
    "             '0.13569':'gg',\n",
    "             '1.684':'ll',\n",
    "             '1.0739':'ss',\n",
    "             '1':'labels'}\n",
    "df= df.rename(index=str, columns=new_names)"
   ]
  },
  {
   "cell_type": "markdown",
   "metadata": {},
   "source": [
    "***Checking any null Values***"
   ]
  },
  {
   "cell_type": "code",
   "execution_count": 4,
   "metadata": {},
   "outputs": [
    {
     "name": "stdout",
     "output_type": "stream",
     "text": [
      "<class 'pandas.core.frame.DataFrame'>\n",
      "Index: 8391 entries, 0 to 8390\n",
      "Data columns (total 46 columns):\n",
      "a         8391 non-null float64\n",
      "b         8391 non-null float64\n",
      "c         8391 non-null float64\n",
      "cd        8391 non-null float64\n",
      "d         8391 non-null float64\n",
      "de        8391 non-null float64\n",
      "e         8391 non-null float64\n",
      "f         8391 non-null float64\n",
      "g         8391 non-null float64\n",
      "l         8391 non-null float64\n",
      "m         8391 non-null float64\n",
      "n         8391 non-null float64\n",
      "o         8391 non-null float64\n",
      "p         8391 non-null float64\n",
      "q         8391 non-null float64\n",
      "r         8391 non-null float64\n",
      "s         8391 non-null float64\n",
      "t         8391 non-null float64\n",
      "u         8391 non-null float64\n",
      "v         8391 non-null float64\n",
      "w         8391 non-null float64\n",
      "x         8391 non-null float64\n",
      "y         8391 non-null float64\n",
      "z         8391 non-null float64\n",
      "aa        8391 non-null float64\n",
      "hh        8391 non-null float64\n",
      "ii        8391 non-null float64\n",
      "jj        8391 non-null float64\n",
      "kk        8391 non-null float64\n",
      "ll        8391 non-null float64\n",
      "mm        8391 non-null float64\n",
      "nn        8391 non-null float64\n",
      "oo        8391 non-null float64\n",
      "pp        8391 non-null float64\n",
      "qq        8391 non-null float64\n",
      "rr        8391 non-null float64\n",
      "j         8391 non-null float64\n",
      "bb        8391 non-null float64\n",
      "cc        8391 non-null float64\n",
      "dd        8391 non-null float64\n",
      "ee        8391 non-null float64\n",
      "ff        8391 non-null float64\n",
      "gg        8391 non-null float64\n",
      "ll        8391 non-null float64\n",
      "ss        8391 non-null float64\n",
      "labels    8391 non-null int64\n",
      "dtypes: float64(45), int64(1)\n",
      "memory usage: 3.0+ MB\n"
     ]
    }
   ],
   "source": [
    "\n",
    "df.info()\n"
   ]
  },
  {
   "cell_type": "code",
   "execution_count": 5,
   "metadata": {},
   "outputs": [
    {
     "name": "stdout",
     "output_type": "stream",
     "text": [
      "                 a            b            c           cd            d  \\\n",
      "count  8391.000000  8391.000000  8391.000000  8391.000000  8391.000000   \n",
      "mean      6.471383     6.375885     6.074326    12.139439     6.929410   \n",
      "std       9.997795    10.264150    11.078860    13.822287     9.566761   \n",
      "min       0.169220     0.083719     0.155010     0.030746     0.093867   \n",
      "25%       2.142300     2.061300     2.448650     3.952700     2.424150   \n",
      "50%       3.873600     3.612400     4.196700     8.469600     4.633300   \n",
      "75%       6.999350     6.659250     7.514850    16.248000     8.640700   \n",
      "max     340.620000   306.170000   643.190000   487.970000   486.660000   \n",
      "\n",
      "                de            e            f            g            l  \\\n",
      "count  8391.000000  8391.000000  8391.000000  8391.000000  8391.000000   \n",
      "mean      8.507832     7.598763    12.184345     8.162954     6.346641   \n",
      "std      12.846664    23.654735    14.343975    10.416250     8.906779   \n",
      "min       0.119680     0.170940     0.132630     0.056478     0.074641   \n",
      "25%       2.567300     2.892850     4.255050     2.994200     2.138200   \n",
      "50%       5.035300     5.233500     8.261000     5.602500     4.140600   \n",
      "75%      10.101500     9.198400    15.640500    10.301500     7.755150   \n",
      "max     486.030000  2012.800000   536.260000   490.230000   494.700000   \n",
      "\n",
      "                 m            n            o            p            q  \\\n",
      "count  8391.000000  8391.000000  8391.000000  8391.000000  8391.000000   \n",
      "mean      5.735488     8.517945     5.484382     3.358505     5.036261   \n",
      "std       8.723322    11.345227     8.529281     7.573206     8.434914   \n",
      "min       0.122370     0.173630     0.059761     0.002320     0.104450   \n",
      "25%       2.139900     3.188150     1.961250     1.012150     1.878100   \n",
      "50%       3.886900     5.813700     3.537100     1.933500     3.392700   \n",
      "75%       6.875600    10.216000     6.505650     3.522700     6.140700   \n",
      "max     565.560000   597.680000   536.400000   542.570000   599.330000   \n",
      "\n",
      "                 r            s            t            u            v  \\\n",
      "count  8391.000000  8391.000000  8391.000000  8391.000000  8391.000000   \n",
      "mean      8.018497     2.143256     1.888671     8.441735    11.824298   \n",
      "std      10.909602     8.015062    27.672794    15.819062    14.586180   \n",
      "min       0.061354     0.004523     0.004538     0.163220     0.101750   \n",
      "25%       3.205450     0.607705     0.484515     2.955250     4.398050   \n",
      "50%       5.667600     1.113400     0.932720     5.340200     8.280100   \n",
      "75%       9.848050     2.012700     1.769450     9.286800    14.900500   \n",
      "max     617.260000   665.670000  2527.900000   680.820000   666.730000   \n",
      "\n",
      "                 w            x            y            z           aa  \\\n",
      "count  8391.000000  8391.000000  8391.000000  8391.000000  8391.000000   \n",
      "mean      4.590874     2.194527     6.270253    12.103799     8.267090   \n",
      "std       8.410048     7.076681    29.493946    14.725115    11.182674   \n",
      "min       0.030717     0.002997     0.023896     0.179320     0.092419   \n",
      "25%       1.731800     0.677635     1.947000     4.569500     3.106150   \n",
      "50%       3.251200     1.582900     3.981100     8.808200     5.970100   \n",
      "75%       5.944050     2.904700     7.715500    15.159500    10.485500   \n",
      "max     665.860000   618.730000  2573.200000   686.880000   471.730000   \n",
      "\n",
      "                hh           ii           jj           kk           ll  \\\n",
      "count  8391.000000  8391.000000  8391.000000  8391.000000  8391.000000   \n",
      "mean      6.230741     5.910774     9.331015     6.991193     6.921416   \n",
      "std      10.324401     8.001735    12.393002     9.604872     9.662417   \n",
      "min       0.058216     0.072669     0.240780     0.075922     0.094272   \n",
      "25%       1.764800     2.261200     3.787050     2.264850     2.383150   \n",
      "50%       3.594600     4.186100     6.631200     4.706500     4.617100   \n",
      "75%       7.546650     7.401250    11.371000     9.021050     8.409700   \n",
      "max     483.980000   474.010000   558.020000   484.630000   496.040000   \n",
      "\n",
      "                mm           nn           oo           pp           qq  \\\n",
      "count  8391.000000  8391.000000  8391.000000  8391.000000  8391.000000   \n",
      "mean      6.562563     8.037093     7.383221     8.692182     5.895259   \n",
      "std       8.403622    10.120447    11.528582    68.535837     8.756400   \n",
      "min       0.112680     0.125810     0.080026     0.095300     0.095574   \n",
      "25%       2.460650     2.857850     2.265050     2.377500     2.218500   \n",
      "50%       4.674000     5.433800     4.291300     4.781000     4.073500   \n",
      "75%       8.275600     9.901150     8.506050     9.610350     7.277150   \n",
      "max     487.480000   481.940000   539.460000  6202.900000   581.110000   \n",
      "\n",
      "                rr            j           bb           cc           dd  \\\n",
      "count  8391.000000  8391.000000  8391.000000  8391.000000  8391.000000   \n",
      "mean      8.152081     3.963370     4.228240     8.588462     3.579333   \n",
      "std      11.129962     8.266147     9.879611    12.973519     7.803993   \n",
      "min       0.118680     0.003396     0.047091     0.157010     0.008024   \n",
      "25%       3.133850     1.139400     0.953880     3.223150     1.181650   \n",
      "50%       5.577200     2.189900     1.848000     5.854200     2.251200   \n",
      "75%       9.928700     4.051900     3.650450    10.064000     4.178650   \n",
      "max     545.670000   540.230000   597.220000   644.810000   593.550000   \n",
      "\n",
      "                ee           ff           gg           ll           ss  \\\n",
      "count  8391.000000  8391.000000  8391.000000  8391.000000  8391.000000   \n",
      "mean      4.215516     8.409003     4.217219     3.610001     9.552314   \n",
      "std      28.027623    11.170689     8.370509     7.533097    18.637235   \n",
      "min       0.050518     0.039306     0.005831     0.010783     0.044481   \n",
      "25%       1.227450     3.187000     1.479750     1.253450     2.693100   \n",
      "50%       2.444500     6.120400     2.943100     2.480100     5.786700   \n",
      "75%       4.560750    10.662500     5.348700     4.642750    10.670000   \n",
      "max    2524.200000   667.010000   665.150000   607.720000   657.140000   \n",
      "\n",
      "            labels  \n",
      "count  8391.000000  \n",
      "mean      0.424383  \n",
      "std       0.494278  \n",
      "min       0.000000  \n",
      "25%       0.000000  \n",
      "50%       0.000000  \n",
      "75%       1.000000  \n",
      "max       1.000000  \n"
     ]
    }
   ],
   "source": [
    "pd.set_option('display.max_columns', None)\n",
    "print(df.describe())\n",
    "\n"
   ]
  },
  {
   "cell_type": "markdown",
   "metadata": {},
   "source": [
    "***spliting the file in the data and target class***"
   ]
  },
  {
   "cell_type": "code",
   "execution_count": 6,
   "metadata": {},
   "outputs": [],
   "source": [
    "data = df.iloc[:,:-1].values.tolist()\n",
    "target = df.iloc[:,-1].tolist()"
   ]
  },
  {
   "cell_type": "code",
   "execution_count": 7,
   "metadata": {},
   "outputs": [
    {
     "name": "stderr",
     "output_type": "stream",
     "text": [
      "IOPub data rate exceeded.\n",
      "The notebook server will temporarily stop sending output\n",
      "to the client in order to avoid crashing it.\n",
      "To change this limit, set the config variable\n",
      "`--NotebookApp.iopub_data_rate_limit`.\n",
      "\n",
      "Current values:\n",
      "NotebookApp.iopub_data_rate_limit=1000000.0 (bytes/sec)\n",
      "NotebookApp.rate_limit_window=3.0 (secs)\n",
      "\n"
     ]
    }
   ],
   "source": [
    "\n",
    "print(data)\n",
    "print(target)"
   ]
  },
  {
   "cell_type": "markdown",
   "metadata": {},
   "source": [
    "**heatmap**"
   ]
  },
  {
   "cell_type": "code",
   "execution_count": 8,
   "metadata": {},
   "outputs": [
    {
     "data": {
      "text/plain": [
       "Text(0.5, 1.0, 'Correlation of Variables')"
      ]
     },
     "execution_count": 8,
     "metadata": {},
     "output_type": "execute_result"
    },
    {
     "data": {
      "image/png": "[encoded data removed]",
      "text/plain": [
       "<Figure size 1440x1440 with 2 Axes>"
      ]
     },
     "metadata": {
      "needs_background": "light"
     },
     "output_type": "display_data"
    }
   ],
   "source": [
    "col_list = df.columns\n",
    "fig, ax = plt.subplots(figsize=(20,20))  \n",
    "sns.heatmap(df[col_list].corr(),square=True,linewidths=1)\n",
    "plt.title('Correlation of Variables')"
   ]
  },
  {
   "cell_type": "markdown",
   "metadata": {},
   "source": [
    "**Normalizing**"
   ]
  },
  {
   "cell_type": "code",
   "execution_count": 9,
   "metadata": {},
   "outputs": [],
   "source": [
    "from sklearn import preprocessing\n",
    "from sklearn.model_selection import train_test_split\n",
    "x =df[df.columns[:46]]\n",
    "y =df.labels\n",
    "x_train, x_test, y_train, y_test = train_test_split(x, y , train_size = 0.7, random_state =  90)"
   ]
  },
  {
   "cell_type": "markdown",
   "metadata": {},
   "source": [
    " **Select numerical columns which needs to be normalized**"
   ]
  },
  {
   "cell_type": "code",
   "execution_count": 10,
   "metadata": {},
   "outputs": [],
   "source": [
    "train_norm = x_train[x_train.columns[0:20]]\n",
    "test_norm = x_test[x_test.columns[0:20]]"
   ]
  },
  {
   "cell_type": "markdown",
   "metadata": {},
   "source": [
    "**Normalize Training Data**"
   ]
  },
  {
   "cell_type": "code",
   "execution_count": 11,
   "metadata": {},
   "outputs": [],
   "source": [
    "std_scale = preprocessing.StandardScaler().fit(train_norm)\n",
    "x_train_norm = std_scale.transform(train_norm)"
   ]
  },
  {
   "cell_type": "markdown",
   "metadata": {},
   "source": [
    "**Converting numpy array to dataframe**"
   ]
  },
  {
   "cell_type": "code",
   "execution_count": 12,
   "metadata": {},
   "outputs": [
    {
     "name": "stdout",
     "output_type": "stream",
     "text": [
      "             a         b         c        cd         d        de         e  \\\n",
      "1585 -0.576753 -0.372682 -0.074834 -0.504292 -0.140518 -0.302438 -0.654885   \n",
      "992   0.696152  2.045096  0.090483  0.318398  0.028344  1.653377 -0.039127   \n",
      "8204 -0.115380 -0.401045 -0.208615 -0.170198 -0.281559 -0.031139  0.156204   \n",
      "4674 -0.438697 -0.391821 -0.080037 -0.654113 -0.335781 -0.531422 -0.586390   \n",
      "3593 -0.059080 -0.437270 -0.404664  0.732969  0.622826 -0.070637 -0.162896   \n",
      "\n",
      "             f         g         l         m         n         o         p  \\\n",
      "1585 -0.721665 -0.125282  0.051962  0.021654 -0.612255 -0.045609 -0.220629   \n",
      "992   1.093952 -0.170117  0.316753  0.018604 -0.317773  0.947197  0.229424   \n",
      "8204  0.145244 -0.223128  0.140943  0.006892 -0.007252 -0.161003 -0.001202   \n",
      "4674 -0.534690 -0.569860 -0.515777 -0.532269  0.811251 -0.215648 -0.259049   \n",
      "3593 -0.548041  0.806137 -0.080424 -0.449904 -0.528932  0.110982 -0.314505   \n",
      "\n",
      "             q         r         s         t         u         v       w  \\\n",
      "1585 -0.372918 -0.518382 -0.178386 -0.031362 -0.250501 -0.498852  1.4045   \n",
      "992   0.003604 -0.159202 -0.015229 -0.013285 -0.290933 -0.537459  1.4726   \n",
      "8204 -0.213731 -0.125949 -0.182227 -0.045311 -0.030641 -0.029407  5.5040   \n",
      "4674  0.145573 -0.255868 -0.044284 -0.026292  0.258917 -0.564308  1.6627   \n",
      "3593 -0.453562  0.149996 -0.175610 -0.037743 -0.434476 -0.187226  1.4584   \n",
      "\n",
      "            x       y        z       aa       hh      ii       jj       kk  \\\n",
      "1585  0.97995  1.6475   4.9433   2.8055   2.2490  1.0989   1.2206   7.0866   \n",
      "992   1.98120  5.4992   1.6200  19.2110  22.1500  5.4137  14.5820   5.3022   \n",
      "8204  2.13330  5.1441  14.7550   4.7236   6.4015  7.8577   8.1535   4.8400   \n",
      "4674  1.71550  7.7496  15.4760   2.0973   1.0246  2.5317  10.0010   2.5640   \n",
      "3593  1.57310  3.0232  10.5750  12.0760  10.1500  5.7156   5.6958  18.5000   \n",
      "\n",
      "          ll       ll      mm       nn       oo       pp       qq       rr  \\\n",
      "1585  5.4796  0.67778  4.1085   1.0894   6.3523   5.1094  1.34900   3.8691   \n",
      "992   6.3716  1.00850  6.2754  14.0050  12.4600  12.3070  1.59860   1.3349   \n",
      "8204  4.7855  2.61740  7.9763   9.4090   4.2462   6.2759  6.49220   5.6195   \n",
      "4674  1.4734  2.75320  1.3166  10.4850   2.0958   1.7616  2.84220   3.2197   \n",
      "3593  7.7305  3.70620  4.8598   7.8104  11.0380   2.1010  0.65656  11.8420   \n",
      "\n",
      "            j        bb        cc       dd       ee      ff      gg      ll  \\\n",
      "1585   1.7280   1.90980   6.91550  2.09000  1.50600  4.0653  1.3665  5.4796   \n",
      "992   12.2000  23.53700   6.73440  0.47875  0.50895  8.8930  6.3524  6.3716   \n",
      "8204   2.7076   6.13880   6.00740  3.23100  3.79810  5.7183  5.8881  4.7855   \n",
      "4674   1.2003   1.02940  10.73500  3.78550  6.45800  1.8288  2.0494  1.4734   \n",
      "3593   4.5152   0.16565   0.99288  2.07180  1.08730  7.0347  1.6894  7.7305   \n",
      "\n",
      "           ll       ss  labels  \n",
      "1585  0.67778   2.2157       1  \n",
      "992   1.00850   0.3061       1  \n",
      "8204  2.61740  12.1670       1  \n",
      "4674  2.75320  15.3420       1  \n",
      "3593  3.70620   4.9385       1  \n"
     ]
    }
   ],
   "source": [
    "training_norm_col = pd.DataFrame(x_train_norm, index=train_norm.index, columns=train_norm.columns) \n",
    "x_train.update(training_norm_col)\n",
    "print (x_train.head())"
   ]
  },
  {
   "cell_type": "markdown",
   "metadata": {},
   "source": [
    "**Normalize Testing Data by using mean and SD of training set**"
   ]
  },
  {
   "cell_type": "code",
   "execution_count": 13,
   "metadata": {},
   "outputs": [
    {
     "name": "stdout",
     "output_type": "stream",
     "text": [
      "             a         b         c        cd         d        de         e  \\\n",
      "1585 -0.576753 -0.372682 -0.074834 -0.504292 -0.140518 -0.302438 -0.654885   \n",
      "992   0.696152  2.045096  0.090483  0.318398  0.028344  1.653377 -0.039127   \n",
      "8204 -0.115380 -0.401045 -0.208615 -0.170198 -0.281559 -0.031139  0.156204   \n",
      "4674 -0.438697 -0.391821 -0.080037 -0.654113 -0.335781 -0.531422 -0.586390   \n",
      "3593 -0.059080 -0.437270 -0.404664  0.732969  0.622826 -0.070637 -0.162896   \n",
      "\n",
      "             f         g         l         m         n         o         p  \\\n",
      "1585 -0.721665 -0.125282  0.051962  0.021654 -0.612255 -0.045609 -0.220629   \n",
      "992   1.093952 -0.170117  0.316753  0.018604 -0.317773  0.947197  0.229424   \n",
      "8204  0.145244 -0.223128  0.140943  0.006892 -0.007252 -0.161003 -0.001202   \n",
      "4674 -0.534690 -0.569860 -0.515777 -0.532269  0.811251 -0.215648 -0.259049   \n",
      "3593 -0.548041  0.806137 -0.080424 -0.449904 -0.528932  0.110982 -0.314505   \n",
      "\n",
      "             q         r         s         t         u         v       w  \\\n",
      "1585 -0.372918 -0.518382 -0.178386 -0.031362 -0.250501 -0.498852  1.4045   \n",
      "992   0.003604 -0.159202 -0.015229 -0.013285 -0.290933 -0.537459  1.4726   \n",
      "8204 -0.213731 -0.125949 -0.182227 -0.045311 -0.030641 -0.029407  5.5040   \n",
      "4674  0.145573 -0.255868 -0.044284 -0.026292  0.258917 -0.564308  1.6627   \n",
      "3593 -0.453562  0.149996 -0.175610 -0.037743 -0.434476 -0.187226  1.4584   \n",
      "\n",
      "            x       y        z       aa       hh      ii       jj       kk  \\\n",
      "1585  0.97995  1.6475   4.9433   2.8055   2.2490  1.0989   1.2206   7.0866   \n",
      "992   1.98120  5.4992   1.6200  19.2110  22.1500  5.4137  14.5820   5.3022   \n",
      "8204  2.13330  5.1441  14.7550   4.7236   6.4015  7.8577   8.1535   4.8400   \n",
      "4674  1.71550  7.7496  15.4760   2.0973   1.0246  2.5317  10.0010   2.5640   \n",
      "3593  1.57310  3.0232  10.5750  12.0760  10.1500  5.7156   5.6958  18.5000   \n",
      "\n",
      "          ll       ll      mm       nn       oo       pp       qq       rr  \\\n",
      "1585  5.4796  0.67778  4.1085   1.0894   6.3523   5.1094  1.34900   3.8691   \n",
      "992   6.3716  1.00850  6.2754  14.0050  12.4600  12.3070  1.59860   1.3349   \n",
      "8204  4.7855  2.61740  7.9763   9.4090   4.2462   6.2759  6.49220   5.6195   \n",
      "4674  1.4734  2.75320  1.3166  10.4850   2.0958   1.7616  2.84220   3.2197   \n",
      "3593  7.7305  3.70620  4.8598   7.8104  11.0380   2.1010  0.65656  11.8420   \n",
      "\n",
      "            j        bb        cc       dd       ee      ff      gg      ll  \\\n",
      "1585   1.7280   1.90980   6.91550  2.09000  1.50600  4.0653  1.3665  5.4796   \n",
      "992   12.2000  23.53700   6.73440  0.47875  0.50895  8.8930  6.3524  6.3716   \n",
      "8204   2.7076   6.13880   6.00740  3.23100  3.79810  5.7183  5.8881  4.7855   \n",
      "4674   1.2003   1.02940  10.73500  3.78550  6.45800  1.8288  2.0494  1.4734   \n",
      "3593   4.5152   0.16565   0.99288  2.07180  1.08730  7.0347  1.6894  7.7305   \n",
      "\n",
      "           ll       ss  labels  \n",
      "1585  0.67778   2.2157       1  \n",
      "992   1.00850   0.3061       1  \n",
      "8204  2.61740  12.1670       1  \n",
      "4674  2.75320  15.3420       1  \n",
      "3593  3.70620   4.9385       1  \n"
     ]
    }
   ],
   "source": [
    "x_test_norm = std_scale.transform(test_norm)\n",
    "testing_norm_col = pd.DataFrame(x_test_norm, index=test_norm.index, columns=test_norm.columns) \n",
    "x_test.update(testing_norm_col)\n",
    "print (x_train.head())"
   ]
  },
  {
   "cell_type": "markdown",
   "metadata": {},
   "source": [
    "**Support vector machine**"
   ]
  },
  {
   "cell_type": "code",
   "execution_count": 14,
   "metadata": {},
   "outputs": [],
   "source": [
    "import numpy\n",
    "from sklearn.svm import SVC\n",
    "from sklearn.model_selection import train_test_split\n",
    "from sklearn.metrics import confusion_matrix\n",
    "from sklearn.metrics import accuracy_score"
   ]
  },
  {
   "cell_type": "code",
   "execution_count": 15,
   "metadata": {},
   "outputs": [
    {
     "name": "stdout",
     "output_type": "stream",
     "text": [
      "[[2909   10]\n",
      " [2106   10]]\n",
      "Accuracy score : \n",
      "57.974180734856006\n"
     ]
    }
   ],
   "source": [
    "def svm_classifier(): \n",
    "    \n",
    "    \n",
    "    X = data\n",
    "    y = target\n",
    "    # Split the data into training/testing sets\n",
    "    X_train, X_test, y_train, y_test = train_test_split(X, y, test_size=0.6, random_state=42)\n",
    "   \n",
    "    \t\n",
    "\n",
    "     # Feature Scaling\n",
    "    from sklearn.preprocessing import StandardScaler\n",
    "    sc = StandardScaler()\n",
    "    X_train = sc.fit_transform(X_train)    \n",
    "    X_test = sc.transform(X_test)\n",
    "\n",
    "    # SVM Classifier\n",
    "    clf = SVC(kernel = 'rbf', random_state = 50)\n",
    "    clf.fit(X_train, y_train)\n",
    "    y_predict = clf.predict(X_test)\n",
    "    cm = confusion_matrix(y_test, y_predict)\n",
    "    print(cm)\n",
    "    print(\"Accuracy score : \")\n",
    "    print(accuracy_score(y_test, y_predict)*100)\n",
    "    \n",
    "if __name__ == '__main__':\n",
    "    svm_classifier()"
   ]
  },
  {
   "cell_type": "code",
   "execution_count": 16,
   "metadata": {},
   "outputs": [
    {
     "name": "stdout",
     "output_type": "stream",
     "text": [
      "Collecting tensorflow\n",
      "  Using cached https://files.pythonhosted.org/packages/34/d5/ce8c17971067c0184c9045112b755be5461d5ce5253ef65a367e1298d7c5/tensorflow-2.1.0-cp37-cp37m-win_amd64.whl\n",
      "Collecting protobuf>=3.8.0 (from tensorflow)\n",
      "  Using cached https://files.pythonhosted.org/packages/92/30/1b7ccde09bf0c535d11f18a574ed7d7572c729a8f754fd568b297be08b61/protobuf-3.11.3-cp37-cp37m-win_amd64.whl\n",
      "Collecting scipy==1.4.1; python_version >= \"3\" (from tensorflow)\n",
      "  Using cached https://files.pythonhosted.org/packages/61/51/046cbc61c7607e5ecead6ff1a9453fba5e7e47a5ea8d608cc7036586a5ef/scipy-1.4.1-cp37-cp37m-win_amd64.whl\n",
      "Collecting absl-py>=0.7.0 (from tensorflow)\n",
      "Collecting keras-applications>=1.0.8 (from tensorflow)\n",
      "  Using cached https://files.pythonhosted.org/packages/71/e3/19762fdfc62877ae9102edf6342d71b28fbfd9dea3d2f96a882ce099b03f/Keras_Applications-1.0.8-py3-none-any.whl\n",
      "Collecting wheel>=0.26; python_version >= \"3\" (from tensorflow)\n",
      "  Using cached https://files.pythonhosted.org/packages/8c/23/848298cccf8e40f5bbb59009b32848a4c38f4e7f3364297ab3c3e2e2cd14/wheel-0.34.2-py2.py3-none-any.whl\n",
      "Collecting astor>=0.6.0 (from tensorflow)\n",
      "  Using cached https://files.pythonhosted.org/packages/c3/88/97eef84f48fa04fbd6750e62dcceafba6c63c81b7ac1420856c8dcc0a3f9/astor-0.8.1-py2.py3-none-any.whl\n",
      "Collecting keras-preprocessing>=1.1.0 (from tensorflow)\n",
      "  Using cached https://files.pythonhosted.org/packages/28/6a/8c1f62c37212d9fc441a7e26736df51ce6f0e38455816445471f10da4f0a/Keras_Preprocessing-1.1.0-py2.py3-none-any.whl\n",
      "Collecting google-pasta>=0.1.6 (from tensorflow)\n",
      "  Using cached https://files.pythonhosted.org/packages/c3/fd/1e86bc4837cc9a3a5faf3db9b1854aa04ad35b5f381f9648fbe81a6f94e4/google_pasta-0.1.8-py3-none-any.whl\n",
      "Collecting tensorboard<2.2.0,>=2.1.0 (from tensorflow)\n",
      "  Using cached https://files.pythonhosted.org/packages/40/23/53ffe290341cd0855d595b0a2e7485932f473798af173bbe3a584b99bb06/tensorboard-2.1.0-py3-none-any.whl\n",
      "Collecting termcolor>=1.1.0 (from tensorflow)\n",
      "Collecting gast==0.2.2 (from tensorflow)\n",
      "Collecting opt-einsum>=2.3.2 (from tensorflow)\n",
      "Collecting wrapt>=1.11.1 (from tensorflow)\n",
      "Collecting six>=1.12.0 (from tensorflow)\n",
      "  Using cached https://files.pythonhosted.org/packages/65/eb/1f97cb97bfc2390a276969c6fae16075da282f5058082d4cb10c6c5c1dba/six-1.14.0-py2.py3-none-any.whl\n",
      "Collecting tensorflow-estimator<2.2.0,>=2.1.0rc0 (from tensorflow)\n",
      "  Using cached https://files.pythonhosted.org/packages/18/90/b77c328a1304437ab1310b463e533fa7689f4bfc41549593056d812fab8e/tensorflow_estimator-2.1.0-py2.py3-none-any.whl\n",
      "Collecting grpcio>=1.8.6 (from tensorflow)\n",
      "  Using cached https://files.pythonhosted.org/packages/cc/f4/3ac6d5301af16f3f4cc99e8b9f566cdd2eefc207e73ee69a5d96ebdc8e59/grpcio-1.27.0-cp37-cp37m-win_amd64.whl\n",
      "Collecting numpy<2.0,>=1.16.0 (from tensorflow)\n",
      "  Using cached https://files.pythonhosted.org/packages/a9/38/f6d6d8635d496d6b4ed5d8ca4b9f193d0edc59999c3a63779cbc38aa650f/numpy-1.18.1-cp37-cp37m-win_amd64.whl\n",
      "Collecting setuptools (from protobuf>=3.8.0->tensorflow)\n",
      "  Using cached https://files.pythonhosted.org/packages/a7/c5/6c1acea1b4ea88b86b03280f3fde1efa04fefecd4e7d2af13e602661cde4/setuptools-45.1.0-py3-none-any.whl\n",
      "Collecting h5py (from keras-applications>=1.0.8->tensorflow)\n",
      "  Using cached https://files.pythonhosted.org/packages/a1/6b/7f62017e3f0b32438dd90bdc1ff0b7b1448b6cb04a1ed84f37b6de95cd7b/h5py-2.10.0-cp37-cp37m-win_amd64.whl\n",
      "Collecting requests<3,>=2.21.0 (from tensorboard<2.2.0,>=2.1.0->tensorflow)\n",
      "  Using cached https://files.pythonhosted.org/packages/51/bd/23c926cd341ea6b7dd0b2a00aba99ae0f828be89d72b2190f27c11d4b7fb/requests-2.22.0-py2.py3-none-any.whl\n",
      "Collecting werkzeug>=0.11.15 (from tensorboard<2.2.0,>=2.1.0->tensorflow)\n",
      "  Using cached https://files.pythonhosted.org/packages/c2/e4/a859d2fe516f466642fa5c6054fd9646271f9da26b0cac0d2f37fc858c8f/Werkzeug-0.16.1-py2.py3-none-any.whl\n",
      "Collecting google-auth<2,>=1.6.3 (from tensorboard<2.2.0,>=2.1.0->tensorflow)\n",
      "  Using cached https://files.pythonhosted.org/packages/1c/6d/7aae38a9022f982cf8167775c7fc299f203417b698c27080ce09060bba07/google_auth-1.11.0-py2.py3-none-any.whl\n",
      "Collecting markdown>=2.6.8 (from tensorboard<2.2.0,>=2.1.0->tensorflow)\n",
      "  Using cached https://files.pythonhosted.org/packages/c0/4e/fd492e91abdc2d2fcb70ef453064d980688762079397f779758e055f6575/Markdown-3.1.1-py2.py3-none-any.whl\n",
      "Collecting google-auth-oauthlib<0.5,>=0.4.1 (from tensorboard<2.2.0,>=2.1.0->tensorflow)\n",
      "  Using cached https://files.pythonhosted.org/packages/7b/b8/88def36e74bee9fce511c9519571f4e485e890093ab7442284f4ffaef60b/google_auth_oauthlib-0.4.1-py2.py3-none-any.whl\n",
      "Collecting idna<2.9,>=2.5 (from requests<3,>=2.21.0->tensorboard<2.2.0,>=2.1.0->tensorflow)\n",
      "  Using cached https://files.pythonhosted.org/packages/14/2c/cd551d81dbe15200be1cf41cd03869a46fe7226e7450af7a6545bfc474c9/idna-2.8-py2.py3-none-any.whl\n",
      "Collecting urllib3!=1.25.0,!=1.25.1,<1.26,>=1.21.1 (from requests<3,>=2.21.0->tensorboard<2.2.0,>=2.1.0->tensorflow)\n",
      "  Using cached https://files.pythonhosted.org/packages/e8/74/6e4f91745020f967d09332bb2b8b9b10090957334692eb88ea4afe91b77f/urllib3-1.25.8-py2.py3-none-any.whl\n",
      "Collecting chardet<3.1.0,>=3.0.2 (from requests<3,>=2.21.0->tensorboard<2.2.0,>=2.1.0->tensorflow)\n",
      "  Using cached https://files.pythonhosted.org/packages/bc/a9/01ffebfb562e4274b6487b4bb1ddec7ca55ec7510b22e4c51f14098443b8/chardet-3.0.4-py2.py3-none-any.whl\n",
      "Collecting certifi>=2017.4.17 (from requests<3,>=2.21.0->tensorboard<2.2.0,>=2.1.0->tensorflow)\n",
      "  Using cached https://files.pythonhosted.org/packages/b9/63/df50cac98ea0d5b006c55a399c3bf1db9da7b5a24de7890bc9cfd5dd9e99/certifi-2019.11.28-py2.py3-none-any.whl\n",
      "Collecting pyasn1-modules>=0.2.1 (from google-auth<2,>=1.6.3->tensorboard<2.2.0,>=2.1.0->tensorflow)\n",
      "  Using cached https://files.pythonhosted.org/packages/95/de/214830a981892a3e286c3794f41ae67a4495df1108c3da8a9f62159b9a9d/pyasn1_modules-0.2.8-py2.py3-none-any.whl\n",
      "Collecting rsa<4.1,>=3.1.4 (from google-auth<2,>=1.6.3->tensorboard<2.2.0,>=2.1.0->tensorflow)\n",
      "  Using cached https://files.pythonhosted.org/packages/02/e5/38518af393f7c214357079ce67a317307936896e961e35450b70fad2a9cf/rsa-4.0-py2.py3-none-any.whl\n",
      "Collecting cachetools<5.0,>=2.0.0 (from google-auth<2,>=1.6.3->tensorboard<2.2.0,>=2.1.0->tensorflow)\n",
      "  Using cached https://files.pythonhosted.org/packages/08/6a/abf83cb951617793fd49c98cb9456860f5df66ff89883c8660aa0672d425/cachetools-4.0.0-py3-none-any.whl\n",
      "Collecting requests-oauthlib>=0.7.0 (from google-auth-oauthlib<0.5,>=0.4.1->tensorboard<2.2.0,>=2.1.0->tensorflow)\n",
      "  Using cached https://files.pythonhosted.org/packages/a3/12/b92740d845ab62ea4edf04d2f4164d82532b5a0b03836d4d4e71c6f3d379/requests_oauthlib-1.3.0-py2.py3-none-any.whl\n",
      "Collecting pyasn1<0.5.0,>=0.4.6 (from pyasn1-modules>=0.2.1->google-auth<2,>=1.6.3->tensorboard<2.2.0,>=2.1.0->tensorflow)\n",
      "  Using cached https://files.pythonhosted.org/packages/62/1e/a94a8d635fa3ce4cfc7f506003548d0a2447ae76fd5ca53932970fe3053f/pyasn1-0.4.8-py2.py3-none-any.whl\n",
      "Collecting oauthlib>=3.0.0 (from requests-oauthlib>=0.7.0->google-auth-oauthlib<0.5,>=0.4.1->tensorboard<2.2.0,>=2.1.0->tensorflow)\n",
      "  Using cached https://files.pythonhosted.org/packages/05/57/ce2e7a8fa7c0afb54a0581b14a65b56e62b5759dbc98e80627142b8a3704/oauthlib-3.1.0-py2.py3-none-any.whl\n",
      "Installing collected packages: six, setuptools, protobuf, numpy, scipy, absl-py, h5py, keras-applications, wheel, astor, keras-preprocessing, google-pasta, grpcio, idna, urllib3, chardet, certifi, requests, werkzeug, pyasn1, pyasn1-modules, rsa, cachetools, google-auth, markdown, oauthlib, requests-oauthlib, google-auth-oauthlib, tensorboard, termcolor, gast, opt-einsum, wrapt, tensorflow-estimator, tensorflow\n",
      "  Found existing installation: six 1.14.0\n",
      "    Uninstalling six-1.14.0:\n",
      "      Successfully uninstalled six-1.14.0\n",
      "  Found existing installation: setuptools 45.1.0\n",
      "    Uninstalling setuptools-45.1.0:\n",
      "      Successfully uninstalled setuptools-45.1.0\n",
      "  Found existing installation: protobuf 3.8.0\n",
      "    Uninstalling protobuf-3.8.0:\n",
      "      Successfully uninstalled protobuf-3.8.0\n",
      "  Found existing installation: numpy 1.18.1\n",
      "    Uninstalling numpy-1.18.1:\n",
      "      Successfully uninstalled numpy-1.18.1\n",
      "Note: you may need to restart the kernel to use updated packages.\n"
     ]
    },
    {
     "name": "stderr",
     "output_type": "stream",
     "text": [
      "tables 3.5.1 requires mock>=2.0, which is not installed.\n",
      "spyder 3.3.3 requires pyqt5<=5.12; python_version >= \"3\", which is not installed.\n",
      "astroid 2.2.5 requires typed-ast>=1.3.0; implementation_name == \"cpython\", which is not installed.\n",
      "Could not install packages due to an EnvironmentError: [WinError 5] Access is denied: 'c:\\\\users\\\\bme-4\\\\anaconda3\\\\lib\\\\site-packages\\\\~0mpy\\\\.libs\\\\libopenblas.PYQHXLVVQ7VESDPUVUADXEVJOBGHJPAY.gfortran-win_amd64.dll'\n",
      "Consider using the `--user` option or check the permissions.\n",
      "\n"
     ]
    }
   ],
   "source": [
    "pip install --force-reinstall tensorflow"
   ]
  },
  {
   "cell_type": "markdown",
   "metadata": {},
   "source": [
    "**sequential model**"
   ]
  },
  {
   "cell_type": "code",
   "execution_count": 17,
   "metadata": {},
   "outputs": [
    {
     "name": "stdout",
     "output_type": "stream",
     "text": [
      "WARNING:tensorflow:From c:\\Users\\BME-4\\Anaconda3\\lib\\site-packages\\keras\\backend\\tensorflow_backend.py:74: The name tf.get_default_graph is deprecated. Please use tf.compat.v1.get_default_graph instead.\n",
      "\n",
      "WARNING:tensorflow:From c:\\Users\\BME-4\\Anaconda3\\lib\\site-packages\\keras\\backend\\tensorflow_backend.py:517: The name tf.placeholder is deprecated. Please use tf.compat.v1.placeholder instead.\n",
      "\n",
      "WARNING:tensorflow:From c:\\Users\\BME-4\\Anaconda3\\lib\\site-packages\\keras\\backend\\tensorflow_backend.py:4138: The name tf.random_uniform is deprecated. Please use tf.random.uniform instead.\n",
      "\n",
      "WARNING:tensorflow:From c:\\Users\\BME-4\\Anaconda3\\lib\\site-packages\\keras\\backend\\tensorflow_backend.py:133: The name tf.placeholder_with_default is deprecated. Please use tf.compat.v1.placeholder_with_default instead.\n",
      "\n",
      "WARNING:tensorflow:From c:\\Users\\BME-4\\Anaconda3\\lib\\site-packages\\keras\\backend\\tensorflow_backend.py:3445: calling dropout (from tensorflow.python.ops.nn_ops) with keep_prob is deprecated and will be removed in a future version.\n",
      "Instructions for updating:\n",
      "Please use `rate` instead of `keep_prob`. Rate should be set to `rate = 1 - keep_prob`.\n",
      "WARNING:tensorflow:From c:\\Users\\BME-4\\Anaconda3\\lib\\site-packages\\keras\\optimizers.py:790: The name tf.train.Optimizer is deprecated. Please use tf.compat.v1.train.Optimizer instead.\n",
      "\n",
      "WARNING:tensorflow:From c:\\Users\\BME-4\\Anaconda3\\lib\\site-packages\\keras\\backend\\tensorflow_backend.py:3376: The name tf.log is deprecated. Please use tf.math.log instead.\n",
      "\n"
     ]
    },
    {
     "name": "stderr",
     "output_type": "stream",
     "text": [
      "Using TensorFlow backend.\n"
     ]
    },
    {
     "name": "stdout",
     "output_type": "stream",
     "text": [
      "WARNING:tensorflow:From c:\\Users\\BME-4\\Anaconda3\\lib\\site-packages\\tensorflow\\python\\ops\\nn_impl.py:180: add_dispatch_support.<locals>.wrapper (from tensorflow.python.ops.array_ops) is deprecated and will be removed in a future version.\n",
      "Instructions for updating:\n",
      "Use tf.where in 2.0, which has the same broadcast rule as np.where\n",
      "Epoch 1/25\n"
     ]
    },
    {
     "ename": "InternalError",
     "evalue": "2 root error(s) found.\n  (0) Internal: Blas GEMM launch failed : a.shape=(128, 48), b.shape=(48, 64), m=128, n=64, k=48\n\t [[{{node dense_1/MatMul}}]]\n\t [[metrics/acc/Mean_1/_63]]\n  (1) Internal: Blas GEMM launch failed : a.shape=(128, 48), b.shape=(48, 64), m=128, n=64, k=48\n\t [[{{node dense_1/MatMul}}]]\n0 successful operations.\n0 derived errors ignored.",
     "output_type": "error",
     "traceback": [
      "\u001b[1;31m---------------------------------------------------------------------------\u001b[0m",
      "\u001b[1;31mInternalError\u001b[0m                             Traceback (most recent call last)",
      "\u001b[1;32m<ipython-input-17-f27d9f71d345>\u001b[0m in \u001b[0;36m<module>\u001b[1;34m\u001b[0m\n\u001b[0;32m     18\u001b[0m model.fit(x_train, y_train,\n\u001b[0;32m     19\u001b[0m           \u001b[0mepochs\u001b[0m\u001b[1;33m=\u001b[0m\u001b[1;36m25\u001b[0m\u001b[1;33m,\u001b[0m\u001b[1;33m\u001b[0m\u001b[1;33m\u001b[0m\u001b[0m\n\u001b[1;32m---> 20\u001b[1;33m           batch_size=128)\n\u001b[0m\u001b[0;32m     21\u001b[0m \u001b[0mscore\u001b[0m \u001b[1;33m=\u001b[0m \u001b[0mmodel\u001b[0m\u001b[1;33m.\u001b[0m\u001b[0mevaluate\u001b[0m\u001b[1;33m(\u001b[0m\u001b[0mx_test\u001b[0m\u001b[1;33m,\u001b[0m \u001b[0my_test\u001b[0m\u001b[1;33m,\u001b[0m \u001b[0mbatch_size\u001b[0m\u001b[1;33m=\u001b[0m\u001b[1;36m128\u001b[0m\u001b[1;33m)\u001b[0m\u001b[1;33m\u001b[0m\u001b[1;33m\u001b[0m\u001b[0m\n",
      "\u001b[1;32mc:\\Users\\BME-4\\Anaconda3\\lib\\site-packages\\keras\\engine\\training.py\u001b[0m in \u001b[0;36mfit\u001b[1;34m(self, x, y, batch_size, epochs, verbose, callbacks, validation_split, validation_data, shuffle, class_weight, sample_weight, initial_epoch, steps_per_epoch, validation_steps, **kwargs)\u001b[0m\n\u001b[0;32m   1037\u001b[0m                                         \u001b[0minitial_epoch\u001b[0m\u001b[1;33m=\u001b[0m\u001b[0minitial_epoch\u001b[0m\u001b[1;33m,\u001b[0m\u001b[1;33m\u001b[0m\u001b[1;33m\u001b[0m\u001b[0m\n\u001b[0;32m   1038\u001b[0m                                         \u001b[0msteps_per_epoch\u001b[0m\u001b[1;33m=\u001b[0m\u001b[0msteps_per_epoch\u001b[0m\u001b[1;33m,\u001b[0m\u001b[1;33m\u001b[0m\u001b[1;33m\u001b[0m\u001b[0m\n\u001b[1;32m-> 1039\u001b[1;33m                                         validation_steps=validation_steps)\n\u001b[0m\u001b[0;32m   1040\u001b[0m \u001b[1;33m\u001b[0m\u001b[0m\n\u001b[0;32m   1041\u001b[0m     def evaluate(self, x=None, y=None,\n",
      "\u001b[1;32mc:\\Users\\BME-4\\Anaconda3\\lib\\site-packages\\keras\\engine\\training_arrays.py\u001b[0m in \u001b[0;36mfit_loop\u001b[1;34m(model, f, ins, out_labels, batch_size, epochs, verbose, callbacks, val_f, val_ins, shuffle, callback_metrics, initial_epoch, steps_per_epoch, validation_steps)\u001b[0m\n\u001b[0;32m    197\u001b[0m                     \u001b[0mins_batch\u001b[0m\u001b[1;33m[\u001b[0m\u001b[0mi\u001b[0m\u001b[1;33m]\u001b[0m \u001b[1;33m=\u001b[0m \u001b[0mins_batch\u001b[0m\u001b[1;33m[\u001b[0m\u001b[0mi\u001b[0m\u001b[1;33m]\u001b[0m\u001b[1;33m.\u001b[0m\u001b[0mtoarray\u001b[0m\u001b[1;33m(\u001b[0m\u001b[1;33m)\u001b[0m\u001b[1;33m\u001b[0m\u001b[1;33m\u001b[0m\u001b[0m\n\u001b[0;32m    198\u001b[0m \u001b[1;33m\u001b[0m\u001b[0m\n\u001b[1;32m--> 199\u001b[1;33m                 \u001b[0mouts\u001b[0m \u001b[1;33m=\u001b[0m \u001b[0mf\u001b[0m\u001b[1;33m(\u001b[0m\u001b[0mins_batch\u001b[0m\u001b[1;33m)\u001b[0m\u001b[1;33m\u001b[0m\u001b[1;33m\u001b[0m\u001b[0m\n\u001b[0m\u001b[0;32m    200\u001b[0m                 \u001b[0mouts\u001b[0m \u001b[1;33m=\u001b[0m \u001b[0mto_list\u001b[0m\u001b[1;33m(\u001b[0m\u001b[0mouts\u001b[0m\u001b[1;33m)\u001b[0m\u001b[1;33m\u001b[0m\u001b[1;33m\u001b[0m\u001b[0m\n\u001b[0;32m    201\u001b[0m                 \u001b[1;32mfor\u001b[0m \u001b[0ml\u001b[0m\u001b[1;33m,\u001b[0m \u001b[0mo\u001b[0m \u001b[1;32min\u001b[0m \u001b[0mzip\u001b[0m\u001b[1;33m(\u001b[0m\u001b[0mout_labels\u001b[0m\u001b[1;33m,\u001b[0m \u001b[0mouts\u001b[0m\u001b[1;33m)\u001b[0m\u001b[1;33m:\u001b[0m\u001b[1;33m\u001b[0m\u001b[1;33m\u001b[0m\u001b[0m\n",
      "\u001b[1;32mc:\\Users\\BME-4\\Anaconda3\\lib\\site-packages\\keras\\backend\\tensorflow_backend.py\u001b[0m in \u001b[0;36m__call__\u001b[1;34m(self, inputs)\u001b[0m\n\u001b[0;32m   2713\u001b[0m                 \u001b[1;32mreturn\u001b[0m \u001b[0mself\u001b[0m\u001b[1;33m.\u001b[0m\u001b[0m_legacy_call\u001b[0m\u001b[1;33m(\u001b[0m\u001b[0minputs\u001b[0m\u001b[1;33m)\u001b[0m\u001b[1;33m\u001b[0m\u001b[1;33m\u001b[0m\u001b[0m\n\u001b[0;32m   2714\u001b[0m \u001b[1;33m\u001b[0m\u001b[0m\n\u001b[1;32m-> 2715\u001b[1;33m             \u001b[1;32mreturn\u001b[0m \u001b[0mself\u001b[0m\u001b[1;33m.\u001b[0m\u001b[0m_call\u001b[0m\u001b[1;33m(\u001b[0m\u001b[0minputs\u001b[0m\u001b[1;33m)\u001b[0m\u001b[1;33m\u001b[0m\u001b[1;33m\u001b[0m\u001b[0m\n\u001b[0m\u001b[0;32m   2716\u001b[0m         \u001b[1;32melse\u001b[0m\u001b[1;33m:\u001b[0m\u001b[1;33m\u001b[0m\u001b[1;33m\u001b[0m\u001b[0m\n\u001b[0;32m   2717\u001b[0m             \u001b[1;32mif\u001b[0m \u001b[0mpy_any\u001b[0m\u001b[1;33m(\u001b[0m\u001b[0mis_tensor\u001b[0m\u001b[1;33m(\u001b[0m\u001b[0mx\u001b[0m\u001b[1;33m)\u001b[0m \u001b[1;32mfor\u001b[0m \u001b[0mx\u001b[0m \u001b[1;32min\u001b[0m \u001b[0minputs\u001b[0m\u001b[1;33m)\u001b[0m\u001b[1;33m:\u001b[0m\u001b[1;33m\u001b[0m\u001b[1;33m\u001b[0m\u001b[0m\n",
      "\u001b[1;32mc:\\Users\\BME-4\\Anaconda3\\lib\\site-packages\\keras\\backend\\tensorflow_backend.py\u001b[0m in \u001b[0;36m_call\u001b[1;34m(self, inputs)\u001b[0m\n\u001b[0;32m   2673\u001b[0m             \u001b[0mfetched\u001b[0m \u001b[1;33m=\u001b[0m \u001b[0mself\u001b[0m\u001b[1;33m.\u001b[0m\u001b[0m_callable_fn\u001b[0m\u001b[1;33m(\u001b[0m\u001b[1;33m*\u001b[0m\u001b[0marray_vals\u001b[0m\u001b[1;33m,\u001b[0m \u001b[0mrun_metadata\u001b[0m\u001b[1;33m=\u001b[0m\u001b[0mself\u001b[0m\u001b[1;33m.\u001b[0m\u001b[0mrun_metadata\u001b[0m\u001b[1;33m)\u001b[0m\u001b[1;33m\u001b[0m\u001b[1;33m\u001b[0m\u001b[0m\n\u001b[0;32m   2674\u001b[0m         \u001b[1;32melse\u001b[0m\u001b[1;33m:\u001b[0m\u001b[1;33m\u001b[0m\u001b[1;33m\u001b[0m\u001b[0m\n\u001b[1;32m-> 2675\u001b[1;33m             \u001b[0mfetched\u001b[0m \u001b[1;33m=\u001b[0m \u001b[0mself\u001b[0m\u001b[1;33m.\u001b[0m\u001b[0m_callable_fn\u001b[0m\u001b[1;33m(\u001b[0m\u001b[1;33m*\u001b[0m\u001b[0marray_vals\u001b[0m\u001b[1;33m)\u001b[0m\u001b[1;33m\u001b[0m\u001b[1;33m\u001b[0m\u001b[0m\n\u001b[0m\u001b[0;32m   2676\u001b[0m         \u001b[1;32mreturn\u001b[0m \u001b[0mfetched\u001b[0m\u001b[1;33m[\u001b[0m\u001b[1;33m:\u001b[0m\u001b[0mlen\u001b[0m\u001b[1;33m(\u001b[0m\u001b[0mself\u001b[0m\u001b[1;33m.\u001b[0m\u001b[0moutputs\u001b[0m\u001b[1;33m)\u001b[0m\u001b[1;33m]\u001b[0m\u001b[1;33m\u001b[0m\u001b[1;33m\u001b[0m\u001b[0m\n\u001b[0;32m   2677\u001b[0m \u001b[1;33m\u001b[0m\u001b[0m\n",
      "\u001b[1;32mc:\\Users\\BME-4\\Anaconda3\\lib\\site-packages\\tensorflow\\python\\client\\session.py\u001b[0m in \u001b[0;36m__call__\u001b[1;34m(self, *args, **kwargs)\u001b[0m\n\u001b[0;32m   1456\u001b[0m         ret = tf_session.TF_SessionRunCallable(self._session._session,\n\u001b[0;32m   1457\u001b[0m                                                \u001b[0mself\u001b[0m\u001b[1;33m.\u001b[0m\u001b[0m_handle\u001b[0m\u001b[1;33m,\u001b[0m \u001b[0margs\u001b[0m\u001b[1;33m,\u001b[0m\u001b[1;33m\u001b[0m\u001b[1;33m\u001b[0m\u001b[0m\n\u001b[1;32m-> 1458\u001b[1;33m                                                run_metadata_ptr)\n\u001b[0m\u001b[0;32m   1459\u001b[0m         \u001b[1;32mif\u001b[0m \u001b[0mrun_metadata\u001b[0m\u001b[1;33m:\u001b[0m\u001b[1;33m\u001b[0m\u001b[1;33m\u001b[0m\u001b[0m\n\u001b[0;32m   1460\u001b[0m           \u001b[0mproto_data\u001b[0m \u001b[1;33m=\u001b[0m \u001b[0mtf_session\u001b[0m\u001b[1;33m.\u001b[0m\u001b[0mTF_GetBuffer\u001b[0m\u001b[1;33m(\u001b[0m\u001b[0mrun_metadata_ptr\u001b[0m\u001b[1;33m)\u001b[0m\u001b[1;33m\u001b[0m\u001b[1;33m\u001b[0m\u001b[0m\n",
      "\u001b[1;31mInternalError\u001b[0m: 2 root error(s) found.\n  (0) Internal: Blas GEMM launch failed : a.shape=(128, 48), b.shape=(48, 64), m=128, n=64, k=48\n\t [[{{node dense_1/MatMul}}]]\n\t [[metrics/acc/Mean_1/_63]]\n  (1) Internal: Blas GEMM launch failed : a.shape=(128, 48), b.shape=(48, 64), m=128, n=64, k=48\n\t [[{{node dense_1/MatMul}}]]\n0 successful operations.\n0 derived errors ignored."
     ]
    }
   ],
   "source": [
    "import numpy as np\n",
    "from keras.models import Sequential\n",
    "from keras.layers import Dense, Dropout\n",
    "   \n",
    "\n",
    "\n",
    "\n",
    "model = Sequential()\n",
    "model.add(Dense(64, input_dim=48, activation='relu'))\n",
    "model.add(Dropout(0.5))\n",
    "model.add(Dense(64, activation='relu'))\n",
    "model.add(Dense(1, activation='sigmoid'))\n",
    "\n",
    "model.compile(loss='binary_crossentropy',\n",
    "              optimizer='rmsprop',\n",
    "              metrics=['accuracy'])\n",
    "\n",
    "model.fit(x_train, y_train,\n",
    "          epochs=25,\n",
    "          batch_size=128)\n",
    "score = model.evaluate(x_test, y_test, batch_size=128)"
   ]
  },
  {
   "cell_type": "markdown",
   "metadata": {},
   "source": [
    "**LSTM MODELLING**"
   ]
  },
  {
   "cell_type": "code",
   "execution_count": null,
   "metadata": {},
   "outputs": [],
   "source": [
    "from keras.models import Sequential\n",
    "from keras.layers import Dense, Dropout\n",
    "from keras.layers import Embedding\n",
    "from keras.layers import LSTM\n",
    "\n",
    "max_features = 1024\n",
    "\n",
    "model = Sequential()\n",
    "model.add(Embedding(max_features, output_dim=256))\n",
    "model.add(LSTM(128))\n",
    "model.add(Dropout(0.5))\n",
    "model.add(Dense(1, activation='sigmoid'))\n",
    "\n",
    "model.compile(loss='binary_crossentropy',\n",
    "              optimizer='rmsprop',\n",
    "              metrics=['accuracy'])\n",
    "\n",
    "model.fit(x_train, y_train, batch_size=2, epochs=10)\n",
    "score = model.evaluate(x_test, y_test, batch_size=16)"
   ]
  },
  {
   "cell_type": "code",
   "execution_count": null,
   "metadata": {},
   "outputs": [],
   "source": []
  },
  {
   "cell_type": "code",
   "execution_count": null,
   "metadata": {},
   "outputs": [],
   "source": []
  }
 ],
 "metadata": {
  "kernelspec": {
   "display_name": "Python 3",
   "language": "python",
   "name": "python3"
  },
  "language_info": {
   "codemirror_mode": {
    "name": "ipython",
    "version": 3
   },
   "file_extension": ".py",
   "mimetype": "text/x-python",
   "name": "python",
   "nbconvert_exporter": "python",
   "pygments_lexer": "ipython3",
   "version": "3.7.4"
  }
 },
 "nbformat": 4,
 "nbformat_minor": 2
}
